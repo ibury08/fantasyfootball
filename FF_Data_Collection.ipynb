{
 "cells": [
  {
   "cell_type": "code",
   "execution_count": 5,
   "metadata": {},
   "outputs": [],
   "source": [
    "import numpy as np\n",
    "import pandas as pd\n",
    "import seaborn as sns\n",
    "import json\n",
    "import psycopg2\n",
    "\n",
    "\n",
    "with open('config.json') as f:\n",
    "    conf = json.load(f)"
   ]
  },
  {
   "cell_type": "code",
   "execution_count": 6,
   "metadata": {},
   "outputs": [],
   "source": [
    "#Trying the database route\n",
    "conn_str = \"host={} dbname={} user={} password={}\".format(conf['host'],conf['database'], conf['user'], conf['passw'])\n",
    "conn = psycopg2.connect(conn_str)"
   ]
  },
  {
   "cell_type": "code",
   "execution_count": 7,
   "metadata": {},
   "outputs": [],
   "source": [
    "plays = pd.read_sql('select * from play_player ', con=conn)\n",
    "games = pd.read_sql('select * from game ', con=conn)\n",
    "players = pd.read_sql('select * from player ', con=conn)"
   ]
  },
  {
   "cell_type": "code",
   "execution_count": 8,
   "metadata": {},
   "outputs": [],
   "source": [
    "#dropping non-grouping columns + defensive fields. Might create a defensive scoring dataframe later.\n",
    "def_cols = []\n",
    "for d in plays.columns.values.tolist():\n",
    "    if d.startswith('defense'):\n",
    "        def_cols.append(d)\n",
    "\n",
    "def_cols.extend(('drive_id','play_id'))\n",
    "plays_dropped = plays.drop(columns=def_cols)\n"
   ]
  },
  {
   "cell_type": "code",
   "execution_count": 9,
   "metadata": {},
   "outputs": [],
   "source": [
    "#Aggregating stats to game-player level\n",
    "plays_sum = plays_dropped.groupby(by=['gsis_id','player_id','team']).sum().reset_index()"
   ]
  },
  {
   "cell_type": "code",
   "execution_count": 40,
   "metadata": {},
   "outputs": [],
   "source": [
    "#fixing inconsistent complete of name columns\n",
    "def fix_names(row):\n",
    "    \"\"\"This function looks up the chain of various name columns to fix null column issues\"\"\"\n",
    "    if not row['gsis_name']:\n",
    "        if not row['full_name']:\n",
    "            if not row['last_name']:\n",
    "                    return None\n",
    "            else:\n",
    "                if not row['first_name']:\n",
    "                    return row['first_name'][0]+'.'+row['last_name']\n",
    "                else:\n",
    "                    return row['last_name']\n",
    "        else:\n",
    "            return row['full_name']\n",
    "    else:\n",
    "        return row['gsis_name']"
   ]
  },
  {
   "cell_type": "code",
   "execution_count": 51,
   "metadata": {},
   "outputs": [],
   "source": [
    "#Applying fix_names function from above to create a new column\n",
    "players.loc[:,'name_fixed'] = players.apply(fix_names,axis=1)"
   ]
  },
  {
   "cell_type": "code",
   "execution_count": 52,
   "metadata": {},
   "outputs": [],
   "source": [
    "#dropping extra name columns and other unneccessary columbs now\n",
    "players_dropped = players[['name_fixed','player_id','position','years_pro','height','weight']]"
   ]
  },
  {
   "cell_type": "code",
   "execution_count": 53,
   "metadata": {},
   "outputs": [],
   "source": [
    "#joining players to aggregated plays\n",
    "pp = plays_sum.merge(players_dropped, on='player_id', how='left')"
   ]
  },
  {
   "cell_type": "code",
   "execution_count": 54,
   "metadata": {},
   "outputs": [],
   "source": [
    "#dropping unnecessary columns from games\n",
    "games_dropped = games[['gsis_id','start_time','week','day_of_week','season_year','season_type','home_team','away_team','home_score','away_score']]"
   ]
  },
  {
   "cell_type": "code",
   "execution_count": 55,
   "metadata": {},
   "outputs": [],
   "source": [
    "#joining players-plays to games\n",
    "ppg = pp.merge(games_dropped, on='gsis_id', how='left')"
   ]
  },
  {
   "cell_type": "code",
   "execution_count": 60,
   "metadata": {},
   "outputs": [],
   "source": [
    "ppg.to_csv('/Users/ianbury/player-game-stats.csv')"
   ]
  },
  {
   "cell_type": "code",
   "execution_count": null,
   "metadata": {},
   "outputs": [],
   "source": []
  }
 ],
 "metadata": {
  "kernelspec": {
   "display_name": "Python 2",
   "language": "python",
   "name": "python2"
  },
  "language_info": {
   "codemirror_mode": {
    "name": "ipython",
    "version": 2
   },
   "file_extension": ".py",
   "mimetype": "text/x-python",
   "name": "python",
   "nbconvert_exporter": "python",
   "pygments_lexer": "ipython2",
   "version": "2.7.15"
  }
 },
 "nbformat": 4,
 "nbformat_minor": 2
}
