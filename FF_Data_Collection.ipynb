{
 "cells": [
  {
   "cell_type": "code",
   "execution_count": 11,
   "metadata": {},
   "outputs": [],
   "source": [
    "import cellbell\n",
    "import numpy as np\n",
    "import pandas as pd\n",
    "import seaborn as sns\n",
    "import json\n",
    "import matplotlib.pyplot as plt\n",
    "import psycopg2\n",
    "from bs4 import BeautifulSoup\n",
    "import requests\n",
    "import re\n",
    "from sklearn.ensemble import RandomForestRegressor\n",
    "from constraint import *\n"
   ]
  },
  {
   "cell_type": "code",
   "execution_count": 210,
   "metadata": {
    "collapsed": true
   },
   "outputs": [],
   "source": [
    "pd.set_option('display.max_rows', 200)\n",
    "pd.set_option('display.max_columns', 100)\n",
    "pd.set_option('display.float_format', lambda x: '%.3f' % x)\n",
    "with open('config.json') as f:\n",
    "    conf = json.load(f)"
   ]
  },
  {
   "cell_type": "markdown",
   "metadata": {},
   "source": [
    "# Data Collection & Merging"
   ]
  },
  {
   "cell_type": "code",
   "execution_count": 3,
   "metadata": {
    "collapsed": true
   },
   "outputs": [],
   "source": [
    "#Trying the database route\n",
    "conn_str = \"host={} dbname={} user={} password={}\".format(conf['host'],conf['database'], conf['user'], conf['passw'])\n",
    "conn = psycopg2.connect(conn_str)"
   ]
  },
  {
   "cell_type": "code",
   "execution_count": 58,
   "metadata": {
    "collapsed": true
   },
   "outputs": [],
   "source": [
    "plays = pd.read_sql('select * from play_player ', con=conn)\n",
    "games = pd.read_sql('select * from game ', con=conn)\n",
    "players = pd.read_sql('select * from player ', con=conn)\n"
   ]
  },
  {
   "cell_type": "code",
   "execution_count": 6,
   "metadata": {
    "collapsed": true
   },
   "outputs": [],
   "source": [
    "teams = pd.read_sql('select * from team',con=conn)\n",
    "teams.to_csv('/Users/ianbury/Springboard/FantasyFootball/teams.csv')"
   ]
  },
  {
   "cell_type": "code",
   "execution_count": 23,
   "metadata": {
    "collapsed": true
   },
   "outputs": [],
   "source": [
    "teams = pd.read_csv('/Users/ianbury/Springboard/FantasyFootball/teams.csv')\n",
    "teams.drop('Unnamed: 0',axis=1,inplace=True)"
   ]
  },
  {
   "cell_type": "code",
   "execution_count": null,
   "metadata": {
    "collapsed": true
   },
   "outputs": [],
   "source": [
    "#dropping non-grouping columns + defensive fields. Might create a defensive scoring dataframe later.\n",
    "def_cols = []\n",
    "for d in plays.columns.values.tolist():\n",
    "    if d.startswith('defense'):\n",
    "        def_cols.append(d)\n",
    "\n",
    "def_cols.extend(('drive_id','play_id'))\n",
    "plays_dropped = plays.drop(columns=def_cols)\n"
   ]
  },
  {
   "cell_type": "code",
   "execution_count": null,
   "metadata": {
    "collapsed": true
   },
   "outputs": [],
   "source": [
    "#Aggregating stats to game-player level\n",
    "plays_sum = plays_dropped.groupby(by=['gsis_id','player_id','team']).sum().reset_index()"
   ]
  },
  {
   "cell_type": "code",
   "execution_count": null,
   "metadata": {
    "collapsed": true
   },
   "outputs": [],
   "source": [
    "#fixing inconsistent complete of name columns\n",
    "def fix_names(row):\n",
    "    \"\"\"This function looks up the chain of various name columns to fix null column issues\"\"\"\n",
    "    if not row['gsis_name']:\n",
    "        if not row['full_name']:\n",
    "            if not row['last_name']:\n",
    "                    return None\n",
    "            else:\n",
    "                if not row['first_name']:\n",
    "                    return row['first_name'][0]+'.'+row['last_name']\n",
    "                else:\n",
    "                    return row['last_name']\n",
    "        else:\n",
    "            return row['full_name']\n",
    "    else:\n",
    "        return row['gsis_name']"
   ]
  },
  {
   "cell_type": "code",
   "execution_count": null,
   "metadata": {
    "collapsed": true
   },
   "outputs": [],
   "source": [
    "#Applying fix_names function from above to create a new column\n",
    "players.loc[:,'name_fixed'] = players.apply(fix_names,axis=1)"
   ]
  },
  {
   "cell_type": "code",
   "execution_count": null,
   "metadata": {
    "collapsed": true
   },
   "outputs": [],
   "source": [
    "#dropping extra name columns and other unneccessary columns now\n",
    "players_dropped = players[['name_fixed','player_id','position','years_pro','height','weight']]"
   ]
  },
  {
   "cell_type": "code",
   "execution_count": null,
   "metadata": {
    "collapsed": true
   },
   "outputs": [],
   "source": [
    "#joining players to aggregated plays\n",
    "pp = plays_sum.merge(players_dropped, on='player_id', how='left')"
   ]
  },
  {
   "cell_type": "code",
   "execution_count": null,
   "metadata": {
    "collapsed": true
   },
   "outputs": [],
   "source": [
    "#dropping unnecessary columns from games\n",
    "games_dropped = games[['gsis_id','start_time','week','day_of_week','season_year','season_type','home_team','away_team','home_score','away_score']]"
   ]
  },
  {
   "cell_type": "code",
   "execution_count": null,
   "metadata": {
    "collapsed": true
   },
   "outputs": [],
   "source": [
    "#joining players-plays to games\n",
    "ppg = pp.merge(games_dropped, on='gsis_id', how='left')"
   ]
  },
  {
   "cell_type": "code",
   "execution_count": null,
   "metadata": {
    "collapsed": true
   },
   "outputs": [],
   "source": [
    "#Export data as a checkpoint\n",
    "ppg.to_csv('/Users/ianbury/player-game-stats.csv')\n",
    "%ding"
   ]
  },
  {
   "cell_type": "markdown",
   "metadata": {},
   "source": [
    "# EDA"
   ]
  },
  {
   "cell_type": "code",
   "execution_count": 215,
   "metadata": {},
   "outputs": [
    {
     "data": {
      "text/html": [
       "<div>\n",
       "<style scoped>\n",
       "    .dataframe tbody tr th:only-of-type {\n",
       "        vertical-align: middle;\n",
       "    }\n",
       "\n",
       "    .dataframe tbody tr th {\n",
       "        vertical-align: top;\n",
       "    }\n",
       "\n",
       "    .dataframe thead th {\n",
       "        text-align: right;\n",
       "    }\n",
       "</style>\n",
       "<table border=\"1\" class=\"dataframe\">\n",
       "  <thead>\n",
       "    <tr style=\"text-align: right;\">\n",
       "      <th></th>\n",
       "      <th>Unnamed: 0</th>\n",
       "      <th>gsis_id</th>\n",
       "      <th>player_id</th>\n",
       "      <th>team</th>\n",
       "      <th>fumbles_forced</th>\n",
       "      <th>fumbles_lost</th>\n",
       "      <th>fumbles_notforced</th>\n",
       "      <th>fumbles_oob</th>\n",
       "      <th>fumbles_rec</th>\n",
       "      <th>fumbles_rec_tds</th>\n",
       "      <th>fumbles_rec_yds</th>\n",
       "      <th>fumbles_tot</th>\n",
       "      <th>kicking_all_yds</th>\n",
       "      <th>kicking_downed</th>\n",
       "      <th>kicking_fga</th>\n",
       "      <th>kicking_fgb</th>\n",
       "      <th>kicking_fgm</th>\n",
       "      <th>kicking_fgm_yds</th>\n",
       "      <th>kicking_fgmissed</th>\n",
       "      <th>kicking_fgmissed_yds</th>\n",
       "      <th>kicking_i20</th>\n",
       "      <th>kicking_rec</th>\n",
       "      <th>kicking_rec_tds</th>\n",
       "      <th>kicking_tot</th>\n",
       "      <th>kicking_touchback</th>\n",
       "      <th>kicking_xpa</th>\n",
       "      <th>kicking_xpb</th>\n",
       "      <th>kicking_xpmade</th>\n",
       "      <th>kicking_xpmissed</th>\n",
       "      <th>kicking_yds</th>\n",
       "      <th>kickret_fair</th>\n",
       "      <th>kickret_oob</th>\n",
       "      <th>kickret_ret</th>\n",
       "      <th>kickret_tds</th>\n",
       "      <th>kickret_touchback</th>\n",
       "      <th>kickret_yds</th>\n",
       "      <th>passing_att</th>\n",
       "      <th>passing_cmp</th>\n",
       "      <th>passing_cmp_air_yds</th>\n",
       "      <th>passing_incmp</th>\n",
       "      <th>passing_incmp_air_yds</th>\n",
       "      <th>passing_int</th>\n",
       "      <th>passing_sk</th>\n",
       "      <th>passing_sk_yds</th>\n",
       "      <th>passing_tds</th>\n",
       "      <th>passing_twopta</th>\n",
       "      <th>passing_twoptm</th>\n",
       "      <th>passing_twoptmissed</th>\n",
       "      <th>passing_yds</th>\n",
       "      <th>punting_blk</th>\n",
       "      <th>punting_i20</th>\n",
       "      <th>punting_tot</th>\n",
       "      <th>punting_touchback</th>\n",
       "      <th>punting_yds</th>\n",
       "      <th>puntret_downed</th>\n",
       "      <th>puntret_fair</th>\n",
       "      <th>puntret_oob</th>\n",
       "      <th>puntret_tds</th>\n",
       "      <th>puntret_tot</th>\n",
       "      <th>puntret_touchback</th>\n",
       "      <th>puntret_yds</th>\n",
       "      <th>receiving_rec</th>\n",
       "      <th>receiving_tar</th>\n",
       "      <th>receiving_tds</th>\n",
       "      <th>receiving_twopta</th>\n",
       "      <th>receiving_twoptm</th>\n",
       "      <th>receiving_twoptmissed</th>\n",
       "      <th>receiving_yac_yds</th>\n",
       "      <th>receiving_yds</th>\n",
       "      <th>rushing_att</th>\n",
       "      <th>rushing_loss</th>\n",
       "      <th>rushing_loss_yds</th>\n",
       "      <th>rushing_tds</th>\n",
       "      <th>rushing_twopta</th>\n",
       "      <th>rushing_twoptm</th>\n",
       "      <th>rushing_twoptmissed</th>\n",
       "      <th>rushing_yds</th>\n",
       "      <th>name_fixed</th>\n",
       "      <th>position</th>\n",
       "      <th>years_pro</th>\n",
       "      <th>height</th>\n",
       "      <th>weight</th>\n",
       "      <th>start_time</th>\n",
       "      <th>week</th>\n",
       "      <th>day_of_week</th>\n",
       "      <th>season_year</th>\n",
       "      <th>season_type</th>\n",
       "      <th>home_team</th>\n",
       "      <th>away_team</th>\n",
       "      <th>home_score</th>\n",
       "      <th>away_score</th>\n",
       "    </tr>\n",
       "  </thead>\n",
       "  <tbody>\n",
       "    <tr>\n",
       "      <th>0</th>\n",
       "      <td>0</td>\n",
       "      <td>2009080950</td>\n",
       "      <td>00-0003292</td>\n",
       "      <td>BUF</td>\n",
       "      <td>0</td>\n",
       "      <td>0</td>\n",
       "      <td>0</td>\n",
       "      <td>0</td>\n",
       "      <td>0</td>\n",
       "      <td>0</td>\n",
       "      <td>0</td>\n",
       "      <td>0</td>\n",
       "      <td>0</td>\n",
       "      <td>0</td>\n",
       "      <td>0</td>\n",
       "      <td>0</td>\n",
       "      <td>0</td>\n",
       "      <td>0</td>\n",
       "      <td>0</td>\n",
       "      <td>0</td>\n",
       "      <td>0</td>\n",
       "      <td>0</td>\n",
       "      <td>0</td>\n",
       "      <td>0</td>\n",
       "      <td>0</td>\n",
       "      <td>0</td>\n",
       "      <td>0</td>\n",
       "      <td>0</td>\n",
       "      <td>0</td>\n",
       "      <td>0</td>\n",
       "      <td>0</td>\n",
       "      <td>0</td>\n",
       "      <td>0</td>\n",
       "      <td>0</td>\n",
       "      <td>0</td>\n",
       "      <td>0</td>\n",
       "      <td>11</td>\n",
       "      <td>7</td>\n",
       "      <td>33</td>\n",
       "      <td>4</td>\n",
       "      <td>30</td>\n",
       "      <td>1</td>\n",
       "      <td>0</td>\n",
       "      <td>0</td>\n",
       "      <td>0</td>\n",
       "      <td>0</td>\n",
       "      <td>0</td>\n",
       "      <td>0</td>\n",
       "      <td>82</td>\n",
       "      <td>0</td>\n",
       "      <td>0</td>\n",
       "      <td>0</td>\n",
       "      <td>0</td>\n",
       "      <td>0</td>\n",
       "      <td>0</td>\n",
       "      <td>0</td>\n",
       "      <td>0</td>\n",
       "      <td>0</td>\n",
       "      <td>0</td>\n",
       "      <td>0</td>\n",
       "      <td>0</td>\n",
       "      <td>0</td>\n",
       "      <td>0</td>\n",
       "      <td>0</td>\n",
       "      <td>0</td>\n",
       "      <td>0</td>\n",
       "      <td>0</td>\n",
       "      <td>0</td>\n",
       "      <td>0</td>\n",
       "      <td>0</td>\n",
       "      <td>0</td>\n",
       "      <td>0</td>\n",
       "      <td>0</td>\n",
       "      <td>0</td>\n",
       "      <td>0</td>\n",
       "      <td>0</td>\n",
       "      <td>0</td>\n",
       "      <td>K.Collins</td>\n",
       "      <td>UNK</td>\n",
       "      <td>17.000</td>\n",
       "      <td>77.000</td>\n",
       "      <td>247.000</td>\n",
       "      <td>2009-08-10</td>\n",
       "      <td>0</td>\n",
       "      <td>Sunday</td>\n",
       "      <td>2009</td>\n",
       "      <td>Preseason</td>\n",
       "      <td>TEN</td>\n",
       "      <td>BUF</td>\n",
       "      <td>21</td>\n",
       "      <td>18</td>\n",
       "    </tr>\n",
       "    <tr>\n",
       "      <th>1</th>\n",
       "      <td>1</td>\n",
       "      <td>2009080950</td>\n",
       "      <td>00-0009056</td>\n",
       "      <td>BUF</td>\n",
       "      <td>0</td>\n",
       "      <td>0</td>\n",
       "      <td>0</td>\n",
       "      <td>0</td>\n",
       "      <td>0</td>\n",
       "      <td>0</td>\n",
       "      <td>0</td>\n",
       "      <td>0</td>\n",
       "      <td>0</td>\n",
       "      <td>0</td>\n",
       "      <td>0</td>\n",
       "      <td>0</td>\n",
       "      <td>0</td>\n",
       "      <td>0</td>\n",
       "      <td>0</td>\n",
       "      <td>0</td>\n",
       "      <td>0</td>\n",
       "      <td>0</td>\n",
       "      <td>0</td>\n",
       "      <td>0</td>\n",
       "      <td>0</td>\n",
       "      <td>0</td>\n",
       "      <td>0</td>\n",
       "      <td>0</td>\n",
       "      <td>0</td>\n",
       "      <td>0</td>\n",
       "      <td>0</td>\n",
       "      <td>0</td>\n",
       "      <td>0</td>\n",
       "      <td>0</td>\n",
       "      <td>0</td>\n",
       "      <td>0</td>\n",
       "      <td>0</td>\n",
       "      <td>0</td>\n",
       "      <td>0</td>\n",
       "      <td>0</td>\n",
       "      <td>0</td>\n",
       "      <td>0</td>\n",
       "      <td>0</td>\n",
       "      <td>0</td>\n",
       "      <td>0</td>\n",
       "      <td>0</td>\n",
       "      <td>0</td>\n",
       "      <td>0</td>\n",
       "      <td>0</td>\n",
       "      <td>0</td>\n",
       "      <td>0</td>\n",
       "      <td>0</td>\n",
       "      <td>0</td>\n",
       "      <td>0</td>\n",
       "      <td>0</td>\n",
       "      <td>0</td>\n",
       "      <td>0</td>\n",
       "      <td>0</td>\n",
       "      <td>0</td>\n",
       "      <td>0</td>\n",
       "      <td>0</td>\n",
       "      <td>0</td>\n",
       "      <td>0</td>\n",
       "      <td>0</td>\n",
       "      <td>0</td>\n",
       "      <td>0</td>\n",
       "      <td>0</td>\n",
       "      <td>0</td>\n",
       "      <td>0</td>\n",
       "      <td>0</td>\n",
       "      <td>0</td>\n",
       "      <td>0</td>\n",
       "      <td>0</td>\n",
       "      <td>0</td>\n",
       "      <td>0</td>\n",
       "      <td>0</td>\n",
       "      <td>0</td>\n",
       "      <td>J.Kearse</td>\n",
       "      <td>UNK</td>\n",
       "      <td>11.000</td>\n",
       "      <td>76.000</td>\n",
       "      <td>265.000</td>\n",
       "      <td>2009-08-10</td>\n",
       "      <td>0</td>\n",
       "      <td>Sunday</td>\n",
       "      <td>2009</td>\n",
       "      <td>Preseason</td>\n",
       "      <td>TEN</td>\n",
       "      <td>BUF</td>\n",
       "      <td>21</td>\n",
       "      <td>18</td>\n",
       "    </tr>\n",
       "    <tr>\n",
       "      <th>2</th>\n",
       "      <td>2</td>\n",
       "      <td>2009080950</td>\n",
       "      <td>00-0011626</td>\n",
       "      <td>BUF</td>\n",
       "      <td>0</td>\n",
       "      <td>0</td>\n",
       "      <td>0</td>\n",
       "      <td>0</td>\n",
       "      <td>0</td>\n",
       "      <td>0</td>\n",
       "      <td>0</td>\n",
       "      <td>0</td>\n",
       "      <td>0</td>\n",
       "      <td>0</td>\n",
       "      <td>0</td>\n",
       "      <td>0</td>\n",
       "      <td>0</td>\n",
       "      <td>0</td>\n",
       "      <td>0</td>\n",
       "      <td>0</td>\n",
       "      <td>0</td>\n",
       "      <td>0</td>\n",
       "      <td>0</td>\n",
       "      <td>0</td>\n",
       "      <td>0</td>\n",
       "      <td>0</td>\n",
       "      <td>0</td>\n",
       "      <td>0</td>\n",
       "      <td>0</td>\n",
       "      <td>0</td>\n",
       "      <td>0</td>\n",
       "      <td>0</td>\n",
       "      <td>0</td>\n",
       "      <td>0</td>\n",
       "      <td>0</td>\n",
       "      <td>0</td>\n",
       "      <td>2</td>\n",
       "      <td>2</td>\n",
       "      <td>25</td>\n",
       "      <td>0</td>\n",
       "      <td>0</td>\n",
       "      <td>0</td>\n",
       "      <td>0</td>\n",
       "      <td>0</td>\n",
       "      <td>0</td>\n",
       "      <td>0</td>\n",
       "      <td>0</td>\n",
       "      <td>0</td>\n",
       "      <td>27</td>\n",
       "      <td>0</td>\n",
       "      <td>1</td>\n",
       "      <td>4</td>\n",
       "      <td>0</td>\n",
       "      <td>183</td>\n",
       "      <td>0</td>\n",
       "      <td>0</td>\n",
       "      <td>0</td>\n",
       "      <td>0</td>\n",
       "      <td>0</td>\n",
       "      <td>0</td>\n",
       "      <td>0</td>\n",
       "      <td>0</td>\n",
       "      <td>0</td>\n",
       "      <td>0</td>\n",
       "      <td>0</td>\n",
       "      <td>0</td>\n",
       "      <td>0</td>\n",
       "      <td>0</td>\n",
       "      <td>0</td>\n",
       "      <td>0</td>\n",
       "      <td>0</td>\n",
       "      <td>0</td>\n",
       "      <td>0</td>\n",
       "      <td>0</td>\n",
       "      <td>0</td>\n",
       "      <td>0</td>\n",
       "      <td>0</td>\n",
       "      <td>B.Moorman</td>\n",
       "      <td>UNK</td>\n",
       "      <td>14.000</td>\n",
       "      <td>72.000</td>\n",
       "      <td>174.000</td>\n",
       "      <td>2009-08-10</td>\n",
       "      <td>0</td>\n",
       "      <td>Sunday</td>\n",
       "      <td>2009</td>\n",
       "      <td>Preseason</td>\n",
       "      <td>TEN</td>\n",
       "      <td>BUF</td>\n",
       "      <td>21</td>\n",
       "      <td>18</td>\n",
       "    </tr>\n",
       "    <tr>\n",
       "      <th>3</th>\n",
       "      <td>3</td>\n",
       "      <td>2009080950</td>\n",
       "      <td>00-0012478</td>\n",
       "      <td>BUF</td>\n",
       "      <td>0</td>\n",
       "      <td>0</td>\n",
       "      <td>0</td>\n",
       "      <td>0</td>\n",
       "      <td>0</td>\n",
       "      <td>0</td>\n",
       "      <td>0</td>\n",
       "      <td>0</td>\n",
       "      <td>0</td>\n",
       "      <td>0</td>\n",
       "      <td>0</td>\n",
       "      <td>0</td>\n",
       "      <td>0</td>\n",
       "      <td>0</td>\n",
       "      <td>0</td>\n",
       "      <td>0</td>\n",
       "      <td>0</td>\n",
       "      <td>0</td>\n",
       "      <td>0</td>\n",
       "      <td>0</td>\n",
       "      <td>0</td>\n",
       "      <td>0</td>\n",
       "      <td>0</td>\n",
       "      <td>0</td>\n",
       "      <td>0</td>\n",
       "      <td>0</td>\n",
       "      <td>0</td>\n",
       "      <td>0</td>\n",
       "      <td>0</td>\n",
       "      <td>0</td>\n",
       "      <td>0</td>\n",
       "      <td>0</td>\n",
       "      <td>0</td>\n",
       "      <td>0</td>\n",
       "      <td>0</td>\n",
       "      <td>0</td>\n",
       "      <td>0</td>\n",
       "      <td>0</td>\n",
       "      <td>0</td>\n",
       "      <td>0</td>\n",
       "      <td>0</td>\n",
       "      <td>0</td>\n",
       "      <td>0</td>\n",
       "      <td>0</td>\n",
       "      <td>0</td>\n",
       "      <td>0</td>\n",
       "      <td>0</td>\n",
       "      <td>0</td>\n",
       "      <td>0</td>\n",
       "      <td>0</td>\n",
       "      <td>0</td>\n",
       "      <td>0</td>\n",
       "      <td>0</td>\n",
       "      <td>0</td>\n",
       "      <td>0</td>\n",
       "      <td>0</td>\n",
       "      <td>0</td>\n",
       "      <td>2</td>\n",
       "      <td>2</td>\n",
       "      <td>0</td>\n",
       "      <td>0</td>\n",
       "      <td>0</td>\n",
       "      <td>0</td>\n",
       "      <td>6</td>\n",
       "      <td>27</td>\n",
       "      <td>0</td>\n",
       "      <td>0</td>\n",
       "      <td>0</td>\n",
       "      <td>0</td>\n",
       "      <td>0</td>\n",
       "      <td>0</td>\n",
       "      <td>0</td>\n",
       "      <td>0</td>\n",
       "      <td>T.Owens</td>\n",
       "      <td>UNK</td>\n",
       "      <td>16.000</td>\n",
       "      <td>75.000</td>\n",
       "      <td>224.000</td>\n",
       "      <td>2009-08-10</td>\n",
       "      <td>0</td>\n",
       "      <td>Sunday</td>\n",
       "      <td>2009</td>\n",
       "      <td>Preseason</td>\n",
       "      <td>TEN</td>\n",
       "      <td>BUF</td>\n",
       "      <td>21</td>\n",
       "      <td>18</td>\n",
       "    </tr>\n",
       "    <tr>\n",
       "      <th>4</th>\n",
       "      <td>4</td>\n",
       "      <td>2009080950</td>\n",
       "      <td>00-0019310</td>\n",
       "      <td>BUF</td>\n",
       "      <td>0</td>\n",
       "      <td>0</td>\n",
       "      <td>0</td>\n",
       "      <td>0</td>\n",
       "      <td>0</td>\n",
       "      <td>0</td>\n",
       "      <td>0</td>\n",
       "      <td>0</td>\n",
       "      <td>0</td>\n",
       "      <td>0</td>\n",
       "      <td>3</td>\n",
       "      <td>0</td>\n",
       "      <td>3</td>\n",
       "      <td>119</td>\n",
       "      <td>0</td>\n",
       "      <td>0</td>\n",
       "      <td>1</td>\n",
       "      <td>0</td>\n",
       "      <td>0</td>\n",
       "      <td>4</td>\n",
       "      <td>0</td>\n",
       "      <td>0</td>\n",
       "      <td>0</td>\n",
       "      <td>0</td>\n",
       "      <td>0</td>\n",
       "      <td>261</td>\n",
       "      <td>0</td>\n",
       "      <td>0</td>\n",
       "      <td>0</td>\n",
       "      <td>0</td>\n",
       "      <td>0</td>\n",
       "      <td>0</td>\n",
       "      <td>0</td>\n",
       "      <td>0</td>\n",
       "      <td>0</td>\n",
       "      <td>0</td>\n",
       "      <td>0</td>\n",
       "      <td>0</td>\n",
       "      <td>0</td>\n",
       "      <td>0</td>\n",
       "      <td>0</td>\n",
       "      <td>0</td>\n",
       "      <td>0</td>\n",
       "      <td>0</td>\n",
       "      <td>0</td>\n",
       "      <td>0</td>\n",
       "      <td>0</td>\n",
       "      <td>0</td>\n",
       "      <td>0</td>\n",
       "      <td>0</td>\n",
       "      <td>0</td>\n",
       "      <td>0</td>\n",
       "      <td>0</td>\n",
       "      <td>0</td>\n",
       "      <td>0</td>\n",
       "      <td>0</td>\n",
       "      <td>0</td>\n",
       "      <td>0</td>\n",
       "      <td>0</td>\n",
       "      <td>0</td>\n",
       "      <td>0</td>\n",
       "      <td>0</td>\n",
       "      <td>0</td>\n",
       "      <td>0</td>\n",
       "      <td>0</td>\n",
       "      <td>0</td>\n",
       "      <td>0</td>\n",
       "      <td>0</td>\n",
       "      <td>0</td>\n",
       "      <td>0</td>\n",
       "      <td>0</td>\n",
       "      <td>0</td>\n",
       "      <td>0</td>\n",
       "      <td>R.Lindell</td>\n",
       "      <td>UNK</td>\n",
       "      <td>14.000</td>\n",
       "      <td>75.000</td>\n",
       "      <td>227.000</td>\n",
       "      <td>2009-08-10</td>\n",
       "      <td>0</td>\n",
       "      <td>Sunday</td>\n",
       "      <td>2009</td>\n",
       "      <td>Preseason</td>\n",
       "      <td>TEN</td>\n",
       "      <td>BUF</td>\n",
       "      <td>21</td>\n",
       "      <td>18</td>\n",
       "    </tr>\n",
       "  </tbody>\n",
       "</table>\n",
       "</div>"
      ],
      "text/plain": [
       "   Unnamed: 0     gsis_id   player_id team  fumbles_forced  fumbles_lost  \\\n",
       "0           0  2009080950  00-0003292  BUF               0             0   \n",
       "1           1  2009080950  00-0009056  BUF               0             0   \n",
       "2           2  2009080950  00-0011626  BUF               0             0   \n",
       "3           3  2009080950  00-0012478  BUF               0             0   \n",
       "4           4  2009080950  00-0019310  BUF               0             0   \n",
       "\n",
       "   fumbles_notforced  fumbles_oob  fumbles_rec  fumbles_rec_tds  \\\n",
       "0                  0            0            0                0   \n",
       "1                  0            0            0                0   \n",
       "2                  0            0            0                0   \n",
       "3                  0            0            0                0   \n",
       "4                  0            0            0                0   \n",
       "\n",
       "   fumbles_rec_yds  fumbles_tot  kicking_all_yds  kicking_downed  kicking_fga  \\\n",
       "0                0            0                0               0            0   \n",
       "1                0            0                0               0            0   \n",
       "2                0            0                0               0            0   \n",
       "3                0            0                0               0            0   \n",
       "4                0            0                0               0            3   \n",
       "\n",
       "   kicking_fgb  kicking_fgm  kicking_fgm_yds  kicking_fgmissed  \\\n",
       "0            0            0                0                 0   \n",
       "1            0            0                0                 0   \n",
       "2            0            0                0                 0   \n",
       "3            0            0                0                 0   \n",
       "4            0            3              119                 0   \n",
       "\n",
       "   kicking_fgmissed_yds  kicking_i20  kicking_rec  kicking_rec_tds  \\\n",
       "0                     0            0            0                0   \n",
       "1                     0            0            0                0   \n",
       "2                     0            0            0                0   \n",
       "3                     0            0            0                0   \n",
       "4                     0            1            0                0   \n",
       "\n",
       "   kicking_tot  kicking_touchback  kicking_xpa  kicking_xpb  kicking_xpmade  \\\n",
       "0            0                  0            0            0               0   \n",
       "1            0                  0            0            0               0   \n",
       "2            0                  0            0            0               0   \n",
       "3            0                  0            0            0               0   \n",
       "4            4                  0            0            0               0   \n",
       "\n",
       "   kicking_xpmissed  kicking_yds  kickret_fair  kickret_oob  kickret_ret  \\\n",
       "0                 0            0             0            0            0   \n",
       "1                 0            0             0            0            0   \n",
       "2                 0            0             0            0            0   \n",
       "3                 0            0             0            0            0   \n",
       "4                 0          261             0            0            0   \n",
       "\n",
       "   kickret_tds  kickret_touchback  kickret_yds  passing_att  passing_cmp  \\\n",
       "0            0                  0            0           11            7   \n",
       "1            0                  0            0            0            0   \n",
       "2            0                  0            0            2            2   \n",
       "3            0                  0            0            0            0   \n",
       "4            0                  0            0            0            0   \n",
       "\n",
       "   passing_cmp_air_yds  passing_incmp  passing_incmp_air_yds  passing_int  \\\n",
       "0                   33              4                     30            1   \n",
       "1                    0              0                      0            0   \n",
       "2                   25              0                      0            0   \n",
       "3                    0              0                      0            0   \n",
       "4                    0              0                      0            0   \n",
       "\n",
       "   passing_sk  passing_sk_yds  passing_tds  passing_twopta  passing_twoptm  \\\n",
       "0           0               0            0               0               0   \n",
       "1           0               0            0               0               0   \n",
       "2           0               0            0               0               0   \n",
       "3           0               0            0               0               0   \n",
       "4           0               0            0               0               0   \n",
       "\n",
       "   passing_twoptmissed  passing_yds  punting_blk  punting_i20  punting_tot  \\\n",
       "0                    0           82            0            0            0   \n",
       "1                    0            0            0            0            0   \n",
       "2                    0           27            0            1            4   \n",
       "3                    0            0            0            0            0   \n",
       "4                    0            0            0            0            0   \n",
       "\n",
       "   punting_touchback  punting_yds  puntret_downed  puntret_fair  puntret_oob  \\\n",
       "0                  0            0               0             0            0   \n",
       "1                  0            0               0             0            0   \n",
       "2                  0          183               0             0            0   \n",
       "3                  0            0               0             0            0   \n",
       "4                  0            0               0             0            0   \n",
       "\n",
       "   puntret_tds  puntret_tot  puntret_touchback  puntret_yds  receiving_rec  \\\n",
       "0            0            0                  0            0              0   \n",
       "1            0            0                  0            0              0   \n",
       "2            0            0                  0            0              0   \n",
       "3            0            0                  0            0              2   \n",
       "4            0            0                  0            0              0   \n",
       "\n",
       "   receiving_tar  receiving_tds  receiving_twopta  receiving_twoptm  \\\n",
       "0              0              0                 0                 0   \n",
       "1              0              0                 0                 0   \n",
       "2              0              0                 0                 0   \n",
       "3              2              0                 0                 0   \n",
       "4              0              0                 0                 0   \n",
       "\n",
       "   receiving_twoptmissed  receiving_yac_yds  receiving_yds  rushing_att  \\\n",
       "0                      0                  0              0            0   \n",
       "1                      0                  0              0            0   \n",
       "2                      0                  0              0            0   \n",
       "3                      0                  6             27            0   \n",
       "4                      0                  0              0            0   \n",
       "\n",
       "   rushing_loss  rushing_loss_yds  rushing_tds  rushing_twopta  \\\n",
       "0             0                 0            0               0   \n",
       "1             0                 0            0               0   \n",
       "2             0                 0            0               0   \n",
       "3             0                 0            0               0   \n",
       "4             0                 0            0               0   \n",
       "\n",
       "   rushing_twoptm  rushing_twoptmissed  rushing_yds name_fixed position  \\\n",
       "0               0                    0            0  K.Collins      UNK   \n",
       "1               0                    0            0   J.Kearse      UNK   \n",
       "2               0                    0            0  B.Moorman      UNK   \n",
       "3               0                    0            0    T.Owens      UNK   \n",
       "4               0                    0            0  R.Lindell      UNK   \n",
       "\n",
       "   years_pro  height  weight start_time  week day_of_week  season_year  \\\n",
       "0     17.000  77.000 247.000 2009-08-10     0      Sunday         2009   \n",
       "1     11.000  76.000 265.000 2009-08-10     0      Sunday         2009   \n",
       "2     14.000  72.000 174.000 2009-08-10     0      Sunday         2009   \n",
       "3     16.000  75.000 224.000 2009-08-10     0      Sunday         2009   \n",
       "4     14.000  75.000 227.000 2009-08-10     0      Sunday         2009   \n",
       "\n",
       "  season_type home_team away_team  home_score  away_score  \n",
       "0   Preseason       TEN       BUF          21          18  \n",
       "1   Preseason       TEN       BUF          21          18  \n",
       "2   Preseason       TEN       BUF          21          18  \n",
       "3   Preseason       TEN       BUF          21          18  \n",
       "4   Preseason       TEN       BUF          21          18  "
      ]
     },
     "execution_count": 215,
     "metadata": {},
     "output_type": "execute_result"
    }
   ],
   "source": [
    "#Loading from checkpoint\n",
    "ppg = pd.read_csv('/Users/ianbury/Springboard/FantasyFootball/player-game-stats.csv', parse_dates=['start_time'])\n",
    "ppg.head()"
   ]
  },
  {
   "cell_type": "markdown",
   "metadata": {},
   "source": [
    "# Translating Stats to Fantasy Points"
   ]
  },
  {
   "cell_type": "code",
   "execution_count": null,
   "metadata": {
    "collapsed": true
   },
   "outputs": [],
   "source": [
    "#Might add a config file here to set your league's settings in the future\n"
   ]
  },
  {
   "cell_type": "code",
   "execution_count": null,
   "metadata": {
    "collapsed": true
   },
   "outputs": [],
   "source": []
  },
  {
   "cell_type": "code",
   "execution_count": 218,
   "metadata": {
    "collapsed": true
   },
   "outputs": [],
   "source": [
    "#adding list of relevant columns to scoring\n",
    "scoring_cols = ['fantasy_score',\n",
    "                'fumbles_rec_tds',\n",
    "                'fumbles_lost',\n",
    "                'passing_int',\n",
    "                'passing_yds',\n",
    "                'passing_tds',\n",
    "                'passing_twoptm',\n",
    "                'receiving_rec',\n",
    "                'receiving_tds',\n",
    "                'receiving_twoptm',\n",
    "                'receiving_yds',\n",
    "                'rushing_yds',\n",
    "                'rushing_tds',\n",
    "                'rushing_twoptm',\n",
    "                'kicking_rec_tds',\n",
    "                'puntret_tds',\n",
    "                'receiving_tar',\n",
    "                'rushing_att',\n",
    "                'passing_att'\n",
    "                    ]"
   ]
  },
  {
   "cell_type": "code",
   "execution_count": 219,
   "metadata": {
    "collapsed": true
   },
   "outputs": [],
   "source": [
    "#List of relevant non-scoring columns\n",
    "feature_cols=['gsis_id',\n",
    " 'player_id',\n",
    " 'team',\n",
    " 'name_fixed',\n",
    " 'position',\n",
    " 'years_pro',\n",
    " 'height',\n",
    " 'weight',\n",
    " 'start_time',\n",
    " 'week',\n",
    " 'day_of_week',\n",
    " 'season_year',\n",
    " 'season_type',\n",
    " 'home_team',\n",
    " 'away_team',\n",
    " 'home_score',\n",
    " 'away_score']"
   ]
  },
  {
   "cell_type": "code",
   "execution_count": 220,
   "metadata": {
    "collapsed": true
   },
   "outputs": [],
   "source": [
    "def scoring(row):\n",
    "    \"\"\"This function take all the columns relevant for scoring and apply their point values, \n",
    "    resulting in a fantasy score for each player-game\"\"\"\n",
    "    passing = row['passing_int']*(-1)+row['passing_yds']*0.04+row['passing_tds']*4+row['passing_twoptm']*2\n",
    "    rushing = row['rushing_yds']*0.1+row['rushing_twoptm']*2+row['rushing_tds']*6\n",
    "    receiving = row['receiving_twoptm']*2+row['receiving_tds']*6+row['receiving_yds']*0.1+row['receiving_rec']*0.5\n",
    "    fumbles = row['fumbles_rec_tds']*6+row['fumbles_lost']*(-2)\n",
    "    returns = row['kicking_rec_tds']*6+row['puntret_tds']*6\n",
    "   \n",
    "    score = passing+rushing+receiving+fumbles+returns\n",
    "    \n",
    "\n",
    "    return score"
   ]
  },
  {
   "cell_type": "code",
   "execution_count": 221,
   "metadata": {
    "collapsed": true
   },
   "outputs": [],
   "source": [
    "#Applying scoring\n",
    "ppg['fantasy_score']=ppg.apply(scoring,axis=1)"
   ]
  },
  {
   "cell_type": "code",
   "execution_count": 222,
   "metadata": {
    "collapsed": true
   },
   "outputs": [],
   "source": [
    "#dropping unnecessary columns\n",
    "ppg = ppg[feature_cols+scoring_cols]\n"
   ]
  },
  {
   "cell_type": "code",
   "execution_count": 223,
   "metadata": {},
   "outputs": [
    {
     "data": {
      "text/html": [
       "<div>\n",
       "<style scoped>\n",
       "    .dataframe tbody tr th:only-of-type {\n",
       "        vertical-align: middle;\n",
       "    }\n",
       "\n",
       "    .dataframe tbody tr th {\n",
       "        vertical-align: top;\n",
       "    }\n",
       "\n",
       "    .dataframe thead th {\n",
       "        text-align: right;\n",
       "    }\n",
       "</style>\n",
       "<table border=\"1\" class=\"dataframe\">\n",
       "  <thead>\n",
       "    <tr style=\"text-align: right;\">\n",
       "      <th></th>\n",
       "      <th>start_time</th>\n",
       "      <th>home_team</th>\n",
       "      <th>away_team</th>\n",
       "    </tr>\n",
       "  </thead>\n",
       "  <tbody>\n",
       "    <tr>\n",
       "      <th>190998</th>\n",
       "      <td>2017-08-19 02:00:00</td>\n",
       "      <td>SEA</td>\n",
       "      <td>MIN</td>\n",
       "    </tr>\n",
       "    <tr>\n",
       "      <th>196874</th>\n",
       "      <td>2017-09-17 20:25:00</td>\n",
       "      <td>DEN</td>\n",
       "      <td>DAL</td>\n",
       "    </tr>\n",
       "    <tr>\n",
       "      <th>106052</th>\n",
       "      <td>2013-10-07 00:30:00</td>\n",
       "      <td>SF</td>\n",
       "      <td>HOU</td>\n",
       "    </tr>\n",
       "    <tr>\n",
       "      <th>21266</th>\n",
       "      <td>2009-12-27 18:00:00</td>\n",
       "      <td>CLE</td>\n",
       "      <td>OAK</td>\n",
       "    </tr>\n",
       "    <tr>\n",
       "      <th>207986</th>\n",
       "      <td>2017-12-10 18:00:00</td>\n",
       "      <td>CLE</td>\n",
       "      <td>GB</td>\n",
       "    </tr>\n",
       "    <tr>\n",
       "      <th>147144</th>\n",
       "      <td>2015-08-30 01:00:00</td>\n",
       "      <td>DEN</td>\n",
       "      <td>SF</td>\n",
       "    </tr>\n",
       "    <tr>\n",
       "      <th>106919</th>\n",
       "      <td>2013-10-13 20:25:00</td>\n",
       "      <td>NE</td>\n",
       "      <td>NO</td>\n",
       "    </tr>\n",
       "    <tr>\n",
       "      <th>186936</th>\n",
       "      <td>2016-12-24 18:00:00</td>\n",
       "      <td>CHI</td>\n",
       "      <td>WAS</td>\n",
       "    </tr>\n",
       "    <tr>\n",
       "      <th>132209</th>\n",
       "      <td>2014-10-26 17:00:00</td>\n",
       "      <td>TB</td>\n",
       "      <td>MIN</td>\n",
       "    </tr>\n",
       "    <tr>\n",
       "      <th>80013</th>\n",
       "      <td>2012-09-23 17:00:00</td>\n",
       "      <td>NO</td>\n",
       "      <td>KC</td>\n",
       "    </tr>\n",
       "    <tr>\n",
       "      <th>71798</th>\n",
       "      <td>2012-08-10 00:00:00</td>\n",
       "      <td>SD</td>\n",
       "      <td>GB</td>\n",
       "    </tr>\n",
       "    <tr>\n",
       "      <th>157015</th>\n",
       "      <td>2015-11-08 21:05:00</td>\n",
       "      <td>SF</td>\n",
       "      <td>ATL</td>\n",
       "    </tr>\n",
       "    <tr>\n",
       "      <th>26424</th>\n",
       "      <td>2010-08-22 00:00:00</td>\n",
       "      <td>NO</td>\n",
       "      <td>HOU</td>\n",
       "    </tr>\n",
       "    <tr>\n",
       "      <th>124764</th>\n",
       "      <td>2014-09-07 17:00:00</td>\n",
       "      <td>ATL</td>\n",
       "      <td>NO</td>\n",
       "    </tr>\n",
       "    <tr>\n",
       "      <th>68232</th>\n",
       "      <td>2011-12-18 21:15:00</td>\n",
       "      <td>DEN</td>\n",
       "      <td>NE</td>\n",
       "    </tr>\n",
       "  </tbody>\n",
       "</table>\n",
       "</div>"
      ],
      "text/plain": [
       "                start_time home_team away_team\n",
       "190998 2017-08-19 02:00:00       SEA       MIN\n",
       "196874 2017-09-17 20:25:00       DEN       DAL\n",
       "106052 2013-10-07 00:30:00        SF       HOU\n",
       "21266  2009-12-27 18:00:00       CLE       OAK\n",
       "207986 2017-12-10 18:00:00       CLE        GB\n",
       "147144 2015-08-30 01:00:00       DEN        SF\n",
       "106919 2013-10-13 20:25:00        NE        NO\n",
       "186936 2016-12-24 18:00:00       CHI       WAS\n",
       "132209 2014-10-26 17:00:00        TB       MIN\n",
       "80013  2012-09-23 17:00:00        NO        KC\n",
       "71798  2012-08-10 00:00:00        SD        GB\n",
       "157015 2015-11-08 21:05:00        SF       ATL\n",
       "26424  2010-08-22 00:00:00        NO       HOU\n",
       "124764 2014-09-07 17:00:00       ATL        NO\n",
       "68232  2011-12-18 21:15:00       DEN        NE"
      ]
     },
     "execution_count": 223,
     "metadata": {},
     "output_type": "execute_result"
    }
   ],
   "source": [
    "#We already have day of week and week of schedule, so let's truncate start_time to only be game time HH:MM for early vs. late game as a feature\n",
    "ppg[['start_time', 'home_team','away_team']].sample(n=15)\n",
    "#You'd think the offset would match the home_team timezone but that doesn't look to be the case."
   ]
  },
  {
   "cell_type": "code",
   "execution_count": 224,
   "metadata": {},
   "outputs": [
    {
     "data": {
      "text/plain": [
       "array(['UNK', 'QB', 'RB', 'DE', 'TE', 'DB', 'WR', 'DT', 'K', 'P', 'LB',\n",
       "       'OT', 'OG', 'NT', 'C', 'LS', 'T', 'FB', 'CB', 'SAF', 'OLB', 'OL',\n",
       "       'ILB'], dtype=object)"
      ]
     },
     "execution_count": 224,
     "metadata": {},
     "output_type": "execute_result"
    }
   ],
   "source": [
    "#Let's see all the different positions we have in the set. \n",
    "ppg['position'].unique()"
   ]
  },
  {
   "cell_type": "code",
   "execution_count": 225,
   "metadata": {
    "collapsed": true
   },
   "outputs": [],
   "source": [
    "#Focusing on only offensive positions for now. Also merging FB & RB\n",
    "ppg['position'].replace('FB','RB',inplace=True)\n",
    "off_pos = ['QB','RB','TE','WR']\n"
   ]
  },
  {
   "cell_type": "code",
   "execution_count": 226,
   "metadata": {
    "collapsed": true
   },
   "outputs": [],
   "source": [
    "#Removing Preseason and Postseason games due to inconsistent week labels\n",
    "ppg=ppg[ppg['season_type']=='Regular']"
   ]
  },
  {
   "cell_type": "code",
   "execution_count": 227,
   "metadata": {
    "collapsed": true
   },
   "outputs": [],
   "source": [
    "#Creating a dict of dataframes of Fantasy scores and features by game-player by postion\n",
    "pos_scores={}\n",
    "for o in off_pos:\n",
    "    pos_scores[o] = ppg[ppg['position']==o]\n"
   ]
  },
  {
   "cell_type": "code",
   "execution_count": 228,
   "metadata": {
    "collapsed": true
   },
   "outputs": [],
   "source": [
    "#Alternatively, using multi-index\n",
    "ppg_mi = ppg.set_index(['position','season_year','week']).sort_index()\n",
    "mi_sorted = ppg_mi.loc[off_pos]"
   ]
  },
  {
   "cell_type": "code",
   "execution_count": 229,
   "metadata": {
    "collapsed": true
   },
   "outputs": [],
   "source": [
    "#Something's wrong with the original data around pre-season games and week number not being consistent year-to-year.\n",
    "idx=pd.IndexSlice\n",
    "ppg_mi.loc[idx[:,:,:],['home_team','away_team','season_type','start_time','gsis_id']].groupby(['season_year','week','season_type'])['gsis_id'].nunique()\n",
    "#Due to inconsistent week labelling, I'm going to filter our all Postseason & Preseason games.\n",
    "ppg_mi = ppg_mi[ppg_mi['season_type']=='Regular']\n"
   ]
  },
  {
   "cell_type": "markdown",
   "metadata": {},
   "source": [
    "# Web scraping - Weather Data"
   ]
  },
  {
   "cell_type": "code",
   "execution_count": null,
   "metadata": {
    "collapsed": true
   },
   "outputs": [],
   "source": [
    "#example_url= 'http://www.nflweather.com/en/week/2014/week-1/'\n"
   ]
  },
  {
   "cell_type": "code",
   "execution_count": null,
   "metadata": {
    "collapsed": true
   },
   "outputs": [],
   "source": [
    "#Merge on week-year-hometeam"
   ]
  },
  {
   "cell_type": "code",
   "execution_count": 112,
   "metadata": {
    "collapsed": true
   },
   "outputs": [],
   "source": [
    "url_base = 'http://www.nflweather.com/en/week/'\n",
    "week=''\n",
    "year=''\n",
    "soup_mix=[]\n",
    "for year in range(2009,2018):\n",
    "    for week in range(1,18):\n",
    "        r=requests.get(url_base+str(year)+'/week-'+str(week))\n",
    "        html_doc = r.text\n",
    "        soup = BeautifulSoup(html_doc, 'html.parser')\n",
    "        df = parse_forecast(soup)\n",
    "        df['Year']=year\n",
    "        df['Week']=week\n",
    "        soup_mix.append(df)"
   ]
  },
  {
   "cell_type": "code",
   "execution_count": 169,
   "metadata": {
    "collapsed": true
   },
   "outputs": [],
   "source": [
    "weather = pd.concat(soup_mix)\n",
    "#checkpoint for weather data, so I don't have to spam the weather url\n",
    "weather.to_csv('/Users/ianbury/Springboard/FantasyFootball/weather.csv')"
   ]
  },
  {
   "cell_type": "code",
   "execution_count": 106,
   "metadata": {
    "collapsed": true
   },
   "outputs": [],
   "source": [
    "#Forecasts start on element 9, then every 13 elements.\n",
    "def parse_forecast(soup):\n",
    "    \"\"\"Takes the html output of a BeautifulSoup object, \n",
    "    parses out elements from 5th and 9th columns (home team and weather forecast in this case), and returns a dataframe.\"\"\"\n",
    "    d={}\n",
    "    f=[]\n",
    "    home=[]\n",
    "    for k,v in enumerate(soup.find_all('td')):\n",
    "        if k in range(5,500,13):\n",
    "            home.append(v.text.strip())\n",
    "        if k in range(9,500,13):\n",
    "            f.append(v.string.strip())\n",
    "    d['home']=home\n",
    "    d['forecast']=f\n",
    "    df=pd.DataFrame(d)\n",
    "    return df"
   ]
  },
  {
   "cell_type": "code",
   "execution_count": 230,
   "metadata": {
    "collapsed": true
   },
   "outputs": [],
   "source": [
    "#Loading from checkpoint\n",
    "weather=pd.read_csv('/Users/ianbury/Springboard/FantasyFootball/weather.csv', index_col=False)"
   ]
  },
  {
   "cell_type": "code",
   "execution_count": 38,
   "metadata": {},
   "outputs": [],
   "source": [
    "#dropping St.Louis Rams & San Diego Charges - teams have moved locations\n",
    "teams=teams.drop([22,25],axis=0)"
   ]
  },
  {
   "cell_type": "code",
   "execution_count": 232,
   "metadata": {
    "collapsed": true,
    "scrolled": true
   },
   "outputs": [],
   "source": [
    "#Merging weather with team names so we can merge with the mega dataframe\n",
    "wt = weather.drop('Unnamed: 0',axis=1).merge(teams,how='left', left_on='home', right_on='name',validate='m:1')"
   ]
  },
  {
   "cell_type": "code",
   "execution_count": 233,
   "metadata": {},
   "outputs": [
    {
     "data": {
      "text/plain": [
       "565"
      ]
     },
     "execution_count": 233,
     "metadata": {},
     "output_type": "execute_result"
    }
   ],
   "source": [
    "#Let's classify the forecasts!\n",
    "wt.forecast.nunique()\n",
    "#A ton of unique values - time for regex\n"
   ]
  },
  {
   "cell_type": "code",
   "execution_count": null,
   "metadata": {
    "collapsed": true
   },
   "outputs": [],
   "source": []
  },
  {
   "cell_type": "code",
   "execution_count": 234,
   "metadata": {
    "collapsed": true
   },
   "outputs": [],
   "source": [
    "#Splitting forecast column into temperature and description\n",
    "regex = re.compile(r'\\d+f ')\n",
    "\n",
    "wt['temp']= wt['forecast'].apply(lambda x: pd.to_numeric(x.split('f')[0].split('/')[0]) if bool(regex.search(x)) else np.nan)\n",
    "wt['desc']=wt['forecast'].apply(lambda x: regex.split(x)[1] if bool(regex.search(x)) else x)\n"
   ]
  },
  {
   "cell_type": "code",
   "execution_count": 235,
   "metadata": {
    "collapsed": true
   },
   "outputs": [],
   "source": [
    "#A quick search shows most domes are temperature controlled at 65F.\n",
    "wt.temp.fillna(65,inplace=True)"
   ]
  },
  {
   "cell_type": "code",
   "execution_count": 236,
   "metadata": {},
   "outputs": [
    {
     "data": {
      "text/plain": [
       "array(['Mostly Cloudy', 'DOME', 'Fair', 'Partly Cloudy', 'Overcast',\n",
       "       'A Few Clouds', 'Light Rain', 'Light Rain Fog/Mist', 'Fog/Mist',\n",
       "       'Clear', 'Overcast with Haze', 'Rain Fog/Mist', 'Partly Sunny',\n",
       "       'Overcast and Windy', 'Fog', 'Few Clouds', 'Snow',\n",
       "       'Overcast and Breezy', 'A Few Clouds with Haze',\n",
       "       'Mostly Cloudy and Breezy', 'Partly Cloudy with Haze',\n",
       "       'Partly Cloudy and Breezy', 'Fair with Haze', 'Mostly Sunny',\n",
       "       'Rain Showers', 'Light Drizzle', 'Sunny', 'Light Rain and Breezy',\n",
       "       'Light Snow', ' Light Rain', 'Patchy Fog',\n",
       "       '  Thunderstorm in Vicinity Light Rain Fog/Mist', 'NA',\n",
       "       ' Light Drizzle', 'Fair and Breezy', 'Lt Rain',\n",
       "       ' Rain Fog/Mist and Breezy', 'Rain', ' Light Rain Fog/Mist',\n",
       "       ' Fog/Mist', 'Lt Rain, Fog', ' Light Snow Fog/Mist',\n",
       "       ' Blowing Snow and Breezy', ' Thunderstorm Rain Fog/Mist',\n",
       "       'Thunder, Lt Rain', 'Mostly Clear', 'Areas Drizzle', 'Breezy',\n",
       "       ' Snow and Breezy', 'Areas Fog', ' Light Freezing Rain',\n",
       "       'Wintry Mix', ' Heavy Snow Freezing Fog', ' Light Snow',\n",
       "       'A few Clouds', 'Showers', ' Heavy Rain Fog/Mist', ' Rain Fog/Mist',\n",
       "       ' Thunderstorm', '  Showers in Vicinity', ' Fog', 'Cloudy',\n",
       "       'Chance Showers', 'Mod Rain, Fog', 'Drizzle',\n",
       "       'Dry and Partly Cloudy', 'Humid and Mostly Cloudy', 'Humid',\n",
       "       'Foggy', 'Heavy Rain', 'Possible Drizzle', 'Dry',\n",
       "       'Humid and Partly Cloudy', 'Possible Light Rain', 'Flurries'], dtype=object)"
      ]
     },
     "execution_count": 236,
     "metadata": {},
     "output_type": "execute_result"
    }
   ],
   "source": [
    "wt.desc.unique()\n",
    "#There's probably a more elegant way to sort weather descriptions into categories - I used a spreadsheet."
   ]
  },
  {
   "cell_type": "code",
   "execution_count": 237,
   "metadata": {
    "collapsed": true
   },
   "outputs": [],
   "source": [
    "wt['desc_simple'] = wt.desc.apply(lambda x: 'Good' if x in good else 'Wet' if x in wet else 'Windy' if x in windy else 'Snowy' if x in snow else 'Missing')"
   ]
  },
  {
   "cell_type": "code",
   "execution_count": 238,
   "metadata": {
    "collapsed": true
   },
   "outputs": [],
   "source": [
    "wet = [' Light Rain','Light Rain Fog/Mist','Fog/Mist','Rain Fog/Mist','Fog','Rain Showers','Light Drizzle','Light Rain and Breezy','Light Rain','  Thunderstorm in Vicinity Light Rain Fog/Mist',' Light Drizzle','Lt Rain',' Rain Fog/Mist and Breezy','Rain',' Light Rain Fog/Mist',' Fog/Mist','Lt Rain, Fog',' Thunderstorm Rain Fog/Mist','Thunder, Lt Rain','Areas Drizzle','Showers',' Heavy Rain Fog/Mist',' Rain Fog/Mist',' Thunderstorm','  Showers in Vicinity',' Fog','Mod Rain, Fog','Drizzle','Foggy','Heavy Rain','Possible Drizzle']\n",
    "good = ['Mostly Cloudy','DOME','Fair','Partly Cloudy','Overcast','A Few Clouds','Clear','Overcast with Haze','Partly Sunny','Few Clouds','A Few Clouds with Haze','Partly Cloudy with Haze','Fair with Haze','Mostly Sunny','Sunny','Patchy Fog','NA','Mostly Clear','Areas Fog','A few Clouds','Cloudy','Chance Showers','Dry and Partly Cloudy','Humid and Mostly Cloudy','Humid','Dry','Humid and Partly Cloudy','Possible Light Rain']\n",
    "windy = ['Overcast and Windy','Breezy','Fair and Breezy','Mostly Cloudy and Breezy','Overcast and Breezy','Partly Cloudy and Breezy']\n",
    "snow = [' Blowing Snow and Breezy',' Heavy Snow Freezing Fog',' Light Freezing Rain',' Light Snow',' Light Snow Fog/Mist',' Snow and Breezy','Flurries','Light Snow','Snow','Wintry Mix']"
   ]
  },
  {
   "cell_type": "code",
   "execution_count": null,
   "metadata": {},
   "outputs": [],
   "source": []
  },
  {
   "cell_type": "code",
   "execution_count": 240,
   "metadata": {
    "collapsed": true
   },
   "outputs": [],
   "source": [
    "#Merging into ppg master dataframe\n",
    "ppg = ppg.merge(wt, how='left', left_on=['home_team','season_year','week'],right_on=['team_id','Year','Week'])"
   ]
  },
  {
   "cell_type": "code",
   "execution_count": 241,
   "metadata": {},
   "outputs": [
    {
     "data": {
      "text/plain": [
       "0.16015625"
      ]
     },
     "execution_count": 241,
     "metadata": {},
     "output_type": "execute_result"
    }
   ],
   "source": [
    "ppg[ppg['temp'].isnull()]['gsis_id'].nunique()/ppg['gsis_id'].nunique()\n",
    "#missing weather data for 16% of the games\n"
   ]
  },
  {
   "cell_type": "code",
   "execution_count": 242,
   "metadata": {
    "collapsed": true
   },
   "outputs": [],
   "source": [
    "missing_weather={}\n",
    "for y in ppg['season_year'].unique():\n",
    "    missing_weather[y]=ppg[(ppg['temp'].isnull())&(ppg['season_year']==y)]['gsis_id'].nunique()/ppg[ppg['season_year']==y]['gsis_id'].nunique()"
   ]
  },
  {
   "cell_type": "code",
   "execution_count": 243,
   "metadata": {},
   "outputs": [
    {
     "data": {
      "text/plain": [
       "{2009: 0.06640625,\n",
       " 2010: 1.0,\n",
       " 2011: 0.0625,\n",
       " 2012: 0.0625,\n",
       " 2013: 0.0625,\n",
       " 2014: 0.0625,\n",
       " 2015: 0.0625,\n",
       " 2016: 0.03125,\n",
       " 2017: 0.03125}"
      ]
     },
     "execution_count": 243,
     "metadata": {},
     "output_type": "execute_result"
    }
   ],
   "source": [
    "#Well that explains it - all of 2010 is missing. Confirmed via url that 2010 weather data 404s.\n",
    "missing_weather\n"
   ]
  },
  {
   "cell_type": "code",
   "execution_count": 244,
   "metadata": {
    "collapsed": true
   },
   "outputs": [],
   "source": [
    "weekly_weather={}\n",
    "for y in ppg['week'].unique():\n",
    "    weekly_weather[y]=ppg[(ppg['temp'].isnull())&(ppg['week']==y)]['gsis_id'].nunique()/ppg[ppg['week']==y]['gsis_id'].nunique()"
   ]
  },
  {
   "cell_type": "code",
   "execution_count": 245,
   "metadata": {},
   "outputs": [
    {
     "data": {
      "text/plain": [
       "{1: 0.16783216783216784,\n",
       " 2: 0.1527777777777778,\n",
       " 3: 0.16666666666666666,\n",
       " 4: 0.17293233082706766,\n",
       " 5: 0.15079365079365079,\n",
       " 6: 0.1484375,\n",
       " 7: 0.16535433070866143,\n",
       " 8: 0.1487603305785124,\n",
       " 9: 0.15126050420168066,\n",
       " 10: 0.15625,\n",
       " 11: 0.17557251908396945,\n",
       " 12: 0.16312056737588654,\n",
       " 13: 0.16783216783216784,\n",
       " 14: 0.14583333333333334,\n",
       " 15: 0.19444444444444445,\n",
       " 16: 0.13194444444444445,\n",
       " 17: 0.1597222222222222}"
      ]
     },
     "execution_count": 245,
     "metadata": {},
     "output_type": "execute_result"
    }
   ],
   "source": [
    "#No weekly trend on missing weather.\n",
    "weekly_weather"
   ]
  },
  {
   "cell_type": "markdown",
   "metadata": {},
   "source": [
    "# Adding in rolling averages"
   ]
  },
  {
   "cell_type": "code",
   "execution_count": 249,
   "metadata": {
    "collapsed": true
   },
   "outputs": [],
   "source": [
    "rolling=ppg.sort_values(['name_fixed','week']).reset_index(drop=True)"
   ]
  },
  {
   "cell_type": "code",
   "execution_count": 250,
   "metadata": {
    "collapsed": true
   },
   "outputs": [],
   "source": [
    "#Previous 3- and 5-week average scores\n",
    "rolling['avg3_score'] = rolling.groupby(['season_year','name_fixed'])['fantasy_score'].rolling(3).mean().shift().reset_index(level=[0,1])['fantasy_score']\n",
    "rolling['avg5_score'] = rolling.groupby(['season_year','name_fixed'])['fantasy_score'].rolling(5).mean().shift().reset_index(level=[0,1])['fantasy_score']\n",
    "rolling['avg3_tar']=rolling.groupby(['season_year','name_fixed'])['receiving_tar'].rolling(3).mean().shift().reset_index(level=[0,1])['receiving_tar']\n",
    "rolling['avg5_tar']=rolling.groupby(['season_year','name_fixed'])['receiving_tar'].rolling(5).mean().shift().reset_index(level=[0,1])['receiving_tar']\n",
    "rolling['avg3_rush_att']=rolling.groupby(['season_year','name_fixed'])['rushing_att'].rolling(3).mean().shift().reset_index(level=[0,1])['rushing_att']\n",
    "rolling['avg5__rush_att']=rolling.groupby(['season_year','name_fixed'])['rushing_att'].rolling(5).mean().shift().reset_index(level=[0,1])['rushing_att']\n",
    "rolling['avg3_pass_att']=rolling.groupby(['season_year','name_fixed'])['passing_att'].rolling(3).mean().shift().reset_index(level=[0,1])['passing_att']\n",
    "rolling['avg5__pass_att']=rolling.groupby(['season_year','name_fixed'])['passing_att'].rolling(5).mean().shift().reset_index(level=[0,1])['passing_att']"
   ]
  },
  {
   "cell_type": "code",
   "execution_count": null,
   "metadata": {},
   "outputs": [],
   "source": []
  },
  {
   "cell_type": "markdown",
   "metadata": {},
   "source": [
    "# FanDuel Data and Structure\n",
    "Each team has a salary cap of $60,000 to fill 9 positions [1-QB, 2-RB, 3-WR, 1-TE, 1-FLEX, 1-DEF]. FLEX can be either a WR, RB or TE. Example salary data for preseason 2018 is below."
   ]
  },
  {
   "cell_type": "code",
   "execution_count": 19,
   "metadata": {
    "collapsed": true
   },
   "outputs": [],
   "source": [
    "fd = pd.read_csv('/Users/ianbury/Downloads/FanDuel-NFL-2018-09-09-27409-players-list.csv')"
   ]
  },
  {
   "cell_type": "code",
   "execution_count": 4,
   "metadata": {},
   "outputs": [
    {
     "data": {
      "text/html": [
       "<div>\n",
       "<style scoped>\n",
       "    .dataframe tbody tr th:only-of-type {\n",
       "        vertical-align: middle;\n",
       "    }\n",
       "\n",
       "    .dataframe tbody tr th {\n",
       "        vertical-align: top;\n",
       "    }\n",
       "\n",
       "    .dataframe thead th {\n",
       "        text-align: right;\n",
       "    }\n",
       "</style>\n",
       "<table border=\"1\" class=\"dataframe\">\n",
       "  <thead>\n",
       "    <tr style=\"text-align: right;\">\n",
       "      <th></th>\n",
       "      <th>Id</th>\n",
       "      <th>Position</th>\n",
       "      <th>First Name</th>\n",
       "      <th>Nickname</th>\n",
       "      <th>Last Name</th>\n",
       "      <th>FPPG</th>\n",
       "      <th>Played</th>\n",
       "      <th>Salary</th>\n",
       "      <th>Game</th>\n",
       "      <th>Team</th>\n",
       "      <th>Opponent</th>\n",
       "      <th>Injury Indicator</th>\n",
       "      <th>Injury Details</th>\n",
       "      <th>Tier</th>\n",
       "      <th>Unnamed: 14</th>\n",
       "      <th>Unnamed: 15</th>\n",
       "    </tr>\n",
       "  </thead>\n",
       "  <tbody>\n",
       "    <tr>\n",
       "      <th>0</th>\n",
       "      <td>27409-11612</td>\n",
       "      <td>WR</td>\n",
       "      <td>Antonio</td>\n",
       "      <td>Antonio Brown</td>\n",
       "      <td>Brown</td>\n",
       "      <td>18.557142</td>\n",
       "      <td>14</td>\n",
       "      <td>9000</td>\n",
       "      <td>PIT@CLE</td>\n",
       "      <td>PIT</td>\n",
       "      <td>CLE</td>\n",
       "      <td>Q</td>\n",
       "      <td>Quadriceps</td>\n",
       "      <td>NaN</td>\n",
       "      <td>NaN</td>\n",
       "      <td>NaN</td>\n",
       "    </tr>\n",
       "    <tr>\n",
       "      <th>1</th>\n",
       "      <td>27409-28181</td>\n",
       "      <td>RB</td>\n",
       "      <td>Le'Veon</td>\n",
       "      <td>Le'Veon Bell</td>\n",
       "      <td>Bell</td>\n",
       "      <td>19.940000</td>\n",
       "      <td>15</td>\n",
       "      <td>8900</td>\n",
       "      <td>PIT@CLE</td>\n",
       "      <td>PIT</td>\n",
       "      <td>CLE</td>\n",
       "      <td>NaN</td>\n",
       "      <td>NaN</td>\n",
       "      <td>NaN</td>\n",
       "      <td>NaN</td>\n",
       "      <td>NaN</td>\n",
       "    </tr>\n",
       "    <tr>\n",
       "      <th>2</th>\n",
       "      <td>27409-16606</td>\n",
       "      <td>WR</td>\n",
       "      <td>DeAndre</td>\n",
       "      <td>DeAndre Hopkins</td>\n",
       "      <td>Hopkins</td>\n",
       "      <td>17.453333</td>\n",
       "      <td>15</td>\n",
       "      <td>8800</td>\n",
       "      <td>HOU@NE</td>\n",
       "      <td>HOU</td>\n",
       "      <td>NE</td>\n",
       "      <td>NaN</td>\n",
       "      <td>NaN</td>\n",
       "      <td>NaN</td>\n",
       "      <td>NaN</td>\n",
       "      <td>NaN</td>\n",
       "    </tr>\n",
       "    <tr>\n",
       "      <th>3</th>\n",
       "      <td>27409-42104</td>\n",
       "      <td>RB</td>\n",
       "      <td>Alvin</td>\n",
       "      <td>Alvin Kamara</td>\n",
       "      <td>Kamara</td>\n",
       "      <td>17.493750</td>\n",
       "      <td>16</td>\n",
       "      <td>8700</td>\n",
       "      <td>TB@NO</td>\n",
       "      <td>NO</td>\n",
       "      <td>TB</td>\n",
       "      <td>NaN</td>\n",
       "      <td>NaN</td>\n",
       "      <td>NaN</td>\n",
       "      <td>NaN</td>\n",
       "      <td>NaN</td>\n",
       "    </tr>\n",
       "    <tr>\n",
       "      <th>4</th>\n",
       "      <td>27409-62497</td>\n",
       "      <td>RB</td>\n",
       "      <td>David</td>\n",
       "      <td>David Johnson</td>\n",
       "      <td>Johnson</td>\n",
       "      <td>10.000000</td>\n",
       "      <td>1</td>\n",
       "      <td>8600</td>\n",
       "      <td>WAS@ARI</td>\n",
       "      <td>ARI</td>\n",
       "      <td>WAS</td>\n",
       "      <td>NaN</td>\n",
       "      <td>NaN</td>\n",
       "      <td>NaN</td>\n",
       "      <td>NaN</td>\n",
       "      <td>NaN</td>\n",
       "    </tr>\n",
       "  </tbody>\n",
       "</table>\n",
       "</div>"
      ],
      "text/plain": [
       "            Id Position First Name         Nickname Last Name       FPPG  \\\n",
       "0  27409-11612       WR    Antonio    Antonio Brown     Brown  18.557142   \n",
       "1  27409-28181       RB    Le'Veon     Le'Veon Bell      Bell  19.940000   \n",
       "2  27409-16606       WR    DeAndre  DeAndre Hopkins   Hopkins  17.453333   \n",
       "3  27409-42104       RB      Alvin     Alvin Kamara    Kamara  17.493750   \n",
       "4  27409-62497       RB      David    David Johnson   Johnson  10.000000   \n",
       "\n",
       "   Played  Salary     Game Team Opponent Injury Indicator Injury Details  \\\n",
       "0      14    9000  PIT@CLE  PIT      CLE                Q     Quadriceps   \n",
       "1      15    8900  PIT@CLE  PIT      CLE              NaN            NaN   \n",
       "2      15    8800   HOU@NE  HOU       NE              NaN            NaN   \n",
       "3      16    8700    TB@NO   NO       TB              NaN            NaN   \n",
       "4       1    8600  WAS@ARI  ARI      WAS              NaN            NaN   \n",
       "\n",
       "   Tier  Unnamed: 14  Unnamed: 15  \n",
       "0   NaN          NaN          NaN  \n",
       "1   NaN          NaN          NaN  \n",
       "2   NaN          NaN          NaN  \n",
       "3   NaN          NaN          NaN  \n",
       "4   NaN          NaN          NaN  "
      ]
     },
     "execution_count": 4,
     "metadata": {},
     "output_type": "execute_result"
    }
   ],
   "source": [
    "fd.head()"
   ]
  },
  {
   "cell_type": "code",
   "execution_count": 5,
   "metadata": {},
   "outputs": [
    {
     "data": {
      "text/html": [
       "<div>\n",
       "<style scoped>\n",
       "    .dataframe tbody tr th:only-of-type {\n",
       "        vertical-align: middle;\n",
       "    }\n",
       "\n",
       "    .dataframe tbody tr th {\n",
       "        vertical-align: top;\n",
       "    }\n",
       "\n",
       "    .dataframe thead th {\n",
       "        text-align: right;\n",
       "    }\n",
       "</style>\n",
       "<table border=\"1\" class=\"dataframe\">\n",
       "  <thead>\n",
       "    <tr style=\"text-align: right;\">\n",
       "      <th></th>\n",
       "      <th>count</th>\n",
       "      <th>mean</th>\n",
       "      <th>std</th>\n",
       "      <th>min</th>\n",
       "      <th>25%</th>\n",
       "      <th>50%</th>\n",
       "      <th>75%</th>\n",
       "      <th>max</th>\n",
       "    </tr>\n",
       "    <tr>\n",
       "      <th>Position</th>\n",
       "      <th></th>\n",
       "      <th></th>\n",
       "      <th></th>\n",
       "      <th></th>\n",
       "      <th></th>\n",
       "      <th></th>\n",
       "      <th></th>\n",
       "      <th></th>\n",
       "    </tr>\n",
       "  </thead>\n",
       "  <tbody>\n",
       "    <tr>\n",
       "      <th>D</th>\n",
       "      <td>24.0</td>\n",
       "      <td>4087.500000</td>\n",
       "      <td>464.676138</td>\n",
       "      <td>3000.0</td>\n",
       "      <td>3900.0</td>\n",
       "      <td>4150.0</td>\n",
       "      <td>4425.0</td>\n",
       "      <td>4800.0</td>\n",
       "    </tr>\n",
       "    <tr>\n",
       "      <th>QB</th>\n",
       "      <td>89.0</td>\n",
       "      <td>6302.247191</td>\n",
       "      <td>628.666975</td>\n",
       "      <td>6000.0</td>\n",
       "      <td>6000.0</td>\n",
       "      <td>6000.0</td>\n",
       "      <td>6200.0</td>\n",
       "      <td>8600.0</td>\n",
       "    </tr>\n",
       "    <tr>\n",
       "      <th>RB</th>\n",
       "      <td>172.0</td>\n",
       "      <td>5047.674419</td>\n",
       "      <td>998.739175</td>\n",
       "      <td>4500.0</td>\n",
       "      <td>4500.0</td>\n",
       "      <td>4500.0</td>\n",
       "      <td>5225.0</td>\n",
       "      <td>8900.0</td>\n",
       "    </tr>\n",
       "    <tr>\n",
       "      <th>TE</th>\n",
       "      <td>147.0</td>\n",
       "      <td>4306.802721</td>\n",
       "      <td>617.846444</td>\n",
       "      <td>4000.0</td>\n",
       "      <td>4000.0</td>\n",
       "      <td>4000.0</td>\n",
       "      <td>4400.0</td>\n",
       "      <td>7900.0</td>\n",
       "    </tr>\n",
       "    <tr>\n",
       "      <th>WR</th>\n",
       "      <td>289.0</td>\n",
       "      <td>4897.231834</td>\n",
       "      <td>866.221411</td>\n",
       "      <td>4500.0</td>\n",
       "      <td>4500.0</td>\n",
       "      <td>4500.0</td>\n",
       "      <td>4700.0</td>\n",
       "      <td>9000.0</td>\n",
       "    </tr>\n",
       "  </tbody>\n",
       "</table>\n",
       "</div>"
      ],
      "text/plain": [
       "          count         mean         std     min     25%     50%     75%  \\\n",
       "Position                                                                   \n",
       "D          24.0  4087.500000  464.676138  3000.0  3900.0  4150.0  4425.0   \n",
       "QB         89.0  6302.247191  628.666975  6000.0  6000.0  6000.0  6200.0   \n",
       "RB        172.0  5047.674419  998.739175  4500.0  4500.0  4500.0  5225.0   \n",
       "TE        147.0  4306.802721  617.846444  4000.0  4000.0  4000.0  4400.0   \n",
       "WR        289.0  4897.231834  866.221411  4500.0  4500.0  4500.0  4700.0   \n",
       "\n",
       "             max  \n",
       "Position          \n",
       "D         4800.0  \n",
       "QB        8600.0  \n",
       "RB        8900.0  \n",
       "TE        7900.0  \n",
       "WR        9000.0  "
      ]
     },
     "execution_count": 5,
     "metadata": {},
     "output_type": "execute_result"
    }
   ],
   "source": [
    "fd.groupby('Position')['Salary'].describe()"
   ]
  },
  {
   "cell_type": "code",
   "execution_count": 20,
   "metadata": {},
   "outputs": [],
   "source": [
    "fd=fd.set_index('Position').sort_index()"
   ]
  },
  {
   "cell_type": "code",
   "execution_count": 33,
   "metadata": {},
   "outputs": [],
   "source": [
    "problem = Problem()\n",
    "problem.addVariable('RB1',fd.loc['RB'].Salary)\n",
    "problem.addVariable('RB2',fd.loc['RB'].Salary)\n",
    "problem.addVariable('QB',fd.loc['QB'].Salary)\n",
    "#problem.addVariable('WR1',fd.loc['WR'].Salary)\n",
    "#problem.addVariable('WR2',fd.loc['WR'].Salary)\n",
    "#problem.addVariable('WR3',fd.loc['WR'].Salary)\n",
    "#problem.addVariable('TE',fd.loc['TE'].Salary)\n",
    "#problem.addVariable('FLEX',fd.loc[['TE','QB','RB']].Salary)\n",
    "#problem.addVariable('D',fd.loc['D'].Salary)\n",
    "problem.addConstraint(MaxSumConstraint(30000))\n",
    "problem.addConstraint(MinSumConstraint(24000))"
   ]
  },
  {
   "cell_type": "code",
   "execution_count": 34,
   "metadata": {},
   "outputs": [],
   "source": [
    "a = problem.getSolutions()"
   ]
  },
  {
   "cell_type": "code",
   "execution_count": 35,
   "metadata": {},
   "outputs": [
    {
     "name": "stdout",
     "output_type": "stream",
     "text": [
      "k\n"
     ]
    }
   ],
   "source": [
    "print('k')\n",
    "%ding"
   ]
  },
  {
   "cell_type": "code",
   "execution_count": 37,
   "metadata": {},
   "outputs": [
    {
     "data": {
      "text/plain": [
       "744"
      ]
     },
     "execution_count": 37,
     "metadata": {},
     "output_type": "execute_result"
    }
   ],
   "source": []
  },
  {
   "cell_type": "code",
   "execution_count": null,
   "metadata": {
    "collapsed": true
   },
   "outputs": [],
   "source": []
  }
 ],
 "metadata": {
  "kernelspec": {
   "display_name": "Python 3",
   "language": "python",
   "name": "python3"
  },
  "language_info": {
   "codemirror_mode": {
    "name": "ipython",
    "version": 3
   },
   "file_extension": ".py",
   "mimetype": "text/x-python",
   "name": "python",
   "nbconvert_exporter": "python",
   "pygments_lexer": "ipython3",
   "version": "3.6.6"
  }
 },
 "nbformat": 4,
 "nbformat_minor": 2
}
