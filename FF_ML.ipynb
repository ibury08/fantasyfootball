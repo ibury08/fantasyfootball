{
 "cells": [
  {
   "cell_type": "code",
   "execution_count": 215,
   "metadata": {},
   "outputs": [
    {
     "name": "stderr",
     "output_type": "stream",
     "text": [
      "/anaconda3/lib/python3.6/site-packages/ipykernel_launcher.py:11: UserWarning: once\n",
      "  # This is added back by InteractiveShellApp.init_path()\n"
     ]
    }
   ],
   "source": [
    "import pandas as pd\n",
    "from sklearn.linear_model import LinearRegression, ElasticNet, Lasso,Ridge\n",
    "from sklearn.model_selection import train_test_split, cross_val_score, GridSearchCV,RandomizedSearchCV\n",
    "from sklearn.metrics import mean_squared_error\n",
    "import matplotlib.pyplot as plt\n",
    "import numpy as np\n",
    "import statsmodels.api as sm\n",
    "from sklearn.ensemble import RandomForestRegressor\n",
    "import cellbell\n",
    "import warnings\n",
    "warnings.warn(\"once\")\n",
    "np.set_printoptions(precision=4)"
   ]
  },
  {
   "cell_type": "code",
   "execution_count": 102,
   "metadata": {},
   "outputs": [
    {
     "name": "stdout",
     "output_type": "stream",
     "text": [
      "83760\n",
      "3476\n",
      "[2016 2017 2013 2014 2015]\n"
     ]
    }
   ],
   "source": [
    "#All\n",
    "df = pd.read_csv('/Users/ianbury/Downloads/chckpt1.csv')\n",
    "df = df[df.season_year >= 2013]\n",
    "print(len(df))\n",
    "print(df.player_id.nunique())\n",
    "print(df.season_year.unique())"
   ]
  },
  {
   "cell_type": "code",
   "execution_count": 282,
   "metadata": {},
   "outputs": [
    {
     "name": "stdout",
     "output_type": "stream",
     "text": [
      "6765\n",
      "209\n",
      "[2017 2016 2015 2014 2013]\n"
     ]
    }
   ],
   "source": [
    "#Plays from top 25 players only\n",
    "df = pd.read_csv('/Users/ianbury/Downloads/top_plays_data.csv')\n",
    "print(len(df))\n",
    "print(df.player_id.nunique())\n",
    "print(df.season_year.unique())"
   ]
  },
  {
   "cell_type": "code",
   "execution_count": 283,
   "metadata": {},
   "outputs": [],
   "source": [
    "df.drop('Unnamed: 0',axis=1,inplace=True)"
   ]
  },
  {
   "cell_type": "code",
   "execution_count": 284,
   "metadata": {},
   "outputs": [
    {
     "data": {
      "text/plain": [
       "array(['WR', 'QB', 'TE', 'RB'], dtype=object)"
      ]
     },
     "execution_count": 284,
     "metadata": {},
     "output_type": "execute_result"
    }
   ],
   "source": [
    "df.position.unique()"
   ]
  },
  {
   "cell_type": "code",
   "execution_count": 285,
   "metadata": {},
   "outputs": [],
   "source": [
    "pos=['QB','WR','RB','TE']"
   ]
  },
  {
   "cell_type": "code",
   "execution_count": 286,
   "metadata": {},
   "outputs": [],
   "source": [
    "#Filtering to only offensive positions\n",
    "df=df[df.position.isin(pos)]"
   ]
  },
  {
   "cell_type": "code",
   "execution_count": 287,
   "metadata": {},
   "outputs": [
    {
     "data": {
      "text/plain": [
       "Index(['gsis_id', 'player_id', 'team', 'name_fixed', 'position', 'years_pro',\n",
       "       'height', 'weight', 'start_time', 'week', 'day_of_week', 'season_year',\n",
       "       'season_type', 'home_team', 'away_team', 'home_score', 'away_score',\n",
       "       'fantasy_score', 'fumbles_rec_tds', 'fumbles_lost', 'passing_int',\n",
       "       'passing_yds', 'passing_tds', 'passing_twoptm', 'receiving_rec',\n",
       "       'receiving_tds', 'receiving_twoptm', 'receiving_yds', 'rushing_yds',\n",
       "       'rushing_tds', 'rushing_twoptm', 'kicking_rec_tds', 'puntret_tds',\n",
       "       'receiving_tar', 'rushing_att', 'passing_att', 'forecast', 'home',\n",
       "       'Year', 'Week', 'team_id', 'city', 'name', 'temp', 'desc',\n",
       "       'desc_simple', 'prev_score', 'avg3_score', 'avg5_score', 'avg3_tar',\n",
       "       'avg5_tar', 'avg3_rush_att', 'avg5_rush_att', 'prev_tar',\n",
       "       'prev_rush_att', 'prev_pass_att', 'avg3_pass_att', 'avg5_pass_att'],\n",
       "      dtype='object')"
      ]
     },
     "execution_count": 287,
     "metadata": {},
     "output_type": "execute_result"
    }
   ],
   "source": [
    "df.columns"
   ]
  },
  {
   "cell_type": "code",
   "execution_count": 288,
   "metadata": {},
   "outputs": [],
   "source": [
    "df_clean = df.drop(columns=['gsis_id','player_id','name_fixed','years_pro','height','weight','forecast','home_score','away_score','season_type','desc','city','name','team_id','Year','Week','home','fumbles_rec_tds',\n",
    "       'fumbles_lost', 'passing_int', 'passing_yds', 'passing_tds',\n",
    "       'passing_twoptm', 'receiving_rec', 'receiving_tds', 'receiving_twoptm',\n",
    "       'receiving_yds', 'rushing_yds', 'rushing_tds', 'rushing_twoptm',\n",
    "       'kicking_rec_tds', 'puntret_tds', 'receiving_tar', 'rushing_att',\n",
    "       'passing_att'])"
   ]
  },
  {
   "cell_type": "code",
   "execution_count": 289,
   "metadata": {},
   "outputs": [],
   "source": [
    "def is_home(df):\n",
    "    if df['home_team'] == df['team']:\n",
    "        return 1\n",
    "    else:\n",
    "        return 0\n",
    "df_clean['is_home'] = df_clean.apply(is_home, axis=1)\n",
    "df_clean.drop('home_team',inplace=True,axis=1)"
   ]
  },
  {
   "cell_type": "code",
   "execution_count": 290,
   "metadata": {},
   "outputs": [],
   "source": [
    "df_clean['start_time'] = pd.to_datetime(df_clean['start_time'])\n",
    "df_clean['start_date'] = df_clean['start_time'].dt.date\n",
    "df_clean['start_time'] = df_clean['start_time'].dt.time\n",
    "df_clean.drop('start_date',inplace=True,axis=1)"
   ]
  },
  {
   "cell_type": "code",
   "execution_count": null,
   "metadata": {
    "scrolled": true
   },
   "outputs": [],
   "source": []
  },
  {
   "cell_type": "code",
   "execution_count": null,
   "metadata": {},
   "outputs": [],
   "source": []
  },
  {
   "cell_type": "code",
   "execution_count": 291,
   "metadata": {},
   "outputs": [],
   "source": [
    "#PCA\n"
   ]
  },
  {
   "cell_type": "code",
   "execution_count": 292,
   "metadata": {},
   "outputs": [],
   "source": [
    "#F-test"
   ]
  },
  {
   "cell_type": "code",
   "execution_count": null,
   "metadata": {},
   "outputs": [],
   "source": []
  },
  {
   "cell_type": "code",
   "execution_count": null,
   "metadata": {},
   "outputs": [],
   "source": []
  },
  {
   "cell_type": "code",
   "execution_count": 293,
   "metadata": {},
   "outputs": [],
   "source": [
    "df_clean=df_clean.dropna()"
   ]
  },
  {
   "cell_type": "code",
   "execution_count": 294,
   "metadata": {},
   "outputs": [
    {
     "data": {
      "text/plain": [
       "Index(['team', 'position', 'start_time', 'week', 'day_of_week', 'season_year',\n",
       "       'away_team', 'fantasy_score', 'temp', 'desc_simple', 'prev_score',\n",
       "       'avg3_score', 'avg5_score', 'avg3_tar', 'avg5_tar', 'avg3_rush_att',\n",
       "       'avg5_rush_att', 'prev_tar', 'prev_rush_att', 'prev_pass_att',\n",
       "       'avg3_pass_att', 'avg5_pass_att', 'is_home'],\n",
       "      dtype='object')"
      ]
     },
     "execution_count": 294,
     "metadata": {},
     "output_type": "execute_result"
    }
   ],
   "source": [
    "df_clean.columns"
   ]
  },
  {
   "cell_type": "code",
   "execution_count": 295,
   "metadata": {},
   "outputs": [],
   "source": [
    "dff=pd.get_dummies(df_clean,columns=['start_time','position','day_of_week','desc_simple','team','away_team'])\n"
   ]
  },
  {
   "cell_type": "code",
   "execution_count": 296,
   "metadata": {},
   "outputs": [
    {
     "data": {
      "text/plain": [
       "Index(['week', 'season_year', 'fantasy_score', 'temp', 'prev_score',\n",
       "       'avg3_score', 'avg5_score', 'avg3_tar', 'avg5_tar', 'avg3_rush_att',\n",
       "       ...\n",
       "       'away_team_PHI', 'away_team_PIT', 'away_team_SD', 'away_team_SEA',\n",
       "       'away_team_SF', 'away_team_STL', 'away_team_TB', 'away_team_TEN',\n",
       "       'away_team_UNK', 'away_team_WAS'],\n",
       "      dtype='object', length=117)"
      ]
     },
     "execution_count": 296,
     "metadata": {},
     "output_type": "execute_result"
    }
   ],
   "source": [
    "dff.columns"
   ]
  },
  {
   "cell_type": "code",
   "execution_count": 297,
   "metadata": {},
   "outputs": [],
   "source": [
    "X=dff.drop(['fantasy_score','season_year',],axis=1)\n",
    "y=dff.fantasy_score.values.reshape(-1,1)"
   ]
  },
  {
   "cell_type": "code",
   "execution_count": 298,
   "metadata": {},
   "outputs": [],
   "source": [
    "X_train, X_test, y_train, y_test = train_test_split(X,y,test_size=0.25, random_state=42)"
   ]
  },
  {
   "cell_type": "code",
   "execution_count": 299,
   "metadata": {},
   "outputs": [
    {
     "data": {
      "text/plain": [
       "0.2562231964131204"
      ]
     },
     "execution_count": 299,
     "metadata": {},
     "output_type": "execute_result"
    }
   ],
   "source": [
    "lm = LinearRegression()\n",
    "lm.fit(X_train,y_train)\n",
    "y_pred = lm.predict(X_train)\n",
    "lm.score(X_train,y_train)"
   ]
  },
  {
   "cell_type": "code",
   "execution_count": 243,
   "metadata": {},
   "outputs": [
    {
     "name": "stdout",
     "output_type": "stream",
     "text": [
      "MSE: 54.16060161778405\n",
      "RMSE: 7.359388671471568\n",
      "Mean Score: 12.560881834215168\n"
     ]
    }
   ],
   "source": [
    "y_pred = lm.predict(X_test)\n",
    "mse=mean_squared_error(y_test,y_pred)\n",
    "print('MSE: '+str(mse))\n",
    "print('RMSE: '+str(np.sqrt(mse)))\n",
    "print('Mean Score: '+str(np.mean(y_test)))"
   ]
  },
  {
   "cell_type": "code",
   "execution_count": 244,
   "metadata": {},
   "outputs": [],
   "source": [
    "res = y_pred - y_test"
   ]
  },
  {
   "cell_type": "code",
   "execution_count": 245,
   "metadata": {},
   "outputs": [
    {
     "data": {
      "text/plain": [
       "1134"
      ]
     },
     "execution_count": 245,
     "metadata": {},
     "output_type": "execute_result"
    }
   ],
   "source": [
    "len(res)"
   ]
  },
  {
   "cell_type": "code",
   "execution_count": 246,
   "metadata": {
    "scrolled": true
   },
   "outputs": [
    {
     "data": {
      "image/png": "[encoded data removed]",
      "text/plain": [
       "<Figure size 432x288 with 1 Axes>"
      ]
     },
     "metadata": {},
     "output_type": "display_data"
    }
   ],
   "source": [
    "_=plt.scatter(y_test,res)\n",
    "_=plt.ylabel('Residual (Prediction - Actual)')\n",
    "_=plt.xlabel('Actual Fantasy Score')\n",
    "_=plt.axhline(y=0.5, color='r', linestyle='-')\n",
    "_=plt.title('Residuals vs. Actual')"
   ]
  },
  {
   "cell_type": "code",
   "execution_count": 247,
   "metadata": {
    "scrolled": true
   },
   "outputs": [
    {
     "data": {
      "image/png": "[encoded data removed]",
      "text/plain": [
       "<Figure size 432x288 with 1 Axes>"
      ]
     },
     "metadata": {},
     "output_type": "display_data"
    }
   ],
   "source": [
    "sm.qqplot(res,line='s')\n",
    "plt.show()"
   ]
  },
  {
   "cell_type": "code",
   "execution_count": 248,
   "metadata": {},
   "outputs": [
    {
     "data": {
      "text/plain": [
       "array([[-1.6180e-01,  5.1097e-03,  2.2316e-02, -8.8083e-02,  1.3725e-01,\n",
       "         2.9291e-01,  1.9389e-01,  1.4483e-01,  2.7226e-02, -1.4110e-01,\n",
       "         6.3207e-02, -5.8564e-03,  1.7882e-01, -1.4133e-01,  6.8661e-01,\n",
       "        -1.6551e+11, -1.6551e+11, -1.6551e+11, -1.6551e+11, -1.6551e+11,\n",
       "        -1.6551e+11, -1.6551e+11, -1.6551e+11, -1.6551e+11, -1.6551e+11,\n",
       "        -1.6551e+11, -1.6551e+11, -1.6551e+11, -1.6551e+11, -1.6551e+11,\n",
       "        -1.6551e+11, -1.6551e+11, -1.6551e+11, -1.6551e+11, -1.6551e+11,\n",
       "        -8.0091e+10, -8.0091e+10, -8.0091e+10, -8.0091e+10, -7.6949e+10,\n",
       "        -7.6949e+10, -7.6949e+10, -7.6949e+10, -3.9226e+10, -3.9226e+10,\n",
       "        -3.9226e+10, -3.9226e+10, -9.9792e+09, -9.9792e+09, -9.9792e+09,\n",
       "        -9.9792e+09, -9.9792e+09, -9.9792e+09, -9.9792e+09, -9.9792e+09,\n",
       "        -9.9792e+09, -9.9792e+09, -9.9792e+09, -9.9792e+09, -9.9792e+09,\n",
       "        -9.9792e+09, -9.9792e+09, -9.9792e+09, -9.9792e+09, -9.9792e+09,\n",
       "        -9.9792e+09, -9.9792e+09, -9.9792e+09, -9.9792e+09, -9.9792e+09,\n",
       "        -9.9792e+09, -9.9792e+09, -9.9792e+09, -9.9792e+09, -9.9792e+09,\n",
       "        -9.9792e+09, -9.9792e+09, -9.9792e+09, -9.9792e+09, -9.9792e+09,\n",
       "        -9.9792e+09, -3.7921e+08, -3.7921e+08, -3.7921e+08, -3.7921e+08,\n",
       "        -3.7921e+08, -3.7921e+08, -3.7921e+08, -3.7921e+08, -3.7921e+08,\n",
       "        -3.7921e+08, -3.7921e+08, -3.7921e+08, -3.7921e+08, -3.7921e+08,\n",
       "        -3.7921e+08, -3.7921e+08, -3.7921e+08, -3.7921e+08, -3.7921e+08,\n",
       "        -3.7921e+08, -3.7921e+08, -3.7921e+08, -3.7921e+08, -3.7921e+08,\n",
       "        -3.7921e+08, -3.7921e+08, -3.7921e+08, -3.7921e+08, -3.7921e+08,\n",
       "        -3.7921e+08, -3.7921e+08, -3.7921e+08, -3.7921e+08, -3.7921e+08]])"
      ]
     },
     "execution_count": 248,
     "metadata": {},
     "output_type": "execute_result"
    }
   ],
   "source": [
    "lm.coef_"
   ]
  },
  {
   "cell_type": "code",
   "execution_count": null,
   "metadata": {},
   "outputs": [],
   "source": []
  },
  {
   "cell_type": "code",
   "execution_count": 249,
   "metadata": {},
   "outputs": [],
   "source": [
    "cv_results = cross_val_score(lm,X_train,y_train,cv=10)"
   ]
  },
  {
   "cell_type": "code",
   "execution_count": 250,
   "metadata": {},
   "outputs": [
    {
     "data": {
      "text/plain": [
       "0.1957933756863645"
      ]
     },
     "execution_count": 250,
     "metadata": {},
     "output_type": "execute_result"
    }
   ],
   "source": [
    "np.mean(cv_results)"
   ]
  },
  {
   "cell_type": "code",
   "execution_count": 251,
   "metadata": {
    "scrolled": true
   },
   "outputs": [
    {
     "name": "stderr",
     "output_type": "stream",
     "text": [
      "/anaconda3/lib/python3.6/site-packages/sklearn/linear_model/coordinate_descent.py:491: ConvergenceWarning: Objective did not converge. You might want to increase the number of iterations. Fitting data with very small alpha may cause precision problems.\n",
      "  ConvergenceWarning)\n",
      "/anaconda3/lib/python3.6/site-packages/sklearn/linear_model/coordinate_descent.py:491: ConvergenceWarning: Objective did not converge. You might want to increase the number of iterations. Fitting data with very small alpha may cause precision problems.\n",
      "  ConvergenceWarning)\n",
      "/anaconda3/lib/python3.6/site-packages/sklearn/linear_model/coordinate_descent.py:491: ConvergenceWarning: Objective did not converge. You might want to increase the number of iterations. Fitting data with very small alpha may cause precision problems.\n",
      "  ConvergenceWarning)\n",
      "/anaconda3/lib/python3.6/site-packages/sklearn/linear_model/coordinate_descent.py:491: ConvergenceWarning: Objective did not converge. You might want to increase the number of iterations. Fitting data with very small alpha may cause precision problems.\n",
      "  ConvergenceWarning)\n",
      "/anaconda3/lib/python3.6/site-packages/sklearn/linear_model/coordinate_descent.py:491: ConvergenceWarning: Objective did not converge. You might want to increase the number of iterations. Fitting data with very small alpha may cause precision problems.\n",
      "  ConvergenceWarning)\n"
     ]
    },
    {
     "name": "stdout",
     "output_type": "stream",
     "text": [
      "Training Fit: 0.1767334897388958\n",
      "MSE: 57.358120326571175\n",
      "RMSE: 7.573514397330421\n"
     ]
    },
    {
     "name": "stderr",
     "output_type": "stream",
     "text": [
      "/anaconda3/lib/python3.6/site-packages/sklearn/linear_model/coordinate_descent.py:491: ConvergenceWarning: Objective did not converge. You might want to increase the number of iterations. Fitting data with very small alpha may cause precision problems.\n",
      "  ConvergenceWarning)\n"
     ]
    }
   ],
   "source": [
    "en = ElasticNet(tol=0.35)\n",
    "l1_space= np.linspace(0,1,25)\n",
    "\n",
    "param_grid = {'l1_ratio':l1_space}\n",
    "gs = GridSearchCV(en,param_grid, cv=5)\n",
    "gs.fit(X_train,y_train)\n",
    "print('Training Fit: '+str(gs.score(X_train,y_train)))\n",
    "y_pred = gs.predict(X_test)\n",
    "mse = mean_squared_error(y_test,y_pred)\n",
    "print('MSE: '+str(mse))\n",
    "print('RMSE: '+str(np.sqrt(mse)))"
   ]
  },
  {
   "cell_type": "code",
   "execution_count": 252,
   "metadata": {},
   "outputs": [
    {
     "name": "stdout",
     "output_type": "stream",
     "text": [
      "0.2460758836462733\n",
      "54.07730672161598\n",
      "7.353727403270805\n"
     ]
    }
   ],
   "source": [
    "r=Ridge(normalize=True)\n",
    "alpha_space = np.logspace(-4, 0, 50)\n",
    "params = {'alpha':alpha_space}\n",
    "gs_r = GridSearchCV(r,params,cv=5)\n",
    "gs_r.fit(X_train,y_train)\n",
    "print(gs_r.score(X_train,y_train))\n",
    "y_pred = gs_r.predict(X_test)\n",
    "mse = mean_squared_error(y_test,y_pred)\n",
    "print(mse)\n",
    "print(np.sqrt(mse))"
   ]
  },
  {
   "cell_type": "code",
   "execution_count": null,
   "metadata": {},
   "outputs": [],
   "source": []
  },
  {
   "cell_type": "code",
   "execution_count": 253,
   "metadata": {},
   "outputs": [
    {
     "name": "stdout",
     "output_type": "stream",
     "text": [
      "0.23994776732209477\n",
      "53.234183473888876\n",
      "7.296175948665772\n"
     ]
    }
   ],
   "source": [
    "l = Lasso(tol=0.25)\n",
    "alpha_space = np.logspace(-4, 0, 50)\n",
    "params = {'alpha':alpha_space}\n",
    "gs_l = GridSearchCV(l,params,cv=5)\n",
    "gs_l.fit(X_train,y_train)\n",
    "print(gs_l.score(X_train,y_train))\n",
    "y_pred = gs_l.predict(X_test)\n",
    "mse= mean_squared_error(y_test,y_pred)\n",
    "print(mse)\n",
    "print(np.sqrt(mse))"
   ]
  },
  {
   "cell_type": "code",
   "execution_count": null,
   "metadata": {},
   "outputs": [],
   "source": []
  },
  {
   "cell_type": "code",
   "execution_count": 185,
   "metadata": {},
   "outputs": [
    {
     "data": {
      "image/png": "[encoded data removed]",
      "text/plain": [
       "<Figure size 1080x576 with 1 Axes>"
      ]
     },
     "metadata": {},
     "output_type": "display_data"
    }
   ],
   "source": [
    "names = X.columns\n",
    "plt.figure(figsize=(15,8))\n",
    "_=plt.plot(range(len(names)),gs_l.best_estimator_.coef_)\n",
    "_=plt.xticks(range(len(names)),names,rotation=60)\n",
    "_=plt.ylabel('Coefficients')"
   ]
  },
  {
   "cell_type": "code",
   "execution_count": 254,
   "metadata": {},
   "outputs": [],
   "source": [
    "aa = pd.DataFrame({'Factor':np.array(list(X.columns)),'Coefficient':gs_l.best_estimator_.coef_})"
   ]
  },
  {
   "cell_type": "code",
   "execution_count": 255,
   "metadata": {},
   "outputs": [
    {
     "data": {
      "text/html": [
       "<div>\n",
       "<style scoped>\n",
       "    .dataframe tbody tr th:only-of-type {\n",
       "        vertical-align: middle;\n",
       "    }\n",
       "\n",
       "    .dataframe tbody tr th {\n",
       "        vertical-align: top;\n",
       "    }\n",
       "\n",
       "    .dataframe thead th {\n",
       "        text-align: right;\n",
       "    }\n",
       "</style>\n",
       "<table border=\"1\" class=\"dataframe\">\n",
       "  <thead>\n",
       "    <tr style=\"text-align: right;\">\n",
       "      <th></th>\n",
       "      <th>Factor</th>\n",
       "      <th>Coefficient</th>\n",
       "    </tr>\n",
       "  </thead>\n",
       "  <tbody>\n",
       "    <tr>\n",
       "      <th>35</th>\n",
       "      <td>position_QB</td>\n",
       "      <td>6.121430</td>\n",
       "    </tr>\n",
       "    <tr>\n",
       "      <th>67</th>\n",
       "      <td>team_NO</td>\n",
       "      <td>1.752890</td>\n",
       "    </tr>\n",
       "    <tr>\n",
       "      <th>38</th>\n",
       "      <td>position_WR</td>\n",
       "      <td>1.513958</td>\n",
       "    </tr>\n",
       "    <tr>\n",
       "      <th>58</th>\n",
       "      <td>team_GB</td>\n",
       "      <td>1.299401</td>\n",
       "    </tr>\n",
       "    <tr>\n",
       "      <th>105</th>\n",
       "      <td>away_team_PHI</td>\n",
       "      <td>1.250169</td>\n",
       "    </tr>\n",
       "    <tr>\n",
       "      <th>72</th>\n",
       "      <td>team_PIT</td>\n",
       "      <td>1.085424</td>\n",
       "    </tr>\n",
       "    <tr>\n",
       "      <th>114</th>\n",
       "      <td>away_team_WAS</td>\n",
       "      <td>1.028500</td>\n",
       "    </tr>\n",
       "    <tr>\n",
       "      <th>43</th>\n",
       "      <td>desc_simple_Good</td>\n",
       "      <td>1.005620</td>\n",
       "    </tr>\n",
       "    <tr>\n",
       "      <th>68</th>\n",
       "      <td>team_NYG</td>\n",
       "      <td>0.989031</td>\n",
       "    </tr>\n",
       "    <tr>\n",
       "      <th>92</th>\n",
       "      <td>away_team_GB</td>\n",
       "      <td>0.761190</td>\n",
       "    </tr>\n",
       "    <tr>\n",
       "      <th>40</th>\n",
       "      <td>day_of_week_Saturday</td>\n",
       "      <td>0.738043</td>\n",
       "    </tr>\n",
       "    <tr>\n",
       "      <th>14</th>\n",
       "      <td>is_home</td>\n",
       "      <td>0.624724</td>\n",
       "    </tr>\n",
       "    <tr>\n",
       "      <th>90</th>\n",
       "      <td>away_team_DEN</td>\n",
       "      <td>0.473179</td>\n",
       "    </tr>\n",
       "    <tr>\n",
       "      <th>20</th>\n",
       "      <td>start_time_01:30:00</td>\n",
       "      <td>0.403898</td>\n",
       "    </tr>\n",
       "    <tr>\n",
       "      <th>32</th>\n",
       "      <td>start_time_21:25:00</td>\n",
       "      <td>0.332181</td>\n",
       "    </tr>\n",
       "    <tr>\n",
       "      <th>48</th>\n",
       "      <td>team_ATL</td>\n",
       "      <td>0.272648</td>\n",
       "    </tr>\n",
       "    <tr>\n",
       "      <th>5</th>\n",
       "      <td>avg3_tar</td>\n",
       "      <td>0.271087</td>\n",
       "    </tr>\n",
       "    <tr>\n",
       "      <th>94</th>\n",
       "      <td>away_team_IND</td>\n",
       "      <td>0.203102</td>\n",
       "    </tr>\n",
       "    <tr>\n",
       "      <th>4</th>\n",
       "      <td>avg5_score</td>\n",
       "      <td>0.168067</td>\n",
       "    </tr>\n",
       "    <tr>\n",
       "      <th>62</th>\n",
       "      <td>team_KC</td>\n",
       "      <td>0.161486</td>\n",
       "    </tr>\n",
       "    <tr>\n",
       "      <th>6</th>\n",
       "      <td>avg5_tar</td>\n",
       "      <td>0.147271</td>\n",
       "    </tr>\n",
       "    <tr>\n",
       "      <th>74</th>\n",
       "      <td>team_SEA</td>\n",
       "      <td>0.121329</td>\n",
       "    </tr>\n",
       "    <tr>\n",
       "      <th>12</th>\n",
       "      <td>avg3_pass_att</td>\n",
       "      <td>0.119791</td>\n",
       "    </tr>\n",
       "    <tr>\n",
       "      <th>7</th>\n",
       "      <td>avg3_rush_att</td>\n",
       "      <td>0.107658</td>\n",
       "    </tr>\n",
       "    <tr>\n",
       "      <th>28</th>\n",
       "      <td>start_time_18:00:00</td>\n",
       "      <td>0.087605</td>\n",
       "    </tr>\n",
       "    <tr>\n",
       "      <th>82</th>\n",
       "      <td>away_team_ATL</td>\n",
       "      <td>0.083458</td>\n",
       "    </tr>\n",
       "    <tr>\n",
       "      <th>10</th>\n",
       "      <td>prev_rush_att</td>\n",
       "      <td>0.062720</td>\n",
       "    </tr>\n",
       "    <tr>\n",
       "      <th>8</th>\n",
       "      <td>avg5_rush_att</td>\n",
       "      <td>0.026306</td>\n",
       "    </tr>\n",
       "    <tr>\n",
       "      <th>2</th>\n",
       "      <td>prev_score</td>\n",
       "      <td>0.017501</td>\n",
       "    </tr>\n",
       "    <tr>\n",
       "      <th>71</th>\n",
       "      <td>team_PHI</td>\n",
       "      <td>0.000000</td>\n",
       "    </tr>\n",
       "    <tr>\n",
       "      <th>...</th>\n",
       "      <td>...</td>\n",
       "      <td>...</td>\n",
       "    </tr>\n",
       "    <tr>\n",
       "      <th>56</th>\n",
       "      <td>team_DEN</td>\n",
       "      <td>0.000000</td>\n",
       "    </tr>\n",
       "    <tr>\n",
       "      <th>55</th>\n",
       "      <td>team_DAL</td>\n",
       "      <td>0.000000</td>\n",
       "    </tr>\n",
       "    <tr>\n",
       "      <th>47</th>\n",
       "      <td>team_ARI</td>\n",
       "      <td>-0.000000</td>\n",
       "    </tr>\n",
       "    <tr>\n",
       "      <th>46</th>\n",
       "      <td>desc_simple_Windy</td>\n",
       "      <td>-0.000000</td>\n",
       "    </tr>\n",
       "    <tr>\n",
       "      <th>45</th>\n",
       "      <td>desc_simple_Wet</td>\n",
       "      <td>-0.000000</td>\n",
       "    </tr>\n",
       "    <tr>\n",
       "      <th>1</th>\n",
       "      <td>temp</td>\n",
       "      <td>-0.003422</td>\n",
       "    </tr>\n",
       "    <tr>\n",
       "      <th>104</th>\n",
       "      <td>away_team_OAK</td>\n",
       "      <td>-0.023438</td>\n",
       "    </tr>\n",
       "    <tr>\n",
       "      <th>84</th>\n",
       "      <td>away_team_BUF</td>\n",
       "      <td>-0.037837</td>\n",
       "    </tr>\n",
       "    <tr>\n",
       "      <th>49</th>\n",
       "      <td>team_BAL</td>\n",
       "      <td>-0.058359</td>\n",
       "    </tr>\n",
       "    <tr>\n",
       "      <th>64</th>\n",
       "      <td>team_MIA</td>\n",
       "      <td>-0.065024</td>\n",
       "    </tr>\n",
       "    <tr>\n",
       "      <th>3</th>\n",
       "      <td>avg3_score</td>\n",
       "      <td>-0.069581</td>\n",
       "    </tr>\n",
       "    <tr>\n",
       "      <th>13</th>\n",
       "      <td>avg5_pass_att</td>\n",
       "      <td>-0.088196</td>\n",
       "    </tr>\n",
       "    <tr>\n",
       "      <th>9</th>\n",
       "      <td>prev_tar</td>\n",
       "      <td>-0.124222</td>\n",
       "    </tr>\n",
       "    <tr>\n",
       "      <th>0</th>\n",
       "      <td>week</td>\n",
       "      <td>-0.143345</td>\n",
       "    </tr>\n",
       "    <tr>\n",
       "      <th>101</th>\n",
       "      <td>away_team_NO</td>\n",
       "      <td>-0.165090</td>\n",
       "    </tr>\n",
       "    <tr>\n",
       "      <th>80</th>\n",
       "      <td>team_WAS</td>\n",
       "      <td>-0.190840</td>\n",
       "    </tr>\n",
       "    <tr>\n",
       "      <th>69</th>\n",
       "      <td>team_NYJ</td>\n",
       "      <td>-0.195259</td>\n",
       "    </tr>\n",
       "    <tr>\n",
       "      <th>100</th>\n",
       "      <td>away_team_NE</td>\n",
       "      <td>-0.205473</td>\n",
       "    </tr>\n",
       "    <tr>\n",
       "      <th>86</th>\n",
       "      <td>away_team_CHI</td>\n",
       "      <td>-0.209428</td>\n",
       "    </tr>\n",
       "    <tr>\n",
       "      <th>41</th>\n",
       "      <td>day_of_week_Sunday</td>\n",
       "      <td>-0.262992</td>\n",
       "    </tr>\n",
       "    <tr>\n",
       "      <th>108</th>\n",
       "      <td>away_team_SEA</td>\n",
       "      <td>-0.504621</td>\n",
       "    </tr>\n",
       "    <tr>\n",
       "      <th>36</th>\n",
       "      <td>position_RB</td>\n",
       "      <td>-0.531081</td>\n",
       "    </tr>\n",
       "    <tr>\n",
       "      <th>87</th>\n",
       "      <td>away_team_CIN</td>\n",
       "      <td>-0.538509</td>\n",
       "    </tr>\n",
       "    <tr>\n",
       "      <th>83</th>\n",
       "      <td>away_team_BAL</td>\n",
       "      <td>-0.558927</td>\n",
       "    </tr>\n",
       "    <tr>\n",
       "      <th>21</th>\n",
       "      <td>start_time_01:40:00</td>\n",
       "      <td>-0.617974</td>\n",
       "    </tr>\n",
       "    <tr>\n",
       "      <th>19</th>\n",
       "      <td>start_time_01:25:00</td>\n",
       "      <td>-0.700877</td>\n",
       "    </tr>\n",
       "    <tr>\n",
       "      <th>110</th>\n",
       "      <td>away_team_STL</td>\n",
       "      <td>-0.756501</td>\n",
       "    </tr>\n",
       "    <tr>\n",
       "      <th>77</th>\n",
       "      <td>team_TB</td>\n",
       "      <td>-0.910753</td>\n",
       "    </tr>\n",
       "    <tr>\n",
       "      <th>70</th>\n",
       "      <td>team_OAK</td>\n",
       "      <td>-1.092029</td>\n",
       "    </tr>\n",
       "    <tr>\n",
       "      <th>37</th>\n",
       "      <td>position_TE</td>\n",
       "      <td>-2.838837</td>\n",
       "    </tr>\n",
       "  </tbody>\n",
       "</table>\n",
       "<p>115 rows × 2 columns</p>\n",
       "</div>"
      ],
      "text/plain": [
       "                   Factor  Coefficient\n",
       "35            position_QB     6.121430\n",
       "67                team_NO     1.752890\n",
       "38            position_WR     1.513958\n",
       "58                team_GB     1.299401\n",
       "105         away_team_PHI     1.250169\n",
       "72               team_PIT     1.085424\n",
       "114         away_team_WAS     1.028500\n",
       "43       desc_simple_Good     1.005620\n",
       "68               team_NYG     0.989031\n",
       "92           away_team_GB     0.761190\n",
       "40   day_of_week_Saturday     0.738043\n",
       "14                is_home     0.624724\n",
       "90          away_team_DEN     0.473179\n",
       "20    start_time_01:30:00     0.403898\n",
       "32    start_time_21:25:00     0.332181\n",
       "48               team_ATL     0.272648\n",
       "5                avg3_tar     0.271087\n",
       "94          away_team_IND     0.203102\n",
       "4              avg5_score     0.168067\n",
       "62                team_KC     0.161486\n",
       "6                avg5_tar     0.147271\n",
       "74               team_SEA     0.121329\n",
       "12          avg3_pass_att     0.119791\n",
       "7           avg3_rush_att     0.107658\n",
       "28    start_time_18:00:00     0.087605\n",
       "82          away_team_ATL     0.083458\n",
       "10          prev_rush_att     0.062720\n",
       "8           avg5_rush_att     0.026306\n",
       "2              prev_score     0.017501\n",
       "71               team_PHI     0.000000\n",
       "..                    ...          ...\n",
       "56               team_DEN     0.000000\n",
       "55               team_DAL     0.000000\n",
       "47               team_ARI    -0.000000\n",
       "46      desc_simple_Windy    -0.000000\n",
       "45        desc_simple_Wet    -0.000000\n",
       "1                    temp    -0.003422\n",
       "104         away_team_OAK    -0.023438\n",
       "84          away_team_BUF    -0.037837\n",
       "49               team_BAL    -0.058359\n",
       "64               team_MIA    -0.065024\n",
       "3              avg3_score    -0.069581\n",
       "13          avg5_pass_att    -0.088196\n",
       "9                prev_tar    -0.124222\n",
       "0                    week    -0.143345\n",
       "101          away_team_NO    -0.165090\n",
       "80               team_WAS    -0.190840\n",
       "69               team_NYJ    -0.195259\n",
       "100          away_team_NE    -0.205473\n",
       "86          away_team_CHI    -0.209428\n",
       "41     day_of_week_Sunday    -0.262992\n",
       "108         away_team_SEA    -0.504621\n",
       "36            position_RB    -0.531081\n",
       "87          away_team_CIN    -0.538509\n",
       "83          away_team_BAL    -0.558927\n",
       "21    start_time_01:40:00    -0.617974\n",
       "19    start_time_01:25:00    -0.700877\n",
       "110         away_team_STL    -0.756501\n",
       "77                team_TB    -0.910753\n",
       "70               team_OAK    -1.092029\n",
       "37            position_TE    -2.838837\n",
       "\n",
       "[115 rows x 2 columns]"
      ]
     },
     "execution_count": 255,
     "metadata": {},
     "output_type": "execute_result"
    }
   ],
   "source": [
    "aa.sort_values('Coefficient',ascending=False)"
   ]
  },
  {
   "cell_type": "code",
   "execution_count": 302,
   "metadata": {},
   "outputs": [
    {
     "name": "stdout",
     "output_type": "stream",
     "text": [
      "Index(['week', 'season_year', 'fantasy_score', 'temp', 'prev_score',\n",
      "       'avg3_score', 'avg5_score', 'avg3_tar', 'avg5_tar', 'avg3_rush_att',\n",
      "       ...\n",
      "       'away_team_PHI', 'away_team_PIT', 'away_team_SD', 'away_team_SEA',\n",
      "       'away_team_SF', 'away_team_STL', 'away_team_TB', 'away_team_TEN',\n",
      "       'away_team_UNK', 'away_team_WAS'],\n",
      "      dtype='object', length=117)\n"
     ]
    }
   ],
   "source": [
    "print(dff.columns)"
   ]
  },
  {
   "cell_type": "code",
   "execution_count": 303,
   "metadata": {
    "scrolled": true
   },
   "outputs": [
    {
     "data": {
      "text/plain": [
       "0.8460483678345914"
      ]
     },
     "execution_count": 303,
     "metadata": {},
     "output_type": "execute_result"
    }
   ],
   "source": [
    "#RandomForest\n",
    "#Start with new training data, including categorical variables.\n",
    "dff = pd.get_dummies(dff)\n",
    "X=dff.drop('fantasy_score',axis=1)\n",
    "y=dff.fantasy_score.values.reshape(-1,1)\n",
    "X_train, X_test, y_train, y_test = train_test_split(X,y,test_size=0.25, random_state=42)\n",
    "rf=RandomForestRegressor()\n",
    "\n",
    "#gs_rf = GridSearchCV(rf,random_grid,cv=3)\n",
    "rf.fit(X_train,y_train.ravel())\n",
    "rf.score(X_train,y_train)"
   ]
  },
  {
   "cell_type": "code",
   "execution_count": 304,
   "metadata": {},
   "outputs": [
    {
     "data": {
      "text/plain": [
       "58.62239638859494"
      ]
     },
     "execution_count": 304,
     "metadata": {},
     "output_type": "execute_result"
    }
   ],
   "source": [
    "y_pred = rf.predict(X_test)\n",
    "mean_squared_error(y_test,y_pred)"
   ]
  },
  {
   "cell_type": "code",
   "execution_count": 79,
   "metadata": {},
   "outputs": [
    {
     "data": {
      "text/plain": [
       "0.4859785701209889"
      ]
     },
     "execution_count": 79,
     "metadata": {},
     "output_type": "execute_result"
    }
   ],
   "source": [
    "rf=RandomForestRegressor()\n",
    "\n",
    "gs_rf = RandomizedSearchCV(rf,random_grid,cv=5)\n",
    "gs_rf.fit(X_train,y_train.ravel())\n",
    "gs_rf.score(X_train,y_train)"
   ]
  },
  {
   "cell_type": "code",
   "execution_count": 80,
   "metadata": {},
   "outputs": [
    {
     "data": {
      "text/plain": [
       "52.612039151899424"
      ]
     },
     "execution_count": 80,
     "metadata": {},
     "output_type": "execute_result"
    }
   ],
   "source": [
    "y_pred_random = gs_rf.predict(X_test)\n",
    "mean_squared_error(y_test,y_pred_random)"
   ]
  },
  {
   "cell_type": "code",
   "execution_count": 81,
   "metadata": {
    "scrolled": true
   },
   "outputs": [
    {
     "data": {
      "text/plain": [
       "RandomForestRegressor(bootstrap=True, criterion='mse', max_depth=None,\n",
       "           max_features='sqrt', max_leaf_nodes=None,\n",
       "           min_impurity_decrease=0.0, min_impurity_split=None,\n",
       "           min_samples_leaf=4, min_samples_split=2,\n",
       "           min_weight_fraction_leaf=0.0, n_estimators=130, n_jobs=1,\n",
       "           oob_score=False, random_state=None, verbose=0, warm_start=False)"
      ]
     },
     "execution_count": 81,
     "metadata": {},
     "output_type": "execute_result"
    }
   ],
   "source": [
    "gs_rf.best_estimator_"
   ]
  },
  {
   "cell_type": "code",
   "execution_count": 82,
   "metadata": {},
   "outputs": [
    {
     "data": {
      "text/plain": [
       "{'n_estimators': 130,\n",
       " 'min_samples_split': 2,\n",
       " 'min_samples_leaf': 4,\n",
       " 'max_features': 'sqrt',\n",
       " 'max_depth': None,\n",
       " 'bootstrap': True}"
      ]
     },
     "execution_count": 82,
     "metadata": {},
     "output_type": "execute_result"
    }
   ],
   "source": [
    "gs_rf.best_params_"
   ]
  },
  {
   "cell_type": "code",
   "execution_count": 306,
   "metadata": {},
   "outputs": [],
   "source": [
    "n_estimators = [int(x) for x in np.linspace(start = 10, stop = 500, num = 5)]\n",
    "# Number of features to consider at every split\n",
    "max_features = ['auto', 'sqrt']\n",
    "# Maximum number of levels in tree\n",
    "max_depth = [int(x) for x in np.linspace(10, 110, num = 6)]\n",
    "max_depth.append(None)\n",
    "# Minimum number of samples required to split a node\n",
    "min_samples_split = [2, 5, 10]\n",
    "# Minimum number of samples required at each leaf node\n",
    "min_samples_leaf = [1, 2, 4]\n",
    "# Method of selecting samples for training each tree\n",
    "bootstrap = [True, False]\n",
    "# Create the random grid\n",
    "random_grid = {'n_estimators': n_estimators,\n",
    "               'max_features': max_features,\n",
    "               'max_depth': max_depth,\n",
    "               'min_samples_split': min_samples_split,\n",
    "               'min_samples_leaf': min_samples_leaf,\n",
    "               'bootstrap': bootstrap}"
   ]
  },
  {
   "cell_type": "code",
   "execution_count": 308,
   "metadata": {
    "scrolled": true
   },
   "outputs": [],
   "source": [
    "#Let's split by position first and re-run.\n",
    "dfs = {}\n",
    "for p in df_clean['position'].unique():\n",
    "    dfs[p] = df_clean[df_clean.position==p]\n"
   ]
  },
  {
   "cell_type": "code",
   "execution_count": 309,
   "metadata": {},
   "outputs": [],
   "source": [
    "#Adding dummies\n",
    "for p in dfs:\n",
    "    dfs[p]=pd.get_dummies(dfs[p],columns=['start_time','day_of_week','desc_simple','away_team','team'])"
   ]
  },
  {
   "cell_type": "code",
   "execution_count": 311,
   "metadata": {},
   "outputs": [
    {
     "data": {
      "text/plain": [
       "4533"
      ]
     },
     "execution_count": 311,
     "metadata": {},
     "output_type": "execute_result"
    }
   ],
   "source": [
    "len(df_clean)"
   ]
  },
  {
   "cell_type": "code",
   "execution_count": 310,
   "metadata": {},
   "outputs": [
    {
     "name": "stdout",
     "output_type": "stream",
     "text": [
      "QB\n",
      "Training Fit: 0.5251788532283282\n",
      "MSE: 54.8756250357274\n",
      "RMSE: 7.40780838276257\n",
      "Mean score: 18.273125\n",
      "----------\n",
      "WR\n",
      "Training Fit: 0.3296214789373212\n",
      "MSE: 56.10992033842831\n",
      "RMSE: 7.490655534626346\n",
      "Mean score: 12.946105919003118\n",
      "----------\n",
      "RB\n",
      "Training Fit: 0.5752510747734676\n",
      "MSE: 49.039519166885505\n",
      "RMSE: 7.002822228707902\n",
      "Mean score: 11.420973782771537\n",
      "----------\n",
      "TE\n",
      "Training Fit: 0.6141070665701789\n",
      "MSE: 38.37650148750813\n",
      "RMSE: 6.194877035705239\n",
      "Mean score: 7.816923076923076\n",
      "----------\n"
     ]
    }
   ],
   "source": [
    "for p in pos:\n",
    "\n",
    "\n",
    "    X=dfs[p].drop(['fantasy_score','position','season_year'],axis=1)\n",
    "    y=dfs[p].fantasy_score.values.reshape(-1,1)\n",
    "    X_train, X_test, y_train, y_test = train_test_split(X,y,test_size=0.25, random_state=42)\n",
    "    rf=RandomForestRegressor()\n",
    "    gs_rf = RandomizedSearchCV(rf,random_grid,cv=5)\n",
    "    gs_rf.fit(X_train,y_train.ravel())\n",
    "\n",
    "    \n",
    "    print(p)\n",
    "    print('Training Fit: '+str(gs_rf.score(X_train,y_train)))\n",
    "    y_pred = gs_rf.predict(X_test)\n",
    "    mse = mean_squared_error(y_test,y_pred)\n",
    "    \n",
    "    print('MSE: '+str(mse))\n",
    "    print('RMSE: '+str(np.sqrt(mse)))\n",
    "    print('Mean score: '+str(np.mean(y_test)))\n",
    "    print('----------')"
   ]
  },
  {
   "cell_type": "code",
   "execution_count": 279,
   "metadata": {
    "scrolled": false
   },
   "outputs": [
    {
     "name": "stdout",
     "output_type": "stream",
     "text": [
      "QB\n",
      "Training Fit: 0.09095373884576086\n",
      "MSE: 51.01710063740782\n",
      "RMSE: 7.142625612294671\n",
      "Mean score: 18.273125\n",
      "----------\n",
      "WR\n",
      "Training Fit: 0.008359406497424615\n",
      "MSE: 57.19735880784763\n",
      "RMSE: 7.56289354730368\n",
      "Mean score: 12.946105919003118\n",
      "----------\n",
      "RB\n",
      "Training Fit: 0.14488010076436886\n",
      "MSE: 53.14092587096577\n",
      "RMSE: 7.28978229242587\n",
      "Mean score: 11.420973782771537\n",
      "----------\n",
      "TE\n",
      "Training Fit: 0.10011580090766824\n",
      "MSE: 39.16014477213987\n",
      "RMSE: 6.257806706198257\n",
      "Mean score: 7.816923076923076\n",
      "----------\n"
     ]
    }
   ],
   "source": [
    "clfs={}\n",
    "for p in pos:\n",
    "    X=dfs[p].drop(['fantasy_score','position','season_year','team'],axis=1)\n",
    "    y=dfs[p].fantasy_score.values.reshape(-1,1)\n",
    "    X_train, X_test, y_train, y_test = train_test_split(X,y,test_size=0.25, random_state=42)\n",
    "    l = Lasso(tol=0.4)\n",
    "    alpha_space = np.logspace(-4, 0, 50)\n",
    "    params = {'alpha':alpha_space}\n",
    "    gs_l = GridSearchCV(l,params,cv=5)\n",
    "    gs_l.fit(X_train,y_train)\n",
    "    clfs[p]=gs_l\n",
    "    print(p)\n",
    "    print('Training Fit: '+str(gs_l.score(X_train,y_train)))\n",
    "    y_pred = gs_l.predict(X_test)\n",
    "    mse = mean_squared_error(y_test,y_pred)\n",
    "    print('MSE: '+str(mse))\n",
    "    print('RMSE: '+str(np.sqrt(mse)))\n",
    "    print('Mean score: '+str(np.mean(y_test)))\n",
    "    print('----------')"
   ]
  },
  {
   "cell_type": "code",
   "execution_count": 280,
   "metadata": {},
   "outputs": [],
   "source": [
    "aa = pd.DataFrame({'Factor':np.array(list(X.columns)),'Coefficient':gs_l.best_estimator_.coef_})"
   ]
  },
  {
   "cell_type": "code",
   "execution_count": 281,
   "metadata": {},
   "outputs": [
    {
     "data": {
      "text/html": [
       "<div>\n",
       "<style scoped>\n",
       "    .dataframe tbody tr th:only-of-type {\n",
       "        vertical-align: middle;\n",
       "    }\n",
       "\n",
       "    .dataframe tbody tr th {\n",
       "        vertical-align: top;\n",
       "    }\n",
       "\n",
       "    .dataframe thead th {\n",
       "        text-align: right;\n",
       "    }\n",
       "</style>\n",
       "<table border=\"1\" class=\"dataframe\">\n",
       "  <thead>\n",
       "    <tr style=\"text-align: right;\">\n",
       "      <th></th>\n",
       "      <th>Factor</th>\n",
       "      <th>Coefficient</th>\n",
       "    </tr>\n",
       "  </thead>\n",
       "  <tbody>\n",
       "    <tr>\n",
       "      <th>4</th>\n",
       "      <td>avg5_score</td>\n",
       "      <td>0.199608</td>\n",
       "    </tr>\n",
       "    <tr>\n",
       "      <th>3</th>\n",
       "      <td>avg3_score</td>\n",
       "      <td>0.186035</td>\n",
       "    </tr>\n",
       "    <tr>\n",
       "      <th>6</th>\n",
       "      <td>avg5_tar</td>\n",
       "      <td>0.142910</td>\n",
       "    </tr>\n",
       "    <tr>\n",
       "      <th>5</th>\n",
       "      <td>avg3_tar</td>\n",
       "      <td>0.116768</td>\n",
       "    </tr>\n",
       "    <tr>\n",
       "      <th>1</th>\n",
       "      <td>temp</td>\n",
       "      <td>0.005456</td>\n",
       "    </tr>\n",
       "    <tr>\n",
       "      <th>38</th>\n",
       "      <td>desc_simple_Good</td>\n",
       "      <td>-0.000000</td>\n",
       "    </tr>\n",
       "    <tr>\n",
       "      <th>50</th>\n",
       "      <td>away_team_DAL</td>\n",
       "      <td>-0.000000</td>\n",
       "    </tr>\n",
       "    <tr>\n",
       "      <th>56</th>\n",
       "      <td>away_team_JAX</td>\n",
       "      <td>-0.000000</td>\n",
       "    </tr>\n",
       "    <tr>\n",
       "      <th>55</th>\n",
       "      <td>away_team_IND</td>\n",
       "      <td>0.000000</td>\n",
       "    </tr>\n",
       "    <tr>\n",
       "      <th>54</th>\n",
       "      <td>away_team_HOU</td>\n",
       "      <td>-0.000000</td>\n",
       "    </tr>\n",
       "    <tr>\n",
       "      <th>53</th>\n",
       "      <td>away_team_GB</td>\n",
       "      <td>-0.000000</td>\n",
       "    </tr>\n",
       "    <tr>\n",
       "      <th>52</th>\n",
       "      <td>away_team_DET</td>\n",
       "      <td>0.000000</td>\n",
       "    </tr>\n",
       "    <tr>\n",
       "      <th>51</th>\n",
       "      <td>away_team_DEN</td>\n",
       "      <td>0.000000</td>\n",
       "    </tr>\n",
       "    <tr>\n",
       "      <th>47</th>\n",
       "      <td>away_team_CHI</td>\n",
       "      <td>0.000000</td>\n",
       "    </tr>\n",
       "    <tr>\n",
       "      <th>49</th>\n",
       "      <td>away_team_CLE</td>\n",
       "      <td>-0.000000</td>\n",
       "    </tr>\n",
       "    <tr>\n",
       "      <th>48</th>\n",
       "      <td>away_team_CIN</td>\n",
       "      <td>-0.000000</td>\n",
       "    </tr>\n",
       "    <tr>\n",
       "      <th>58</th>\n",
       "      <td>away_team_LA</td>\n",
       "      <td>-0.000000</td>\n",
       "    </tr>\n",
       "    <tr>\n",
       "      <th>46</th>\n",
       "      <td>away_team_CAR</td>\n",
       "      <td>0.000000</td>\n",
       "    </tr>\n",
       "    <tr>\n",
       "      <th>45</th>\n",
       "      <td>away_team_BUF</td>\n",
       "      <td>-0.000000</td>\n",
       "    </tr>\n",
       "    <tr>\n",
       "      <th>44</th>\n",
       "      <td>away_team_BAL</td>\n",
       "      <td>-0.000000</td>\n",
       "    </tr>\n",
       "    <tr>\n",
       "      <th>43</th>\n",
       "      <td>away_team_ATL</td>\n",
       "      <td>0.000000</td>\n",
       "    </tr>\n",
       "    <tr>\n",
       "      <th>57</th>\n",
       "      <td>away_team_KC</td>\n",
       "      <td>0.000000</td>\n",
       "    </tr>\n",
       "    <tr>\n",
       "      <th>60</th>\n",
       "      <td>away_team_MIN</td>\n",
       "      <td>0.000000</td>\n",
       "    </tr>\n",
       "    <tr>\n",
       "      <th>59</th>\n",
       "      <td>away_team_MIA</td>\n",
       "      <td>0.000000</td>\n",
       "    </tr>\n",
       "    <tr>\n",
       "      <th>68</th>\n",
       "      <td>away_team_SD</td>\n",
       "      <td>0.000000</td>\n",
       "    </tr>\n",
       "    <tr>\n",
       "      <th>74</th>\n",
       "      <td>away_team_UNK</td>\n",
       "      <td>-0.000000</td>\n",
       "    </tr>\n",
       "    <tr>\n",
       "      <th>73</th>\n",
       "      <td>away_team_TEN</td>\n",
       "      <td>0.000000</td>\n",
       "    </tr>\n",
       "    <tr>\n",
       "      <th>72</th>\n",
       "      <td>away_team_TB</td>\n",
       "      <td>-0.000000</td>\n",
       "    </tr>\n",
       "    <tr>\n",
       "      <th>71</th>\n",
       "      <td>away_team_STL</td>\n",
       "      <td>-0.000000</td>\n",
       "    </tr>\n",
       "    <tr>\n",
       "      <th>70</th>\n",
       "      <td>away_team_SF</td>\n",
       "      <td>0.000000</td>\n",
       "    </tr>\n",
       "    <tr>\n",
       "      <th>...</th>\n",
       "      <td>...</td>\n",
       "      <td>...</td>\n",
       "    </tr>\n",
       "    <tr>\n",
       "      <th>14</th>\n",
       "      <td>is_home</td>\n",
       "      <td>0.000000</td>\n",
       "    </tr>\n",
       "    <tr>\n",
       "      <th>15</th>\n",
       "      <td>start_time_00:00:00</td>\n",
       "      <td>0.000000</td>\n",
       "    </tr>\n",
       "    <tr>\n",
       "      <th>16</th>\n",
       "      <td>start_time_00:25:00</td>\n",
       "      <td>-0.000000</td>\n",
       "    </tr>\n",
       "    <tr>\n",
       "      <th>17</th>\n",
       "      <td>start_time_00:30:00</td>\n",
       "      <td>0.000000</td>\n",
       "    </tr>\n",
       "    <tr>\n",
       "      <th>18</th>\n",
       "      <td>start_time_00:40:00</td>\n",
       "      <td>0.000000</td>\n",
       "    </tr>\n",
       "    <tr>\n",
       "      <th>19</th>\n",
       "      <td>start_time_01:25:00</td>\n",
       "      <td>0.000000</td>\n",
       "    </tr>\n",
       "    <tr>\n",
       "      <th>20</th>\n",
       "      <td>start_time_01:30:00</td>\n",
       "      <td>0.000000</td>\n",
       "    </tr>\n",
       "    <tr>\n",
       "      <th>21</th>\n",
       "      <td>start_time_01:40:00</td>\n",
       "      <td>-0.000000</td>\n",
       "    </tr>\n",
       "    <tr>\n",
       "      <th>39</th>\n",
       "      <td>desc_simple_Snowy</td>\n",
       "      <td>0.000000</td>\n",
       "    </tr>\n",
       "    <tr>\n",
       "      <th>23</th>\n",
       "      <td>start_time_13:30:00</td>\n",
       "      <td>-0.000000</td>\n",
       "    </tr>\n",
       "    <tr>\n",
       "      <th>22</th>\n",
       "      <td>start_time_02:20:00</td>\n",
       "      <td>0.000000</td>\n",
       "    </tr>\n",
       "    <tr>\n",
       "      <th>25</th>\n",
       "      <td>start_time_17:00:00</td>\n",
       "      <td>-0.000000</td>\n",
       "    </tr>\n",
       "    <tr>\n",
       "      <th>32</th>\n",
       "      <td>start_time_21:30:00</td>\n",
       "      <td>0.000000</td>\n",
       "    </tr>\n",
       "    <tr>\n",
       "      <th>37</th>\n",
       "      <td>day_of_week_Thursday</td>\n",
       "      <td>0.000000</td>\n",
       "    </tr>\n",
       "    <tr>\n",
       "      <th>36</th>\n",
       "      <td>day_of_week_Sunday</td>\n",
       "      <td>-0.000000</td>\n",
       "    </tr>\n",
       "    <tr>\n",
       "      <th>35</th>\n",
       "      <td>day_of_week_Saturday</td>\n",
       "      <td>0.000000</td>\n",
       "    </tr>\n",
       "    <tr>\n",
       "      <th>26</th>\n",
       "      <td>start_time_17:30:00</td>\n",
       "      <td>0.000000</td>\n",
       "    </tr>\n",
       "    <tr>\n",
       "      <th>33</th>\n",
       "      <td>start_time_23:10:00</td>\n",
       "      <td>0.000000</td>\n",
       "    </tr>\n",
       "    <tr>\n",
       "      <th>34</th>\n",
       "      <td>day_of_week_Monday</td>\n",
       "      <td>0.000000</td>\n",
       "    </tr>\n",
       "    <tr>\n",
       "      <th>31</th>\n",
       "      <td>start_time_21:25:00</td>\n",
       "      <td>-0.000000</td>\n",
       "    </tr>\n",
       "    <tr>\n",
       "      <th>30</th>\n",
       "      <td>start_time_21:05:00</td>\n",
       "      <td>-0.000000</td>\n",
       "    </tr>\n",
       "    <tr>\n",
       "      <th>29</th>\n",
       "      <td>start_time_20:25:00</td>\n",
       "      <td>0.000000</td>\n",
       "    </tr>\n",
       "    <tr>\n",
       "      <th>28</th>\n",
       "      <td>start_time_20:05:00</td>\n",
       "      <td>-0.000000</td>\n",
       "    </tr>\n",
       "    <tr>\n",
       "      <th>27</th>\n",
       "      <td>start_time_18:00:00</td>\n",
       "      <td>0.000000</td>\n",
       "    </tr>\n",
       "    <tr>\n",
       "      <th>13</th>\n",
       "      <td>avg5_pass_att</td>\n",
       "      <td>-0.001491</td>\n",
       "    </tr>\n",
       "    <tr>\n",
       "      <th>11</th>\n",
       "      <td>prev_pass_att</td>\n",
       "      <td>-0.018522</td>\n",
       "    </tr>\n",
       "    <tr>\n",
       "      <th>2</th>\n",
       "      <td>prev_score</td>\n",
       "      <td>-0.030282</td>\n",
       "    </tr>\n",
       "    <tr>\n",
       "      <th>0</th>\n",
       "      <td>week</td>\n",
       "      <td>-0.119651</td>\n",
       "    </tr>\n",
       "    <tr>\n",
       "      <th>7</th>\n",
       "      <td>avg3_rush_att</td>\n",
       "      <td>-0.120897</td>\n",
       "    </tr>\n",
       "    <tr>\n",
       "      <th>12</th>\n",
       "      <td>avg3_pass_att</td>\n",
       "      <td>-0.139622</td>\n",
       "    </tr>\n",
       "  </tbody>\n",
       "</table>\n",
       "<p>76 rows × 2 columns</p>\n",
       "</div>"
      ],
      "text/plain": [
       "                  Factor  Coefficient\n",
       "4             avg5_score     0.199608\n",
       "3             avg3_score     0.186035\n",
       "6               avg5_tar     0.142910\n",
       "5               avg3_tar     0.116768\n",
       "1                   temp     0.005456\n",
       "38      desc_simple_Good    -0.000000\n",
       "50         away_team_DAL    -0.000000\n",
       "56         away_team_JAX    -0.000000\n",
       "55         away_team_IND     0.000000\n",
       "54         away_team_HOU    -0.000000\n",
       "53          away_team_GB    -0.000000\n",
       "52         away_team_DET     0.000000\n",
       "51         away_team_DEN     0.000000\n",
       "47         away_team_CHI     0.000000\n",
       "49         away_team_CLE    -0.000000\n",
       "48         away_team_CIN    -0.000000\n",
       "58          away_team_LA    -0.000000\n",
       "46         away_team_CAR     0.000000\n",
       "45         away_team_BUF    -0.000000\n",
       "44         away_team_BAL    -0.000000\n",
       "43         away_team_ATL     0.000000\n",
       "57          away_team_KC     0.000000\n",
       "60         away_team_MIN     0.000000\n",
       "59         away_team_MIA     0.000000\n",
       "68          away_team_SD     0.000000\n",
       "74         away_team_UNK    -0.000000\n",
       "73         away_team_TEN     0.000000\n",
       "72          away_team_TB    -0.000000\n",
       "71         away_team_STL    -0.000000\n",
       "70          away_team_SF     0.000000\n",
       "..                   ...          ...\n",
       "14               is_home     0.000000\n",
       "15   start_time_00:00:00     0.000000\n",
       "16   start_time_00:25:00    -0.000000\n",
       "17   start_time_00:30:00     0.000000\n",
       "18   start_time_00:40:00     0.000000\n",
       "19   start_time_01:25:00     0.000000\n",
       "20   start_time_01:30:00     0.000000\n",
       "21   start_time_01:40:00    -0.000000\n",
       "39     desc_simple_Snowy     0.000000\n",
       "23   start_time_13:30:00    -0.000000\n",
       "22   start_time_02:20:00     0.000000\n",
       "25   start_time_17:00:00    -0.000000\n",
       "32   start_time_21:30:00     0.000000\n",
       "37  day_of_week_Thursday     0.000000\n",
       "36    day_of_week_Sunday    -0.000000\n",
       "35  day_of_week_Saturday     0.000000\n",
       "26   start_time_17:30:00     0.000000\n",
       "33   start_time_23:10:00     0.000000\n",
       "34    day_of_week_Monday     0.000000\n",
       "31   start_time_21:25:00    -0.000000\n",
       "30   start_time_21:05:00    -0.000000\n",
       "29   start_time_20:25:00     0.000000\n",
       "28   start_time_20:05:00    -0.000000\n",
       "27   start_time_18:00:00     0.000000\n",
       "13         avg5_pass_att    -0.001491\n",
       "11         prev_pass_att    -0.018522\n",
       "2             prev_score    -0.030282\n",
       "0                   week    -0.119651\n",
       "7          avg3_rush_att    -0.120897\n",
       "12         avg3_pass_att    -0.139622\n",
       "\n",
       "[76 rows x 2 columns]"
      ]
     },
     "execution_count": 281,
     "metadata": {},
     "output_type": "execute_result"
    }
   ],
   "source": [
    "aa.sort_values('Coefficient',ascending=False)"
   ]
  },
  {
   "cell_type": "code",
   "execution_count": null,
   "metadata": {},
   "outputs": [],
   "source": []
  }
 ],
 "metadata": {
  "kernelspec": {
   "display_name": "Python 3",
   "language": "python",
   "name": "python3"
  },
  "language_info": {
   "codemirror_mode": {
    "name": "ipython",
    "version": 3
   },
   "file_extension": ".py",
   "mimetype": "text/x-python",
   "name": "python",
   "nbconvert_exporter": "python",
   "pygments_lexer": "ipython3",
   "version": "3.6.5"
  }
 },
 "nbformat": 4,
 "nbformat_minor": 2
}
