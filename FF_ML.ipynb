{
 "cells": [
  {
   "cell_type": "code",
   "execution_count": 436,
   "metadata": {},
   "outputs": [],
   "source": [
    "import pandas as pd\n",
    "from sklearn.linear_model import LinearRegression, ElasticNet, Lasso,Ridge, LogisticRegression\n",
    "from sklearn.model_selection import train_test_split, cross_val_score, GridSearchCV,RandomizedSearchCV\n",
    "from sklearn.metrics import mean_squared_error,accuracy_score, explained_variance_score\n",
    "import matplotlib.pyplot as plt\n",
    "import numpy as np\n",
    "import statsmodels.api as sm\n",
    "from sklearn.ensemble import RandomForestRegressor, RandomForestClassifier, GradientBoostingClassifier,GradientBoostingRegressor\n",
    "import cellbell\n",
    "\n",
    "\n",
    "np.set_printoptions(precision=4)\n",
    "import seaborn as sns\n",
    "from sklearn.preprocessing import StandardScaler\n",
    "from sklearn.decomposition import PCA\n",
    "from sklearn.pipeline import Pipeline\n",
    "from sklearn.cluster import KMeans\n",
    "from sklearn.svm import SVR\n",
    "from xgboost import XGBRegressor,XGBClassifier\n",
    "\n",
    "from keras.models import Sequential\n",
    "from keras.layers import Dense\n",
    "from keras.wrappers.scikit_learn import KerasRegressor,KerasClassifier\n",
    "from sklearn.model_selection import cross_val_score\n",
    "from sklearn.model_selection import KFold\n",
    "from sklearn.preprocessing import LabelEncoder\n",
    "from keras.utils import np_utils"
   ]
  },
  {
   "cell_type": "code",
   "execution_count": 437,
   "metadata": {},
   "outputs": [
    {
     "name": "stdout",
     "output_type": "stream",
     "text": [
      "83760\n",
      "3476\n",
      "[2016 2017 2013 2014 2015]\n"
     ]
    }
   ],
   "source": [
    "#All\n",
    "all_plays = pd.read_csv('/Users/ianbury/Downloads/chckpt1.csv')\n",
    "all_plays = all_plays[all_plays.season_year >= 2013]\n",
    "print(len(all_plays))\n",
    "print(all_plays.player_id.nunique())\n",
    "print(all_plays.season_year.unique())"
   ]
  },
  {
   "cell_type": "code",
   "execution_count": 548,
   "metadata": {},
   "outputs": [
    {
     "name": "stdout",
     "output_type": "stream",
     "text": [
      "6765\n",
      "209\n",
      "[2017 2016 2015 2014 2013]\n"
     ]
    }
   ],
   "source": [
    "#Plays from top 25 players only\n",
    "df = pd.read_csv('/Users/ianbury/Downloads/top_plays_data.csv')\n",
    "print(len(df))\n",
    "print(df.player_id.nunique())\n",
    "print(df.season_year.unique())"
   ]
  },
  {
   "cell_type": "code",
   "execution_count": 549,
   "metadata": {},
   "outputs": [],
   "source": [
    "df.drop(columns=['change_vs_last','Unnamed: 0'],axis=1,inplace=True)\n",
    "#Filtering to only offensive positions\n",
    "pos=['QB','WR','RB','TE']\n",
    "df=df[df.position.isin(pos)]\n",
    "\n",
    "#Dropping non-predictive columns\n",
    "df_clean = df.drop(columns=['gsis_id','name_fixed','years_pro','height','weight','forecast','home_score','away_score','season_type','desc','city','name','team_id','Year','Week','home','fumbles_rec_tds',\n",
    "       'fumbles_lost', 'passing_int', 'passing_yds', 'passing_tds',\n",
    "       'passing_twoptm', 'receiving_rec', 'receiving_tds', 'receiving_twoptm',\n",
    "       'receiving_yds', 'rushing_yds', 'rushing_tds', 'rushing_twoptm',\n",
    "       'kicking_rec_tds', 'puntret_tds', 'receiving_tar', 'rushing_att',\n",
    "       'passing_att'])"
   ]
  },
  {
   "cell_type": "code",
   "execution_count": 550,
   "metadata": {},
   "outputs": [],
   "source": [
    "def score_to_range(x):\n",
    "    if x >= 30:\n",
    "        return '30+'\n",
    "    elif x >= 25:\n",
    "        return '25-30'\n",
    "    elif x >= 20:\n",
    "        return '20-25'\n",
    "    elif x >= 15:\n",
    "        return '15-20'\n",
    "    elif x >= 10:\n",
    "        return '10-15'\n",
    "    elif x >= 5:\n",
    "        return '5-10'\n",
    "    else:\n",
    "        return '0-5'"
   ]
  },
  {
   "cell_type": "code",
   "execution_count": 551,
   "metadata": {},
   "outputs": [],
   "source": [
    "df_clean['score_range'] = df_clean.fantasy_score.apply(score_to_range)"
   ]
  },
  {
   "cell_type": "code",
   "execution_count": 552,
   "metadata": {},
   "outputs": [],
   "source": [
    "def is_home(df):\n",
    "    if df['home_team'] == df['team']:\n",
    "        return 1\n",
    "    else:\n",
    "        return 0\n",
    "df_clean['is_home'] = df_clean.apply(is_home, axis=1)\n"
   ]
  },
  {
   "cell_type": "code",
   "execution_count": 553,
   "metadata": {},
   "outputs": [],
   "source": [
    "def opponent(df):\n",
    "    if df['home_team'] == df['team']:\n",
    "        return df['away_team']\n",
    "    else:\n",
    "        return df['home_team']\n",
    "df_clean['opponent'] = df_clean.apply(opponent, axis=1)\n",
    "df_clean.drop('away_team',inplace=True,axis=1)\n",
    "df_clean.drop('home_team',inplace=True,axis=1)"
   ]
  },
  {
   "cell_type": "code",
   "execution_count": null,
   "metadata": {},
   "outputs": [],
   "source": []
  },
  {
   "cell_type": "code",
   "execution_count": null,
   "metadata": {},
   "outputs": [],
   "source": []
  },
  {
   "cell_type": "code",
   "execution_count": 554,
   "metadata": {},
   "outputs": [],
   "source": [
    "df_clean['start_time'] = pd.to_datetime(df_clean['start_time'])\n",
    "df_clean['start_date'] = df_clean['start_time'].dt.date\n",
    "df_clean['start_time'] = df_clean['start_time'].dt.time\n",
    "df_clean.drop('start_date',inplace=True,axis=1)"
   ]
  },
  {
   "cell_type": "code",
   "execution_count": 555,
   "metadata": {
    "scrolled": true
   },
   "outputs": [],
   "source": [
    "df_players = df_clean.copy()\n",
    "df_clean = pd.get_dummies(df_clean,columns=['start_time','position','day_of_week','desc_simple','team','opponent'])\n",
    "df_clean.fillna('0',inplace=True)"
   ]
  },
  {
   "cell_type": "code",
   "execution_count": 556,
   "metadata": {},
   "outputs": [],
   "source": [
    "#Creating train/test sets\n",
    "df_players = pd.get_dummies(df_players,columns=['start_time','position','day_of_week','desc_simple','team','opponent','player_id'])\n",
    "df_players.fillna('0',inplace=True)\n",
    "X=df_clean.drop(['fantasy_score','score_range','player_id','season_year'],axis=1)\n",
    "\n",
    "\n",
    "X_players=df_players.drop(['fantasy_score','score_range','season_year'],axis=1)\n",
    "y_reg=df_clean.fantasy_score.values.reshape(-1,1)\n",
    "y_clf=df_clean.score_range.values.reshape(-1,1)\n",
    "\n",
    "\n",
    "\n",
    "\n",
    "clf_X_train, clf_X_test, clf_y_train, clf_y_test = train_test_split(X,y_clf,test_size=0.25, random_state=47)\n",
    "reg_X_train, reg_X_test, reg_y_train, reg_y_test = train_test_split(X,y_reg,test_size=0.25, random_state=47)"
   ]
  },
  {
   "cell_type": "markdown",
   "metadata": {},
   "source": [
    "# Regression"
   ]
  },
  {
   "cell_type": "code",
   "execution_count": 557,
   "metadata": {},
   "outputs": [],
   "source": [
    "# Determine n_components for PCA\n",
    "scores=[]\n",
    "for n in range(1,117):\n",
    "    s=StandardScaler()\n",
    "    pca=PCA(n_components=n)\n",
    "    km = Ridge(normalize=True)\n",
    "    pl = Pipeline([('scaler',s),('pca',pca)\n",
    "               ,('clf',km)])\n",
    "    pl.fit(reg_X_train,reg_y_train.ravel())\n",
    "    cv_results = cross_val_score(pl,reg_X_train,reg_y_train.ravel(),cv=5)\n",
    "    scores.append(np.mean(cv_results))"
   ]
  },
  {
   "cell_type": "code",
   "execution_count": 558,
   "metadata": {},
   "outputs": [
    {
     "name": "stdout",
     "output_type": "stream",
     "text": [
      "n_components: 105\n"
     ]
    },
    {
     "data": {
      "image/png": "[encoded data removed]",
      "text/plain": [
       "<Figure size 432x288 with 1 Axes>"
      ]
     },
     "metadata": {},
     "output_type": "display_data"
    }
   ],
   "source": [
    "_=plt.plot(scores)\n",
    "_=plt.xlabel('n_components')\n",
    "_=plt.ylabel('Cross_val_score')\n",
    "_=plt.title('Optimal PCA components')\n",
    "_=plt.axvline(scores.index(max(scores)),c='red')\n",
    "print('n_components: '+str(scores.index(max(scores))))"
   ]
  },
  {
   "cell_type": "code",
   "execution_count": 593,
   "metadata": {
    "scrolled": true
   },
   "outputs": [
    {
     "name": "stdout",
     "output_type": "stream",
     "text": [
      "MSE: 54.60258541898207\n",
      "{'clf__alpha': 0.1}\n",
      "0.22068976315062805\n"
     ]
    }
   ],
   "source": [
    "#Ridge Regression \n",
    "alphas = [0.01,0.1,1,10]\n",
    "param_grid = {'clf__alpha':alphas}\n",
    "\n",
    "\n",
    "s=StandardScaler()\n",
    "pca=PCA(n_components=105)\n",
    "clf = Ridge(normalize=True)\n",
    "pl = Pipeline([('scaler',s),('pca',pca),('clf',clf)])\n",
    "gs = GridSearchCV(pl,param_grid,cv=5)\n",
    "gs.fit(reg_X_train,reg_y_train)\n",
    "y_pred = gs.predict(reg_X_test)\n",
    "mse_ridge = mean_squared_error(reg_y_test,y_pred)\n",
    "print('MSE: '+str(mse_ridge))\n",
    "print(gs.best_params_)\n",
    "print(explained_variance_score(reg_y_test,y_pred))"
   ]
  },
  {
   "cell_type": "code",
   "execution_count": 594,
   "metadata": {
    "scrolled": true
   },
   "outputs": [
    {
     "data": {
      "image/png": "[encoded data removed]",
      "text/plain": [
       "<Figure size 432x288 with 1 Axes>"
      ]
     },
     "metadata": {},
     "output_type": "display_data"
    }
   ],
   "source": [
    "res = y_pred - reg_y_test\n",
    "sm.qqplot(res,line='s')\n",
    "plt.show()\n",
    "# No clear pattern"
   ]
  },
  {
   "cell_type": "code",
   "execution_count": 615,
   "metadata": {
    "scrolled": true
   },
   "outputs": [
    {
     "data": {
      "image/png": "[encoded data removed]",
      "text/plain": [
       "<Figure size 432x288 with 1 Axes>"
      ]
     },
     "metadata": {},
     "output_type": "display_data"
    }
   ],
   "source": [
    "_=plt.scatter(reg_y_test,res)\n",
    "_=plt.axhline(0,c='r')\n",
    "_=plt.xlabel('True Value')\n",
    "_=plt.ylabel('Residual')\n",
    "_=plt.title('Residuals of Ridge Regressor')"
   ]
  },
  {
   "cell_type": "code",
   "execution_count": 613,
   "metadata": {},
   "outputs": [
    {
     "data": {
      "image/png": "[encoded data removed]",
      "text/plain": [
       "<Figure size 432x288 with 1 Axes>"
      ]
     },
     "metadata": {},
     "output_type": "display_data"
    }
   ],
   "source": [
    "_=sns.distplot(res,kde=True,norm_hist=True,hist=False)\n",
    "_=plt.title('Histogram of Residuals')"
   ]
  },
  {
   "cell_type": "code",
   "execution_count": 58,
   "metadata": {},
   "outputs": [
    {
     "name": "stdout",
     "output_type": "stream",
     "text": [
      "MSE: 55.322428912168164\n",
      "{'clf__C': 10, 'clf__gamma': 0.001}\n"
     ]
    }
   ],
   "source": [
    "#SVM Pipeline\n",
    "Cs = [0.001, 0.01, 0.1, 1, 10]\n",
    "gammas = [0.001, 0.01, 0.1, 1]\n",
    "param_grid = {'clf__C': Cs, 'clf__gamma' : gammas}\n",
    "\n",
    "s=StandardScaler()\n",
    "pca=PCA(n_components=105)\n",
    "clf = SVR()\n",
    "\n",
    "pl = Pipeline([('scaler',s),('pca',pca),('clf',clf)])\n",
    "gs_svm = GridSearchCV(pl,param_grid, cv=5)\n",
    "gs_svm.fit(reg_X_train,reg_y_train.ravel())\n",
    "\n",
    "\n",
    "y_pred = gs_svm.predict(reg_X_test)\n",
    "mse_svm = mean_squared_error(reg_y_test.ravel(),y_pred)\n",
    "print('MSE: '+str(mse_svm))\n",
    "print(gs_svm.best_params_)"
   ]
  },
  {
   "cell_type": "code",
   "execution_count": 75,
   "metadata": {
    "scrolled": true
   },
   "outputs": [],
   "source": [
    "def reg_pipeline(clf, X_train, y_train, X_test, y_test, param_grid):\n",
    "    s=StandardScaler()\n",
    "    pca=PCA(n_components=104)\n",
    "    pl = Pipeline([('scaler',s),('pca',pca),('clf',clf)])\n",
    "    gs = GridSearchCV(pl,param_grid, cv=5)\n",
    "    gs.fit(X_train,y_train.ravel())\n",
    "    y_pred = gs.predict(X_test)\n",
    "    mse = mean_squared_error(y_test.ravel(),y_pred)\n",
    "    return mse"
   ]
  },
  {
   "cell_type": "code",
   "execution_count": 391,
   "metadata": {},
   "outputs": [
    {
     "data": {
      "text/plain": [
       "56.38338896059015"
      ]
     },
     "execution_count": 391,
     "metadata": {},
     "output_type": "execute_result"
    }
   ],
   "source": [
    "#GradientBoostingRegressor\n",
    "alphas = [0.01,0.1,0.9]\n",
    "param_grid = {'clf__alpha':alphas}\n",
    "\n",
    "s=StandardScaler()\n",
    "pca=PCA(n_components=105)\n",
    "clf = GradientBoostingRegressor()\n",
    "\n",
    "pl = Pipeline([('scaler',s),('pca',pca),('clf',clf)])\n",
    "gs_gbr = GridSearchCV(pl,param_grid, cv=5)\n",
    "gs_gbr.fit(reg_X_train,reg_y_train.ravel())\n",
    "\n",
    "\n",
    "y_pred = gs_gbr.predict(reg_X_test)\n",
    "mse_gbr = mean_squared_error(reg_y_test.ravel(),y_pred)\n",
    "mse_gbr"
   ]
  },
  {
   "cell_type": "code",
   "execution_count": 392,
   "metadata": {},
   "outputs": [
    {
     "data": {
      "text/plain": [
       "0.3849012499436709"
      ]
     },
     "execution_count": 392,
     "metadata": {},
     "output_type": "execute_result"
    }
   ],
   "source": []
  },
  {
   "cell_type": "code",
   "execution_count": 393,
   "metadata": {},
   "outputs": [
    {
     "data": {
      "text/plain": [
       "0.19523616551104273"
      ]
     },
     "execution_count": 393,
     "metadata": {},
     "output_type": "execute_result"
    }
   ],
   "source": []
  },
  {
   "cell_type": "code",
   "execution_count": 400,
   "metadata": {},
   "outputs": [],
   "source": [
    "#XGBoost\n",
    "gammas = [0.001, 0.01, 0.1, 1]\n",
    "alphas = [0.01,0.1,1,10]\n",
    "\n",
    "xgb = XGBRegressor()\n",
    "\n",
    "pg={'clf__gamma' : gammas,\n",
    "    'clf__reg_alpha':alphas}\n",
    "  \n",
    "mse_xgb= reg_pipeline(xgb, reg_X_train,reg_y_train,reg_X_test,reg_y_test,pg)"
   ]
  },
  {
   "cell_type": "code",
   "execution_count": null,
   "metadata": {},
   "outputs": [],
   "source": []
  },
  {
   "cell_type": "code",
   "execution_count": 430,
   "metadata": {},
   "outputs": [
    {
     "data": {
      "image/png": "[encoded data removed]",
      "text/plain": [
       "<Figure size 432x288 with 1 Axes>"
      ]
     },
     "metadata": {},
     "output_type": "display_data"
    }
   ],
   "source": [
    "y=np.array([mse_ridge,mse_svm,mse_nn,mse_gbr,mse_xgb])\n",
    "\n",
    "labels=['Ridge','SVM','KerasRegression','GradientBoosting','XGBoost']\n",
    "\n",
    "x=np.linspace(0,1,len(y))\n",
    "plt.bar(x,y,tick_label=labels,align='center',width=0.2, color=['r','g','y','b','purple'])\n",
    "_=plt.xticks(rotation=60)\n",
    "_=plt.ylabel('Mean squared error')\n",
    "plt.show()"
   ]
  },
  {
   "cell_type": "markdown",
   "metadata": {},
   "source": [
    "# Classification"
   ]
  },
  {
   "cell_type": "code",
   "execution_count": 103,
   "metadata": {},
   "outputs": [],
   "source": [
    "def clf_pipeline(clf, X_train, y_train, X_test, y_test, param_grid):\n",
    "    s=StandardScaler()\n",
    "    pca=PCA(n_components=104)\n",
    "    pl = Pipeline([('scaler',s),('pca',pca),('clf',clf)])\n",
    "    gs = GridSearchCV(pl,param_grid, cv=5)\n",
    "    gs.fit(X_train,y_train.ravel())\n",
    "    y_pred = gs.predict(X_test)\n",
    "    acc = accuracy_score(y_test.ravel(),y_pred)\n",
    "    return acc"
   ]
  },
  {
   "cell_type": "code",
   "execution_count": 397,
   "metadata": {
    "scrolled": true
   },
   "outputs": [
    {
     "name": "stderr",
     "output_type": "stream",
     "text": [
      "/anaconda3/lib/python3.6/site-packages/sklearn/preprocessing/label.py:151: DeprecationWarning: The truth value of an empty array is ambiguous. Returning False, but in future this will result in an error. Use `array.size > 0` to check that an array is not empty.\n",
      "  if diff:\n",
      "/anaconda3/lib/python3.6/site-packages/sklearn/preprocessing/label.py:151: DeprecationWarning: The truth value of an empty array is ambiguous. Returning False, but in future this will result in an error. Use `array.size > 0` to check that an array is not empty.\n",
      "  if diff:\n",
      "/anaconda3/lib/python3.6/site-packages/sklearn/preprocessing/label.py:151: DeprecationWarning: The truth value of an empty array is ambiguous. Returning False, but in future this will result in an error. Use `array.size > 0` to check that an array is not empty.\n",
      "  if diff:\n",
      "/anaconda3/lib/python3.6/site-packages/sklearn/preprocessing/label.py:151: DeprecationWarning: The truth value of an empty array is ambiguous. Returning False, but in future this will result in an error. Use `array.size > 0` to check that an array is not empty.\n",
      "  if diff:\n",
      "/anaconda3/lib/python3.6/site-packages/sklearn/preprocessing/label.py:151: DeprecationWarning: The truth value of an empty array is ambiguous. Returning False, but in future this will result in an error. Use `array.size > 0` to check that an array is not empty.\n",
      "  if diff:\n",
      "/anaconda3/lib/python3.6/site-packages/sklearn/preprocessing/label.py:151: DeprecationWarning: The truth value of an empty array is ambiguous. Returning False, but in future this will result in an error. Use `array.size > 0` to check that an array is not empty.\n",
      "  if diff:\n",
      "/anaconda3/lib/python3.6/site-packages/sklearn/preprocessing/label.py:151: DeprecationWarning: The truth value of an empty array is ambiguous. Returning False, but in future this will result in an error. Use `array.size > 0` to check that an array is not empty.\n",
      "  if diff:\n",
      "/anaconda3/lib/python3.6/site-packages/sklearn/preprocessing/label.py:151: DeprecationWarning: The truth value of an empty array is ambiguous. Returning False, but in future this will result in an error. Use `array.size > 0` to check that an array is not empty.\n",
      "  if diff:\n",
      "/anaconda3/lib/python3.6/site-packages/sklearn/preprocessing/label.py:151: DeprecationWarning: The truth value of an empty array is ambiguous. Returning False, but in future this will result in an error. Use `array.size > 0` to check that an array is not empty.\n",
      "  if diff:\n",
      "/anaconda3/lib/python3.6/site-packages/sklearn/preprocessing/label.py:151: DeprecationWarning: The truth value of an empty array is ambiguous. Returning False, but in future this will result in an error. Use `array.size > 0` to check that an array is not empty.\n",
      "  if diff:\n",
      "/anaconda3/lib/python3.6/site-packages/sklearn/preprocessing/label.py:151: DeprecationWarning: The truth value of an empty array is ambiguous. Returning False, but in future this will result in an error. Use `array.size > 0` to check that an array is not empty.\n",
      "  if diff:\n",
      "/anaconda3/lib/python3.6/site-packages/sklearn/preprocessing/label.py:151: DeprecationWarning: The truth value of an empty array is ambiguous. Returning False, but in future this will result in an error. Use `array.size > 0` to check that an array is not empty.\n",
      "  if diff:\n",
      "/anaconda3/lib/python3.6/site-packages/sklearn/preprocessing/label.py:151: DeprecationWarning: The truth value of an empty array is ambiguous. Returning False, but in future this will result in an error. Use `array.size > 0` to check that an array is not empty.\n",
      "  if diff:\n",
      "/anaconda3/lib/python3.6/site-packages/sklearn/preprocessing/label.py:151: DeprecationWarning: The truth value of an empty array is ambiguous. Returning False, but in future this will result in an error. Use `array.size > 0` to check that an array is not empty.\n",
      "  if diff:\n",
      "/anaconda3/lib/python3.6/site-packages/sklearn/preprocessing/label.py:151: DeprecationWarning: The truth value of an empty array is ambiguous. Returning False, but in future this will result in an error. Use `array.size > 0` to check that an array is not empty.\n",
      "  if diff:\n",
      "/anaconda3/lib/python3.6/site-packages/sklearn/preprocessing/label.py:151: DeprecationWarning: The truth value of an empty array is ambiguous. Returning False, but in future this will result in an error. Use `array.size > 0` to check that an array is not empty.\n",
      "  if diff:\n",
      "/anaconda3/lib/python3.6/site-packages/sklearn/preprocessing/label.py:151: DeprecationWarning: The truth value of an empty array is ambiguous. Returning False, but in future this will result in an error. Use `array.size > 0` to check that an array is not empty.\n",
      "  if diff:\n",
      "/anaconda3/lib/python3.6/site-packages/sklearn/preprocessing/label.py:151: DeprecationWarning: The truth value of an empty array is ambiguous. Returning False, but in future this will result in an error. Use `array.size > 0` to check that an array is not empty.\n",
      "  if diff:\n",
      "/anaconda3/lib/python3.6/site-packages/sklearn/preprocessing/label.py:151: DeprecationWarning: The truth value of an empty array is ambiguous. Returning False, but in future this will result in an error. Use `array.size > 0` to check that an array is not empty.\n",
      "  if diff:\n",
      "/anaconda3/lib/python3.6/site-packages/sklearn/preprocessing/label.py:151: DeprecationWarning: The truth value of an empty array is ambiguous. Returning False, but in future this will result in an error. Use `array.size > 0` to check that an array is not empty.\n",
      "  if diff:\n",
      "/anaconda3/lib/python3.6/site-packages/sklearn/preprocessing/label.py:151: DeprecationWarning: The truth value of an empty array is ambiguous. Returning False, but in future this will result in an error. Use `array.size > 0` to check that an array is not empty.\n",
      "  if diff:\n",
      "/anaconda3/lib/python3.6/site-packages/sklearn/preprocessing/label.py:151: DeprecationWarning: The truth value of an empty array is ambiguous. Returning False, but in future this will result in an error. Use `array.size > 0` to check that an array is not empty.\n",
      "  if diff:\n",
      "/anaconda3/lib/python3.6/site-packages/sklearn/preprocessing/label.py:151: DeprecationWarning: The truth value of an empty array is ambiguous. Returning False, but in future this will result in an error. Use `array.size > 0` to check that an array is not empty.\n",
      "  if diff:\n",
      "/anaconda3/lib/python3.6/site-packages/sklearn/preprocessing/label.py:151: DeprecationWarning: The truth value of an empty array is ambiguous. Returning False, but in future this will result in an error. Use `array.size > 0` to check that an array is not empty.\n",
      "  if diff:\n",
      "/anaconda3/lib/python3.6/site-packages/sklearn/preprocessing/label.py:151: DeprecationWarning: The truth value of an empty array is ambiguous. Returning False, but in future this will result in an error. Use `array.size > 0` to check that an array is not empty.\n",
      "  if diff:\n",
      "/anaconda3/lib/python3.6/site-packages/sklearn/preprocessing/label.py:151: DeprecationWarning: The truth value of an empty array is ambiguous. Returning False, but in future this will result in an error. Use `array.size > 0` to check that an array is not empty.\n",
      "  if diff:\n",
      "/anaconda3/lib/python3.6/site-packages/sklearn/preprocessing/label.py:151: DeprecationWarning: The truth value of an empty array is ambiguous. Returning False, but in future this will result in an error. Use `array.size > 0` to check that an array is not empty.\n",
      "  if diff:\n",
      "/anaconda3/lib/python3.6/site-packages/sklearn/preprocessing/label.py:151: DeprecationWarning: The truth value of an empty array is ambiguous. Returning False, but in future this will result in an error. Use `array.size > 0` to check that an array is not empty.\n",
      "  if diff:\n",
      "/anaconda3/lib/python3.6/site-packages/sklearn/preprocessing/label.py:151: DeprecationWarning: The truth value of an empty array is ambiguous. Returning False, but in future this will result in an error. Use `array.size > 0` to check that an array is not empty.\n",
      "  if diff:\n",
      "/anaconda3/lib/python3.6/site-packages/sklearn/preprocessing/label.py:151: DeprecationWarning: The truth value of an empty array is ambiguous. Returning False, but in future this will result in an error. Use `array.size > 0` to check that an array is not empty.\n",
      "  if diff:\n",
      "/anaconda3/lib/python3.6/site-packages/sklearn/preprocessing/label.py:151: DeprecationWarning: The truth value of an empty array is ambiguous. Returning False, but in future this will result in an error. Use `array.size > 0` to check that an array is not empty.\n",
      "  if diff:\n",
      "/anaconda3/lib/python3.6/site-packages/sklearn/preprocessing/label.py:151: DeprecationWarning: The truth value of an empty array is ambiguous. Returning False, but in future this will result in an error. Use `array.size > 0` to check that an array is not empty.\n",
      "  if diff:\n"
     ]
    },
    {
     "name": "stderr",
     "output_type": "stream",
     "text": [
      "/anaconda3/lib/python3.6/site-packages/sklearn/preprocessing/label.py:151: DeprecationWarning: The truth value of an empty array is ambiguous. Returning False, but in future this will result in an error. Use `array.size > 0` to check that an array is not empty.\n",
      "  if diff:\n",
      "/anaconda3/lib/python3.6/site-packages/sklearn/preprocessing/label.py:151: DeprecationWarning: The truth value of an empty array is ambiguous. Returning False, but in future this will result in an error. Use `array.size > 0` to check that an array is not empty.\n",
      "  if diff:\n",
      "/anaconda3/lib/python3.6/site-packages/sklearn/preprocessing/label.py:151: DeprecationWarning: The truth value of an empty array is ambiguous. Returning False, but in future this will result in an error. Use `array.size > 0` to check that an array is not empty.\n",
      "  if diff:\n",
      "/anaconda3/lib/python3.6/site-packages/sklearn/preprocessing/label.py:151: DeprecationWarning: The truth value of an empty array is ambiguous. Returning False, but in future this will result in an error. Use `array.size > 0` to check that an array is not empty.\n",
      "  if diff:\n",
      "/anaconda3/lib/python3.6/site-packages/sklearn/preprocessing/label.py:151: DeprecationWarning: The truth value of an empty array is ambiguous. Returning False, but in future this will result in an error. Use `array.size > 0` to check that an array is not empty.\n",
      "  if diff:\n",
      "/anaconda3/lib/python3.6/site-packages/sklearn/preprocessing/label.py:151: DeprecationWarning: The truth value of an empty array is ambiguous. Returning False, but in future this will result in an error. Use `array.size > 0` to check that an array is not empty.\n",
      "  if diff:\n",
      "/anaconda3/lib/python3.6/site-packages/sklearn/preprocessing/label.py:151: DeprecationWarning: The truth value of an empty array is ambiguous. Returning False, but in future this will result in an error. Use `array.size > 0` to check that an array is not empty.\n",
      "  if diff:\n",
      "/anaconda3/lib/python3.6/site-packages/sklearn/preprocessing/label.py:151: DeprecationWarning: The truth value of an empty array is ambiguous. Returning False, but in future this will result in an error. Use `array.size > 0` to check that an array is not empty.\n",
      "  if diff:\n",
      "/anaconda3/lib/python3.6/site-packages/sklearn/preprocessing/label.py:151: DeprecationWarning: The truth value of an empty array is ambiguous. Returning False, but in future this will result in an error. Use `array.size > 0` to check that an array is not empty.\n",
      "  if diff:\n",
      "/anaconda3/lib/python3.6/site-packages/sklearn/preprocessing/label.py:151: DeprecationWarning: The truth value of an empty array is ambiguous. Returning False, but in future this will result in an error. Use `array.size > 0` to check that an array is not empty.\n",
      "  if diff:\n",
      "/anaconda3/lib/python3.6/site-packages/sklearn/preprocessing/label.py:151: DeprecationWarning: The truth value of an empty array is ambiguous. Returning False, but in future this will result in an error. Use `array.size > 0` to check that an array is not empty.\n",
      "  if diff:\n",
      "/anaconda3/lib/python3.6/site-packages/sklearn/preprocessing/label.py:151: DeprecationWarning: The truth value of an empty array is ambiguous. Returning False, but in future this will result in an error. Use `array.size > 0` to check that an array is not empty.\n",
      "  if diff:\n",
      "/anaconda3/lib/python3.6/site-packages/sklearn/preprocessing/label.py:151: DeprecationWarning: The truth value of an empty array is ambiguous. Returning False, but in future this will result in an error. Use `array.size > 0` to check that an array is not empty.\n",
      "  if diff:\n",
      "/anaconda3/lib/python3.6/site-packages/sklearn/preprocessing/label.py:151: DeprecationWarning: The truth value of an empty array is ambiguous. Returning False, but in future this will result in an error. Use `array.size > 0` to check that an array is not empty.\n",
      "  if diff:\n",
      "/anaconda3/lib/python3.6/site-packages/sklearn/preprocessing/label.py:151: DeprecationWarning: The truth value of an empty array is ambiguous. Returning False, but in future this will result in an error. Use `array.size > 0` to check that an array is not empty.\n",
      "  if diff:\n",
      "/anaconda3/lib/python3.6/site-packages/sklearn/preprocessing/label.py:151: DeprecationWarning: The truth value of an empty array is ambiguous. Returning False, but in future this will result in an error. Use `array.size > 0` to check that an array is not empty.\n",
      "  if diff:\n",
      "/anaconda3/lib/python3.6/site-packages/sklearn/preprocessing/label.py:151: DeprecationWarning: The truth value of an empty array is ambiguous. Returning False, but in future this will result in an error. Use `array.size > 0` to check that an array is not empty.\n",
      "  if diff:\n",
      "/anaconda3/lib/python3.6/site-packages/sklearn/preprocessing/label.py:151: DeprecationWarning: The truth value of an empty array is ambiguous. Returning False, but in future this will result in an error. Use `array.size > 0` to check that an array is not empty.\n",
      "  if diff:\n",
      "/anaconda3/lib/python3.6/site-packages/sklearn/preprocessing/label.py:151: DeprecationWarning: The truth value of an empty array is ambiguous. Returning False, but in future this will result in an error. Use `array.size > 0` to check that an array is not empty.\n",
      "  if diff:\n",
      "/anaconda3/lib/python3.6/site-packages/sklearn/preprocessing/label.py:151: DeprecationWarning: The truth value of an empty array is ambiguous. Returning False, but in future this will result in an error. Use `array.size > 0` to check that an array is not empty.\n",
      "  if diff:\n",
      "/anaconda3/lib/python3.6/site-packages/sklearn/preprocessing/label.py:151: DeprecationWarning: The truth value of an empty array is ambiguous. Returning False, but in future this will result in an error. Use `array.size > 0` to check that an array is not empty.\n",
      "  if diff:\n",
      "/anaconda3/lib/python3.6/site-packages/sklearn/preprocessing/label.py:151: DeprecationWarning: The truth value of an empty array is ambiguous. Returning False, but in future this will result in an error. Use `array.size > 0` to check that an array is not empty.\n",
      "  if diff:\n",
      "/anaconda3/lib/python3.6/site-packages/sklearn/preprocessing/label.py:151: DeprecationWarning: The truth value of an empty array is ambiguous. Returning False, but in future this will result in an error. Use `array.size > 0` to check that an array is not empty.\n",
      "  if diff:\n",
      "/anaconda3/lib/python3.6/site-packages/sklearn/preprocessing/label.py:151: DeprecationWarning: The truth value of an empty array is ambiguous. Returning False, but in future this will result in an error. Use `array.size > 0` to check that an array is not empty.\n",
      "  if diff:\n",
      "/anaconda3/lib/python3.6/site-packages/sklearn/preprocessing/label.py:151: DeprecationWarning: The truth value of an empty array is ambiguous. Returning False, but in future this will result in an error. Use `array.size > 0` to check that an array is not empty.\n",
      "  if diff:\n",
      "/anaconda3/lib/python3.6/site-packages/sklearn/preprocessing/label.py:151: DeprecationWarning: The truth value of an empty array is ambiguous. Returning False, but in future this will result in an error. Use `array.size > 0` to check that an array is not empty.\n",
      "  if diff:\n",
      "/anaconda3/lib/python3.6/site-packages/sklearn/preprocessing/label.py:151: DeprecationWarning: The truth value of an empty array is ambiguous. Returning False, but in future this will result in an error. Use `array.size > 0` to check that an array is not empty.\n",
      "  if diff:\n",
      "/anaconda3/lib/python3.6/site-packages/sklearn/preprocessing/label.py:151: DeprecationWarning: The truth value of an empty array is ambiguous. Returning False, but in future this will result in an error. Use `array.size > 0` to check that an array is not empty.\n",
      "  if diff:\n",
      "/anaconda3/lib/python3.6/site-packages/sklearn/preprocessing/label.py:151: DeprecationWarning: The truth value of an empty array is ambiguous. Returning False, but in future this will result in an error. Use `array.size > 0` to check that an array is not empty.\n",
      "  if diff:\n",
      "/anaconda3/lib/python3.6/site-packages/sklearn/preprocessing/label.py:151: DeprecationWarning: The truth value of an empty array is ambiguous. Returning False, but in future this will result in an error. Use `array.size > 0` to check that an array is not empty.\n",
      "  if diff:\n",
      "/anaconda3/lib/python3.6/site-packages/sklearn/preprocessing/label.py:151: DeprecationWarning: The truth value of an empty array is ambiguous. Returning False, but in future this will result in an error. Use `array.size > 0` to check that an array is not empty.\n",
      "  if diff:\n",
      "/anaconda3/lib/python3.6/site-packages/sklearn/preprocessing/label.py:151: DeprecationWarning: The truth value of an empty array is ambiguous. Returning False, but in future this will result in an error. Use `array.size > 0` to check that an array is not empty.\n",
      "  if diff:\n"
     ]
    },
    {
     "name": "stderr",
     "output_type": "stream",
     "text": [
      "/anaconda3/lib/python3.6/site-packages/sklearn/preprocessing/label.py:151: DeprecationWarning: The truth value of an empty array is ambiguous. Returning False, but in future this will result in an error. Use `array.size > 0` to check that an array is not empty.\n",
      "  if diff:\n",
      "/anaconda3/lib/python3.6/site-packages/sklearn/preprocessing/label.py:151: DeprecationWarning: The truth value of an empty array is ambiguous. Returning False, but in future this will result in an error. Use `array.size > 0` to check that an array is not empty.\n",
      "  if diff:\n",
      "/anaconda3/lib/python3.6/site-packages/sklearn/preprocessing/label.py:151: DeprecationWarning: The truth value of an empty array is ambiguous. Returning False, but in future this will result in an error. Use `array.size > 0` to check that an array is not empty.\n",
      "  if diff:\n",
      "/anaconda3/lib/python3.6/site-packages/sklearn/preprocessing/label.py:151: DeprecationWarning: The truth value of an empty array is ambiguous. Returning False, but in future this will result in an error. Use `array.size > 0` to check that an array is not empty.\n",
      "  if diff:\n",
      "/anaconda3/lib/python3.6/site-packages/sklearn/preprocessing/label.py:151: DeprecationWarning: The truth value of an empty array is ambiguous. Returning False, but in future this will result in an error. Use `array.size > 0` to check that an array is not empty.\n",
      "  if diff:\n",
      "/anaconda3/lib/python3.6/site-packages/sklearn/preprocessing/label.py:151: DeprecationWarning: The truth value of an empty array is ambiguous. Returning False, but in future this will result in an error. Use `array.size > 0` to check that an array is not empty.\n",
      "  if diff:\n",
      "/anaconda3/lib/python3.6/site-packages/sklearn/preprocessing/label.py:151: DeprecationWarning: The truth value of an empty array is ambiguous. Returning False, but in future this will result in an error. Use `array.size > 0` to check that an array is not empty.\n",
      "  if diff:\n",
      "/anaconda3/lib/python3.6/site-packages/sklearn/preprocessing/label.py:151: DeprecationWarning: The truth value of an empty array is ambiguous. Returning False, but in future this will result in an error. Use `array.size > 0` to check that an array is not empty.\n",
      "  if diff:\n",
      "/anaconda3/lib/python3.6/site-packages/sklearn/preprocessing/label.py:151: DeprecationWarning: The truth value of an empty array is ambiguous. Returning False, but in future this will result in an error. Use `array.size > 0` to check that an array is not empty.\n",
      "  if diff:\n",
      "/anaconda3/lib/python3.6/site-packages/sklearn/preprocessing/label.py:151: DeprecationWarning: The truth value of an empty array is ambiguous. Returning False, but in future this will result in an error. Use `array.size > 0` to check that an array is not empty.\n",
      "  if diff:\n",
      "/anaconda3/lib/python3.6/site-packages/sklearn/preprocessing/label.py:151: DeprecationWarning: The truth value of an empty array is ambiguous. Returning False, but in future this will result in an error. Use `array.size > 0` to check that an array is not empty.\n",
      "  if diff:\n",
      "/anaconda3/lib/python3.6/site-packages/sklearn/preprocessing/label.py:151: DeprecationWarning: The truth value of an empty array is ambiguous. Returning False, but in future this will result in an error. Use `array.size > 0` to check that an array is not empty.\n",
      "  if diff:\n",
      "/anaconda3/lib/python3.6/site-packages/sklearn/preprocessing/label.py:151: DeprecationWarning: The truth value of an empty array is ambiguous. Returning False, but in future this will result in an error. Use `array.size > 0` to check that an array is not empty.\n",
      "  if diff:\n",
      "/anaconda3/lib/python3.6/site-packages/sklearn/preprocessing/label.py:151: DeprecationWarning: The truth value of an empty array is ambiguous. Returning False, but in future this will result in an error. Use `array.size > 0` to check that an array is not empty.\n",
      "  if diff:\n",
      "/anaconda3/lib/python3.6/site-packages/sklearn/preprocessing/label.py:151: DeprecationWarning: The truth value of an empty array is ambiguous. Returning False, but in future this will result in an error. Use `array.size > 0` to check that an array is not empty.\n",
      "  if diff:\n",
      "/anaconda3/lib/python3.6/site-packages/sklearn/preprocessing/label.py:151: DeprecationWarning: The truth value of an empty array is ambiguous. Returning False, but in future this will result in an error. Use `array.size > 0` to check that an array is not empty.\n",
      "  if diff:\n",
      "/anaconda3/lib/python3.6/site-packages/sklearn/preprocessing/label.py:151: DeprecationWarning: The truth value of an empty array is ambiguous. Returning False, but in future this will result in an error. Use `array.size > 0` to check that an array is not empty.\n",
      "  if diff:\n",
      "/anaconda3/lib/python3.6/site-packages/sklearn/preprocessing/label.py:151: DeprecationWarning: The truth value of an empty array is ambiguous. Returning False, but in future this will result in an error. Use `array.size > 0` to check that an array is not empty.\n",
      "  if diff:\n",
      "/anaconda3/lib/python3.6/site-packages/sklearn/preprocessing/label.py:151: DeprecationWarning: The truth value of an empty array is ambiguous. Returning False, but in future this will result in an error. Use `array.size > 0` to check that an array is not empty.\n",
      "  if diff:\n",
      "/anaconda3/lib/python3.6/site-packages/sklearn/preprocessing/label.py:151: DeprecationWarning: The truth value of an empty array is ambiguous. Returning False, but in future this will result in an error. Use `array.size > 0` to check that an array is not empty.\n",
      "  if diff:\n",
      "/anaconda3/lib/python3.6/site-packages/sklearn/preprocessing/label.py:151: DeprecationWarning: The truth value of an empty array is ambiguous. Returning False, but in future this will result in an error. Use `array.size > 0` to check that an array is not empty.\n",
      "  if diff:\n",
      "/anaconda3/lib/python3.6/site-packages/sklearn/preprocessing/label.py:151: DeprecationWarning: The truth value of an empty array is ambiguous. Returning False, but in future this will result in an error. Use `array.size > 0` to check that an array is not empty.\n",
      "  if diff:\n",
      "/anaconda3/lib/python3.6/site-packages/sklearn/preprocessing/label.py:151: DeprecationWarning: The truth value of an empty array is ambiguous. Returning False, but in future this will result in an error. Use `array.size > 0` to check that an array is not empty.\n",
      "  if diff:\n",
      "/anaconda3/lib/python3.6/site-packages/sklearn/preprocessing/label.py:151: DeprecationWarning: The truth value of an empty array is ambiguous. Returning False, but in future this will result in an error. Use `array.size > 0` to check that an array is not empty.\n",
      "  if diff:\n",
      "/anaconda3/lib/python3.6/site-packages/sklearn/preprocessing/label.py:151: DeprecationWarning: The truth value of an empty array is ambiguous. Returning False, but in future this will result in an error. Use `array.size > 0` to check that an array is not empty.\n",
      "  if diff:\n",
      "/anaconda3/lib/python3.6/site-packages/sklearn/preprocessing/label.py:151: DeprecationWarning: The truth value of an empty array is ambiguous. Returning False, but in future this will result in an error. Use `array.size > 0` to check that an array is not empty.\n",
      "  if diff:\n",
      "/anaconda3/lib/python3.6/site-packages/sklearn/preprocessing/label.py:151: DeprecationWarning: The truth value of an empty array is ambiguous. Returning False, but in future this will result in an error. Use `array.size > 0` to check that an array is not empty.\n",
      "  if diff:\n",
      "/anaconda3/lib/python3.6/site-packages/sklearn/preprocessing/label.py:151: DeprecationWarning: The truth value of an empty array is ambiguous. Returning False, but in future this will result in an error. Use `array.size > 0` to check that an array is not empty.\n",
      "  if diff:\n",
      "/anaconda3/lib/python3.6/site-packages/sklearn/preprocessing/label.py:151: DeprecationWarning: The truth value of an empty array is ambiguous. Returning False, but in future this will result in an error. Use `array.size > 0` to check that an array is not empty.\n",
      "  if diff:\n",
      "/anaconda3/lib/python3.6/site-packages/sklearn/preprocessing/label.py:151: DeprecationWarning: The truth value of an empty array is ambiguous. Returning False, but in future this will result in an error. Use `array.size > 0` to check that an array is not empty.\n",
      "  if diff:\n",
      "/anaconda3/lib/python3.6/site-packages/sklearn/preprocessing/label.py:151: DeprecationWarning: The truth value of an empty array is ambiguous. Returning False, but in future this will result in an error. Use `array.size > 0` to check that an array is not empty.\n",
      "  if diff:\n",
      "/anaconda3/lib/python3.6/site-packages/sklearn/preprocessing/label.py:151: DeprecationWarning: The truth value of an empty array is ambiguous. Returning False, but in future this will result in an error. Use `array.size > 0` to check that an array is not empty.\n",
      "  if diff:\n"
     ]
    },
    {
     "name": "stderr",
     "output_type": "stream",
     "text": [
      "/anaconda3/lib/python3.6/site-packages/sklearn/preprocessing/label.py:151: DeprecationWarning: The truth value of an empty array is ambiguous. Returning False, but in future this will result in an error. Use `array.size > 0` to check that an array is not empty.\n",
      "  if diff:\n",
      "/anaconda3/lib/python3.6/site-packages/sklearn/preprocessing/label.py:151: DeprecationWarning: The truth value of an empty array is ambiguous. Returning False, but in future this will result in an error. Use `array.size > 0` to check that an array is not empty.\n",
      "  if diff:\n",
      "/anaconda3/lib/python3.6/site-packages/sklearn/preprocessing/label.py:151: DeprecationWarning: The truth value of an empty array is ambiguous. Returning False, but in future this will result in an error. Use `array.size > 0` to check that an array is not empty.\n",
      "  if diff:\n",
      "/anaconda3/lib/python3.6/site-packages/sklearn/preprocessing/label.py:151: DeprecationWarning: The truth value of an empty array is ambiguous. Returning False, but in future this will result in an error. Use `array.size > 0` to check that an array is not empty.\n",
      "  if diff:\n",
      "/anaconda3/lib/python3.6/site-packages/sklearn/preprocessing/label.py:151: DeprecationWarning: The truth value of an empty array is ambiguous. Returning False, but in future this will result in an error. Use `array.size > 0` to check that an array is not empty.\n",
      "  if diff:\n",
      "/anaconda3/lib/python3.6/site-packages/sklearn/preprocessing/label.py:151: DeprecationWarning: The truth value of an empty array is ambiguous. Returning False, but in future this will result in an error. Use `array.size > 0` to check that an array is not empty.\n",
      "  if diff:\n",
      "/anaconda3/lib/python3.6/site-packages/sklearn/preprocessing/label.py:151: DeprecationWarning: The truth value of an empty array is ambiguous. Returning False, but in future this will result in an error. Use `array.size > 0` to check that an array is not empty.\n",
      "  if diff:\n",
      "/anaconda3/lib/python3.6/site-packages/sklearn/preprocessing/label.py:151: DeprecationWarning: The truth value of an empty array is ambiguous. Returning False, but in future this will result in an error. Use `array.size > 0` to check that an array is not empty.\n",
      "  if diff:\n",
      "/anaconda3/lib/python3.6/site-packages/sklearn/preprocessing/label.py:151: DeprecationWarning: The truth value of an empty array is ambiguous. Returning False, but in future this will result in an error. Use `array.size > 0` to check that an array is not empty.\n",
      "  if diff:\n",
      "/anaconda3/lib/python3.6/site-packages/sklearn/preprocessing/label.py:151: DeprecationWarning: The truth value of an empty array is ambiguous. Returning False, but in future this will result in an error. Use `array.size > 0` to check that an array is not empty.\n",
      "  if diff:\n",
      "/anaconda3/lib/python3.6/site-packages/sklearn/preprocessing/label.py:151: DeprecationWarning: The truth value of an empty array is ambiguous. Returning False, but in future this will result in an error. Use `array.size > 0` to check that an array is not empty.\n",
      "  if diff:\n",
      "/anaconda3/lib/python3.6/site-packages/sklearn/preprocessing/label.py:151: DeprecationWarning: The truth value of an empty array is ambiguous. Returning False, but in future this will result in an error. Use `array.size > 0` to check that an array is not empty.\n",
      "  if diff:\n",
      "/anaconda3/lib/python3.6/site-packages/sklearn/preprocessing/label.py:151: DeprecationWarning: The truth value of an empty array is ambiguous. Returning False, but in future this will result in an error. Use `array.size > 0` to check that an array is not empty.\n",
      "  if diff:\n",
      "/anaconda3/lib/python3.6/site-packages/sklearn/preprocessing/label.py:151: DeprecationWarning: The truth value of an empty array is ambiguous. Returning False, but in future this will result in an error. Use `array.size > 0` to check that an array is not empty.\n",
      "  if diff:\n",
      "/anaconda3/lib/python3.6/site-packages/sklearn/preprocessing/label.py:151: DeprecationWarning: The truth value of an empty array is ambiguous. Returning False, but in future this will result in an error. Use `array.size > 0` to check that an array is not empty.\n",
      "  if diff:\n",
      "/anaconda3/lib/python3.6/site-packages/sklearn/preprocessing/label.py:151: DeprecationWarning: The truth value of an empty array is ambiguous. Returning False, but in future this will result in an error. Use `array.size > 0` to check that an array is not empty.\n",
      "  if diff:\n",
      "/anaconda3/lib/python3.6/site-packages/sklearn/preprocessing/label.py:151: DeprecationWarning: The truth value of an empty array is ambiguous. Returning False, but in future this will result in an error. Use `array.size > 0` to check that an array is not empty.\n",
      "  if diff:\n",
      "/anaconda3/lib/python3.6/site-packages/sklearn/preprocessing/label.py:151: DeprecationWarning: The truth value of an empty array is ambiguous. Returning False, but in future this will result in an error. Use `array.size > 0` to check that an array is not empty.\n",
      "  if diff:\n",
      "/anaconda3/lib/python3.6/site-packages/sklearn/preprocessing/label.py:151: DeprecationWarning: The truth value of an empty array is ambiguous. Returning False, but in future this will result in an error. Use `array.size > 0` to check that an array is not empty.\n",
      "  if diff:\n",
      "/anaconda3/lib/python3.6/site-packages/sklearn/preprocessing/label.py:151: DeprecationWarning: The truth value of an empty array is ambiguous. Returning False, but in future this will result in an error. Use `array.size > 0` to check that an array is not empty.\n",
      "  if diff:\n",
      "/anaconda3/lib/python3.6/site-packages/sklearn/preprocessing/label.py:151: DeprecationWarning: The truth value of an empty array is ambiguous. Returning False, but in future this will result in an error. Use `array.size > 0` to check that an array is not empty.\n",
      "  if diff:\n",
      "/anaconda3/lib/python3.6/site-packages/sklearn/preprocessing/label.py:151: DeprecationWarning: The truth value of an empty array is ambiguous. Returning False, but in future this will result in an error. Use `array.size > 0` to check that an array is not empty.\n",
      "  if diff:\n",
      "/anaconda3/lib/python3.6/site-packages/sklearn/preprocessing/label.py:151: DeprecationWarning: The truth value of an empty array is ambiguous. Returning False, but in future this will result in an error. Use `array.size > 0` to check that an array is not empty.\n",
      "  if diff:\n",
      "/anaconda3/lib/python3.6/site-packages/sklearn/preprocessing/label.py:151: DeprecationWarning: The truth value of an empty array is ambiguous. Returning False, but in future this will result in an error. Use `array.size > 0` to check that an array is not empty.\n",
      "  if diff:\n",
      "/anaconda3/lib/python3.6/site-packages/sklearn/preprocessing/label.py:151: DeprecationWarning: The truth value of an empty array is ambiguous. Returning False, but in future this will result in an error. Use `array.size > 0` to check that an array is not empty.\n",
      "  if diff:\n"
     ]
    }
   ],
   "source": [
    "#XGBoost Classifier\n",
    "param_grid = {'clf__gamma' : gammas,\n",
    "              'clf__reg_alpha':alphas}\n",
    "clf = XGBClassifier()\n",
    "acc_xgb=clf_pipeline(clf,clf_X_train,clf_y_train,clf_X_test,clf_y_test,param_grid)"
   ]
  },
  {
   "cell_type": "code",
   "execution_count": null,
   "metadata": {},
   "outputs": [],
   "source": [
    "print('done')\n",
    "%ding"
   ]
  },
  {
   "cell_type": "code",
   "execution_count": 399,
   "metadata": {
    "scrolled": true
   },
   "outputs": [
    {
     "data": {
      "text/plain": [
       "0.29432624113475175"
      ]
     },
     "execution_count": 399,
     "metadata": {},
     "output_type": "execute_result"
    }
   ],
   "source": [
    "#RandomForest Param Grid\n",
    "n_estimators = [int(x) for x in np.linspace(start = 10, stop = 200, num = 4)]\n",
    "max_depth.append(None)\n",
    "# Minimum number of samples required to split a node\n",
    "min_samples_split = [2, 5, 10]\n",
    "# Minimum number of samples required at each leaf node\n",
    "min_samples_leaf = [1, 2, 4]\n",
    "# Create the random grid\n",
    "random_grid = {'clf__n_estimators': n_estimators,\n",
    "               'clf__min_samples_split': min_samples_split,\n",
    "               'clf__min_samples_leaf': min_samples_leaf}\n",
    "\n",
    "\n",
    "\n",
    "#RandomForestClassifier\n",
    "\n",
    "rf = RandomForestClassifier(n_jobs=-1)\n",
    "acc_rf=clf_pipeline(rf,clf_X_train,clf_y_train,clf_X_test,clf_y_test,random_grid)\n",
    "acc_rf\n"
   ]
  },
  {
   "cell_type": "code",
   "execution_count": null,
   "metadata": {},
   "outputs": [],
   "source": []
  },
  {
   "cell_type": "code",
   "execution_count": null,
   "metadata": {},
   "outputs": [],
   "source": []
  },
  {
   "cell_type": "code",
   "execution_count": 463,
   "metadata": {},
   "outputs": [
    {
     "data": {
      "text/plain": [
       "{'clf__alpha': 0.1}"
      ]
     },
     "execution_count": 463,
     "metadata": {},
     "output_type": "execute_result"
    }
   ],
   "source": []
  },
  {
   "cell_type": "code",
   "execution_count": 564,
   "metadata": {},
   "outputs": [
    {
     "data": {
      "text/plain": [
       "0.31619385342789597"
      ]
     },
     "execution_count": 564,
     "metadata": {},
     "output_type": "execute_result"
    }
   ],
   "source": [
    "#LogisticRegression\n",
    "Cs = [0.001, 0.01, 0.1, 1, 10]\n",
    "param_grid = {'clf__C': Cs}\n",
    "log=  LogisticRegression()\n",
    "acc_lr=clf_pipeline(log,clf_X_train,clf_y_train,clf_X_test,clf_y_test,param_grid)\n",
    "acc_lr"
   ]
  },
  {
   "cell_type": "code",
   "execution_count": 565,
   "metadata": {},
   "outputs": [],
   "source": [
    "Cs = [0.001, 0.01, 0.1, 1, 10]\n",
    "param_grid = {'clf__C': Cs}\n",
    "s=StandardScaler()\n",
    "pca=PCA(n_components=105)\n",
    "pl = Pipeline([('scaler',s),('pca',pca),('clf',log)])\n",
    "gs = GridSearchCV(pl,param_grid, cv=5)\n",
    "gs.fit(clf_X_train,clf_y_train.ravel())\n",
    "y_pred = gs.predict(clf_X_test)"
   ]
  },
  {
   "cell_type": "code",
   "execution_count": 566,
   "metadata": {},
   "outputs": [],
   "source": [
    "c = clf_X_test.copy()\n",
    "c['true_class'] = clf_y_test\n",
    "c['pred']  =y_pred"
   ]
  },
  {
   "cell_type": "code",
   "execution_count": null,
   "metadata": {},
   "outputs": [],
   "source": []
  },
  {
   "cell_type": "code",
   "execution_count": 569,
   "metadata": {},
   "outputs": [],
   "source": [
    "def from_dummies(data, categories, prefix_sep='_'):\n",
    "    out = data.copy()\n",
    "    for l in categories:\n",
    "        cols, labs = [[c.replace(x,\"\") for c in data.columns if l+prefix_sep in c] for x in [\"\", l+prefix_sep]]\n",
    "        out[l] = pd.Categorical(np.array(labs)[np.argmax(data[cols].values, axis=1)])\n",
    "        out.drop(cols, axis=1, inplace=True)\n",
    "    return out"
   ]
  },
  {
   "cell_type": "code",
   "execution_count": 570,
   "metadata": {},
   "outputs": [],
   "source": [
    "\n",
    "c = from_dummies(c, categories=['start_time','position','day_of_week','desc_simple','team','opponent'])"
   ]
  },
  {
   "cell_type": "code",
   "execution_count": 571,
   "metadata": {},
   "outputs": [],
   "source": [
    "c['correct']=c.apply(lambda x:1 if x['true_class']==x['pred'] else 0,axis=1)"
   ]
  },
  {
   "cell_type": "code",
   "execution_count": 572,
   "metadata": {},
   "outputs": [
    {
     "data": {
      "text/plain": [
       "Index(['week', 'temp', 'prev_score', 'avg3_score', 'avg5_score', 'avg3_tar',\n",
       "       'avg5_tar', 'avg3_rush_att', 'avg5_rush_att', 'prev_tar',\n",
       "       'prev_rush_att', 'prev_pass_att', 'avg3_pass_att', 'avg5_pass_att',\n",
       "       'is_home', 'true_class', 'pred', 'start_time', 'position',\n",
       "       'day_of_week', 'desc_simple', 'team', 'opponent', 'correct'],\n",
       "      dtype='object')"
      ]
     },
     "execution_count": 572,
     "metadata": {},
     "output_type": "execute_result"
    }
   ],
   "source": [
    "c.columns"
   ]
  },
  {
   "cell_type": "code",
   "execution_count": 573,
   "metadata": {
    "scrolled": false
   },
   "outputs": [
    {
     "data": {
      "image/png": "[encoded data removed]",
      "text/plain": [
       "<Figure size 432x288 with 1 Axes>"
      ]
     },
     "metadata": {},
     "output_type": "display_data"
    }
   ],
   "source": [
    "c.groupby(['position']).correct.mean().plot(kind='bar')\n",
    "_=plt.title('Accuracy by Position')\n",
    "_=plt.ylabel('Accuracy (correct predictions / total predictions)')"
   ]
  },
  {
   "cell_type": "code",
   "execution_count": 581,
   "metadata": {},
   "outputs": [
    {
     "data": {
      "image/png": "[encoded data removed]",
      "text/plain": [
       "<Figure size 576x432 with 1 Axes>"
      ]
     },
     "metadata": {},
     "output_type": "display_data"
    }
   ],
   "source": [
    "fig = plt.figure(figsize=(8,6))\n",
    "c.groupby(['opponent']).correct.mean().sort_values(ascending=False).plot(kind='bar')\n",
    "_=plt.title('Accuracy by Opponent')\n",
    "_=plt.ylabel('Accuracy (correct predictions / total predictions)')"
   ]
  },
  {
   "cell_type": "code",
   "execution_count": 582,
   "metadata": {},
   "outputs": [
    {
     "data": {
      "image/png": "[encoded data removed]",
      "text/plain": [
       "<Figure size 576x432 with 1 Axes>"
      ]
     },
     "metadata": {},
     "output_type": "display_data"
    }
   ],
   "source": [
    "fig = plt.figure(figsize=(8,6))\n",
    "c.groupby(['team']).correct.mean().sort_values(ascending=False).plot(kind='bar')\n",
    "_=plt.title('Accuracy by Team')\n",
    "_=plt.ylabel('Accuracy (correct predictions / total predictions)')"
   ]
  },
  {
   "cell_type": "code",
   "execution_count": 584,
   "metadata": {},
   "outputs": [
    {
     "data": {
      "image/png": "[encoded data removed]",
      "text/plain": [
       "<Figure size 576x432 with 1 Axes>"
      ]
     },
     "metadata": {},
     "output_type": "display_data"
    }
   ],
   "source": [
    "fig = plt.figure(figsize=(8,6))\n",
    "c.groupby(['is_home']).correct.mean().sort_values(ascending=False).plot(kind='bar')\n",
    "_=plt.title('Accuracy of home vs. away')\n",
    "_=plt.ylabel('Accuracy (correct predictions / total predictions)')"
   ]
  },
  {
   "cell_type": "code",
   "execution_count": 575,
   "metadata": {},
   "outputs": [
    {
     "data": {
      "image/png": "[encoded data removed]",
      "text/plain": [
       "<Figure size 432x288 with 1 Axes>"
      ]
     },
     "metadata": {},
     "output_type": "display_data"
    }
   ],
   "source": [
    "labels=['LogisticRegression','RandomForest','XGBoost','KerasClassifier']\n",
    "y=np.array([acc_lr,acc_rf,acc_xgb,acc_nn])\n",
    "x=np.linspace(0,1,len(y))\n",
    "plt.bar(x,y,tick_label=labels,align='center',width=0.2, color=['r','g','y','b'])\n",
    "_=plt.xticks(rotation=60)\n",
    "_=plt.ylabel('Accuracy Score')\n",
    "plt.show()"
   ]
  },
  {
   "cell_type": "code",
   "execution_count": null,
   "metadata": {},
   "outputs": [],
   "source": []
  },
  {
   "cell_type": "code",
   "execution_count": null,
   "metadata": {},
   "outputs": [],
   "source": []
  },
  {
   "cell_type": "markdown",
   "metadata": {},
   "source": [
    "# Neural Net - Regression"
   ]
  },
  {
   "cell_type": "code",
   "execution_count": 262,
   "metadata": {},
   "outputs": [],
   "source": [
    "# define base model\n",
    "def baseline_model():\n",
    "    # create model\n",
    "    model = Sequential()\n",
    "    model.add(Dense(75, input_dim=105, kernel_initializer='normal', activation='relu'))\n",
    "    model.add(Dense(200, kernel_initializer='normal', activation='relu'))\n",
    "    model.add(Dense(1, kernel_initializer='normal'))\n",
    "    # Compile model\n",
    "    model.compile(loss='mean_squared_error', optimizer='adam')\n",
    "    return model"
   ]
  },
  {
   "cell_type": "code",
   "execution_count": 263,
   "metadata": {},
   "outputs": [],
   "source": [
    "# fix random seed for reproducibility\n",
    "\n",
    "p_grid={\n",
    "       'mlp__epochs':[1,2,5,7,10],\n",
    "       'mlp__batch_size':[10, 20, 40, 60, 80, 100]\n",
    "        }\n",
    "\n",
    "\n",
    "seed = 7\n",
    "np.random.seed(seed)\n",
    "# evaluate model with standardized dataset\n",
    "estimators = []\n",
    "estimators.append(('standardize', StandardScaler()))\n",
    "estimators.append(('pca', PCA(n_components=105)))\n",
    "estimators.append(('mlp', KerasRegressor(build_fn=baseline_model, verbose=0)))\n",
    "pipeline = Pipeline(estimators)\n",
    "rs = RandomizedSearchCV(pipeline,p_grid, cv=5,verbose=10)\n"
   ]
  },
  {
   "cell_type": "code",
   "execution_count": 264,
   "metadata": {
    "scrolled": true
   },
   "outputs": [
    {
     "name": "stdout",
     "output_type": "stream",
     "text": [
      "Fitting 5 folds for each of 10 candidates, totalling 50 fits\n",
      "[CV] mlp__epochs=5, mlp__batch_size=10 ...............................\n",
      "[CV]  mlp__epochs=5, mlp__batch_size=10, score=-54.0394461871368, total=  10.3s\n",
      "[CV] mlp__epochs=5, mlp__batch_size=10 ...............................\n"
     ]
    },
    {
     "name": "stderr",
     "output_type": "stream",
     "text": [
      "[Parallel(n_jobs=1)]: Done   1 out of   1 | elapsed:   11.1s remaining:    0.0s\n"
     ]
    },
    {
     "name": "stdout",
     "output_type": "stream",
     "text": [
      "[CV]  mlp__epochs=5, mlp__batch_size=10, score=-59.00403862751176, total=  10.7s\n",
      "[CV] mlp__epochs=5, mlp__batch_size=10 ...............................\n"
     ]
    },
    {
     "name": "stderr",
     "output_type": "stream",
     "text": [
      "[Parallel(n_jobs=1)]: Done   2 out of   2 | elapsed:   22.6s remaining:    0.0s\n"
     ]
    },
    {
     "name": "stdout",
     "output_type": "stream",
     "text": [
      "[CV]  mlp__epochs=5, mlp__batch_size=10, score=-48.52170959247157, total=  11.0s\n",
      "[CV] mlp__epochs=5, mlp__batch_size=10 ...............................\n"
     ]
    },
    {
     "name": "stderr",
     "output_type": "stream",
     "text": [
      "[Parallel(n_jobs=1)]: Done   3 out of   3 | elapsed:   34.4s remaining:    0.0s\n"
     ]
    },
    {
     "name": "stdout",
     "output_type": "stream",
     "text": [
      "[CV]  mlp__epochs=5, mlp__batch_size=10, score=-53.11716368823832, total=  10.9s\n",
      "[CV] mlp__epochs=5, mlp__batch_size=10 ...............................\n"
     ]
    },
    {
     "name": "stderr",
     "output_type": "stream",
     "text": [
      "[Parallel(n_jobs=1)]: Done   4 out of   4 | elapsed:   46.1s remaining:    0.0s\n"
     ]
    },
    {
     "name": "stdout",
     "output_type": "stream",
     "text": [
      "[CV]  mlp__epochs=5, mlp__batch_size=10, score=-61.78795032200259, total=  10.7s\n",
      "[CV] mlp__epochs=5, mlp__batch_size=60 ...............................\n"
     ]
    },
    {
     "name": "stderr",
     "output_type": "stream",
     "text": [
      "[Parallel(n_jobs=1)]: Done   5 out of   5 | elapsed:   57.7s remaining:    0.0s\n"
     ]
    },
    {
     "name": "stdout",
     "output_type": "stream",
     "text": [
      "[CV]  mlp__epochs=5, mlp__batch_size=60, score=-52.76197469175743, total=   6.2s\n",
      "[CV] mlp__epochs=5, mlp__batch_size=60 ...............................\n"
     ]
    },
    {
     "name": "stderr",
     "output_type": "stream",
     "text": [
      "[Parallel(n_jobs=1)]: Done   6 out of   6 | elapsed:  1.1min remaining:    0.0s\n"
     ]
    },
    {
     "name": "stdout",
     "output_type": "stream",
     "text": [
      "[CV]  mlp__epochs=5, mlp__batch_size=60, score=-58.71068635010367, total=   6.2s\n",
      "[CV] mlp__epochs=5, mlp__batch_size=60 ...............................\n"
     ]
    },
    {
     "name": "stderr",
     "output_type": "stream",
     "text": [
      "[Parallel(n_jobs=1)]: Done   7 out of   7 | elapsed:  1.2min remaining:    0.0s\n"
     ]
    },
    {
     "name": "stdout",
     "output_type": "stream",
     "text": [
      "[CV]  mlp__epochs=5, mlp__batch_size=60, score=-48.15698277891563, total=   6.3s\n",
      "[CV] mlp__epochs=5, mlp__batch_size=60 ...............................\n"
     ]
    },
    {
     "name": "stderr",
     "output_type": "stream",
     "text": [
      "[Parallel(n_jobs=1)]: Done   8 out of   8 | elapsed:  1.3min remaining:    0.0s\n"
     ]
    },
    {
     "name": "stdout",
     "output_type": "stream",
     "text": [
      "[CV]  mlp__epochs=5, mlp__batch_size=60, score=-51.699582342565414, total=   6.2s\n",
      "[CV] mlp__epochs=5, mlp__batch_size=60 ...............................\n"
     ]
    },
    {
     "name": "stderr",
     "output_type": "stream",
     "text": [
      "[Parallel(n_jobs=1)]: Done   9 out of   9 | elapsed:  1.4min remaining:    0.0s\n"
     ]
    },
    {
     "name": "stdout",
     "output_type": "stream",
     "text": [
      "[CV]  mlp__epochs=5, mlp__batch_size=60, score=-59.425864992762456, total=   6.2s\n",
      "[CV] mlp__epochs=2, mlp__batch_size=10 ...............................\n",
      "[CV]  mlp__epochs=2, mlp__batch_size=10, score=-52.6953661876359, total=   7.7s\n",
      "[CV] mlp__epochs=2, mlp__batch_size=10 ...............................\n",
      "[CV]  mlp__epochs=2, mlp__batch_size=10, score=-60.45817313170785, total=   7.8s\n",
      "[CV] mlp__epochs=2, mlp__batch_size=10 ...............................\n",
      "[CV]  mlp__epochs=2, mlp__batch_size=10, score=-49.0123250801575, total=   7.9s\n",
      "[CV] mlp__epochs=2, mlp__batch_size=10 ...............................\n",
      "[CV]  mlp__epochs=2, mlp__batch_size=10, score=-52.94346992974216, total=   7.9s\n",
      "[CV] mlp__epochs=2, mlp__batch_size=10 ...............................\n",
      "[CV]  mlp__epochs=2, mlp__batch_size=10, score=-59.43380272506022, total=   7.9s\n",
      "[CV] mlp__epochs=10, mlp__batch_size=20 ..............................\n",
      "[CV]  mlp__epochs=10, mlp__batch_size=20, score=-54.12371711543041, total=  12.0s\n",
      "[CV] mlp__epochs=10, mlp__batch_size=20 ..............................\n",
      "[CV]  mlp__epochs=10, mlp__batch_size=20, score=-61.20716286645147, total=  12.1s\n",
      "[CV] mlp__epochs=10, mlp__batch_size=20 ..............................\n",
      "[CV]  mlp__epochs=10, mlp__batch_size=20, score=-51.89219851564304, total=  11.8s\n",
      "[CV] mlp__epochs=10, mlp__batch_size=20 ..............................\n",
      "[CV]  mlp__epochs=10, mlp__batch_size=20, score=-54.24875789845483, total=  12.1s\n",
      "[CV] mlp__epochs=10, mlp__batch_size=20 ..............................\n",
      "[CV]  mlp__epochs=10, mlp__batch_size=20, score=-60.531190721711226, total=  11.9s\n",
      "[CV] mlp__epochs=2, mlp__batch_size=40 ...............................\n",
      "[CV]  mlp__epochs=2, mlp__batch_size=40, score=-52.70675590590303, total=   6.4s\n",
      "[CV] mlp__epochs=2, mlp__batch_size=40 ...............................\n",
      "[CV]  mlp__epochs=2, mlp__batch_size=40, score=-58.60919183815641, total=   6.5s\n",
      "[CV] mlp__epochs=2, mlp__batch_size=40 ...............................\n",
      "[CV]  mlp__epochs=2, mlp__batch_size=40, score=-48.321766641926885, total=   6.5s\n",
      "[CV] mlp__epochs=2, mlp__batch_size=40 ...............................\n",
      "[CV]  mlp__epochs=2, mlp__batch_size=40, score=-51.95098405947112, total=   6.6s\n",
      "[CV] mlp__epochs=2, mlp__batch_size=40 ...............................\n",
      "[CV]  mlp__epochs=2, mlp__batch_size=40, score=-60.934505003678964, total=   6.6s\n",
      "[CV] mlp__epochs=1, mlp__batch_size=20 ...............................\n",
      "[CV]  mlp__epochs=1, mlp__batch_size=20, score=-52.90936696470665, total=   6.7s\n",
      "[CV] mlp__epochs=1, mlp__batch_size=20 ...............................\n",
      "[CV]  mlp__epochs=1, mlp__batch_size=20, score=-59.35599406951754, total=   6.7s\n",
      "[CV] mlp__epochs=1, mlp__batch_size=20 ...............................\n",
      "[CV]  mlp__epochs=1, mlp__batch_size=20, score=-50.05600361753567, total=   6.9s\n",
      "[CV] mlp__epochs=1, mlp__batch_size=20 ...............................\n",
      "[CV]  mlp__epochs=1, mlp__batch_size=20, score=-53.663665139463525, total=   6.8s\n",
      "[CV] mlp__epochs=1, mlp__batch_size=20 ...............................\n",
      "[CV]  mlp__epochs=1, mlp__batch_size=20, score=-61.9760766302105, total=   6.9s\n",
      "[CV] mlp__epochs=7, mlp__batch_size=60 ...............................\n",
      "[CV]  mlp__epochs=7, mlp__batch_size=60, score=-52.39193592165491, total=   7.9s\n",
      "[CV] mlp__epochs=7, mlp__batch_size=60 ...............................\n",
      "[CV]  mlp__epochs=7, mlp__batch_size=60, score=-58.26533912320443, total=   7.9s\n",
      "[CV] mlp__epochs=7, mlp__batch_size=60 ...............................\n",
      "[CV]  mlp__epochs=7, mlp__batch_size=60, score=-48.49639646408006, total=   8.0s\n",
      "[CV] mlp__epochs=7, mlp__batch_size=60 ...............................\n",
      "[CV]  mlp__epochs=7, mlp__batch_size=60, score=-53.020772448658235, total=   8.1s\n",
      "[CV] mlp__epochs=7, mlp__batch_size=60 ...............................\n",
      "[CV]  mlp__epochs=7, mlp__batch_size=60, score=-60.33614552514793, total=   9.6s\n",
      "[CV] mlp__epochs=10, mlp__batch_size=80 ..............................\n",
      "[CV]  mlp__epochs=10, mlp__batch_size=80, score=-51.9604280218115, total=   8.5s\n",
      "[CV] mlp__epochs=10, mlp__batch_size=80 ..............................\n",
      "[CV]  mlp__epochs=10, mlp__batch_size=80, score=-59.15695124659045, total=   8.5s\n",
      "[CV] mlp__epochs=10, mlp__batch_size=80 ..............................\n",
      "[CV]  mlp__epochs=10, mlp__batch_size=80, score=-48.58937482411051, total=   8.6s\n",
      "[CV] mlp__epochs=10, mlp__batch_size=80 ..............................\n",
      "[CV]  mlp__epochs=10, mlp__batch_size=80, score=-52.623335437661794, total=   8.6s\n",
      "[CV] mlp__epochs=10, mlp__batch_size=80 ..............................\n",
      "[CV]  mlp__epochs=10, mlp__batch_size=80, score=-58.83965099868925, total=   8.6s\n",
      "[CV] mlp__epochs=5, mlp__batch_size=100 ..............................\n",
      "[CV]  mlp__epochs=5, mlp__batch_size=100, score=-52.490211421045764, total=   7.5s\n",
      "[CV] mlp__epochs=5, mlp__batch_size=100 ..............................\n",
      "[CV]  mlp__epochs=5, mlp__batch_size=100, score=-58.50619102816276, total=   7.5s\n",
      "[CV] mlp__epochs=5, mlp__batch_size=100 ..............................\n",
      "[CV]  mlp__epochs=5, mlp__batch_size=100, score=-48.90457477005832, total=   7.6s\n",
      "[CV] mlp__epochs=5, mlp__batch_size=100 ..............................\n",
      "[CV]  mlp__epochs=5, mlp__batch_size=100, score=-52.154374538323815, total=   7.6s\n",
      "[CV] mlp__epochs=5, mlp__batch_size=100 ..............................\n",
      "[CV]  mlp__epochs=5, mlp__batch_size=100, score=-59.049522305851625, total=   7.6s\n",
      "[CV] mlp__epochs=10, mlp__batch_size=100 .............................\n",
      "[CV]  mlp__epochs=10, mlp__batch_size=100, score=-52.43522940950441, total=   8.6s\n",
      "[CV] mlp__epochs=10, mlp__batch_size=100 .............................\n",
      "[CV]  mlp__epochs=10, mlp__batch_size=100, score=-58.76613393323175, total=   8.7s\n",
      "[CV] mlp__epochs=10, mlp__batch_size=100 .............................\n",
      "[CV]  mlp__epochs=10, mlp__batch_size=100, score=-47.854516057545325, total=   8.8s\n",
      "[CV] mlp__epochs=10, mlp__batch_size=100 .............................\n",
      "[CV]  mlp__epochs=10, mlp__batch_size=100, score=-52.04940636388414, total=   8.8s\n",
      "[CV] mlp__epochs=10, mlp__batch_size=100 .............................\n",
      "[CV]  mlp__epochs=10, mlp__batch_size=100, score=-60.128861414140026, total=   8.9s\n"
     ]
    },
    {
     "name": "stderr",
     "output_type": "stream",
     "text": [
      "[Parallel(n_jobs=1)]: Done  50 out of  50 | elapsed:  7.2min finished\n"
     ]
    },
    {
     "data": {
      "text/plain": [
       "RandomizedSearchCV(cv=5, error_score='raise',\n",
       "          estimator=Pipeline(memory=None,\n",
       "     steps=[('standardize', StandardScaler(copy=True, with_mean=True, with_std=True)), ('pca', PCA(copy=True, iterated_power='auto', n_components=105, random_state=None,\n",
       "  svd_solver='auto', tol=0.0, whiten=False)), ('mlp', <keras.wrappers.scikit_learn.KerasRegressor object at 0x1c9fb86940>)]),\n",
       "          fit_params=None, iid=True, n_iter=10, n_jobs=1,\n",
       "          param_distributions={'mlp__epochs': [1, 2, 5, 7, 10], 'mlp__batch_size': [10, 20, 40, 60, 80, 100]},\n",
       "          pre_dispatch='2*n_jobs', random_state=None, refit=True,\n",
       "          return_train_score='warn', scoring=None, verbose=10)"
      ]
     },
     "execution_count": 264,
     "metadata": {},
     "output_type": "execute_result"
    }
   ],
   "source": [
    "rs.fit(reg_X_train,reg_y_train)\n",
    "\n"
   ]
  },
  {
   "cell_type": "code",
   "execution_count": 265,
   "metadata": {},
   "outputs": [
    {
     "data": {
      "text/plain": [
       "{'mlp__epochs': 5, 'mlp__batch_size': 60}"
      ]
     },
     "execution_count": 265,
     "metadata": {},
     "output_type": "execute_result"
    }
   ],
   "source": [
    "rs.best_params_"
   ]
  },
  {
   "cell_type": "code",
   "execution_count": 266,
   "metadata": {},
   "outputs": [],
   "source": [
    "y_pred = rs.predict(reg_X_test)\n"
   ]
  },
  {
   "cell_type": "code",
   "execution_count": 267,
   "metadata": {
    "scrolled": true
   },
   "outputs": [
    {
     "data": {
      "text/plain": [
       "55.84873676252868"
      ]
     },
     "execution_count": 267,
     "metadata": {},
     "output_type": "execute_result"
    }
   ],
   "source": [
    "mse_nn = mean_squared_error(reg_y_test,y_pred)\n",
    "mse_nn"
   ]
  },
  {
   "cell_type": "code",
   "execution_count": 135,
   "metadata": {},
   "outputs": [],
   "source": []
  },
  {
   "cell_type": "code",
   "execution_count": null,
   "metadata": {},
   "outputs": [],
   "source": []
  },
  {
   "cell_type": "markdown",
   "metadata": {},
   "source": [
    "# Neural Net - Classification"
   ]
  },
  {
   "cell_type": "code",
   "execution_count": 124,
   "metadata": {},
   "outputs": [],
   "source": [
    "\n",
    "\n"
   ]
  },
  {
   "cell_type": "code",
   "execution_count": 271,
   "metadata": {},
   "outputs": [],
   "source": [
    "\n",
    "# encode class values as integers\n",
    "encoder = LabelEncoder()\n",
    "encoder.fit(clf_y_train.ravel())\n",
    "encoded_Y = encoder.transform(clf_y_train.ravel())\n",
    "# convert integers to dummy variables (i.e. one hot encoded)\n",
    "dummy_y = np_utils.to_categorical(encoded_Y)"
   ]
  },
  {
   "cell_type": "code",
   "execution_count": 285,
   "metadata": {},
   "outputs": [],
   "source": [
    "# define base model\n",
    "def baseline_model():\n",
    "    # create model\n",
    "    model = Sequential()\n",
    "    model.add(Dense(105, input_dim=105,kernel_initializer='normal', activation='relu'))\n",
    "    model.add(Dense(50,kernel_initializer='normal', activation='softmax'))\n",
    "    model.add(Dense(7, kernel_initializer='normal'))\n",
    "    # Compile model\n",
    "    model.compile(loss='categorical_crossentropy', optimizer='adam', metrics=['accuracy'])\n",
    "    return model"
   ]
  },
  {
   "cell_type": "code",
   "execution_count": 294,
   "metadata": {},
   "outputs": [],
   "source": [
    "p_grid={\n",
    "       'mlp__epochs':[8,10,12],\n",
    "       'mlp__batch_size':[60, 80, 100]\n",
    "        }\n",
    "\n",
    "\n",
    "seed = 7\n",
    "np.random.seed(seed)\n",
    "# evaluate model with standardized dataset\n",
    "estimators = []\n",
    "estimators.append(('standardize', StandardScaler()))\n",
    "estimators.append(('pca', PCA(n_components=105)))\n",
    "estimators.append(('mlp', KerasClassifier(build_fn=baseline_model, verbose=0)))\n",
    "pipeline = Pipeline(estimators)\n",
    "rs = RandomizedSearchCV(pipeline,p_grid, cv=5,verbose=10)\n"
   ]
  },
  {
   "cell_type": "code",
   "execution_count": null,
   "metadata": {},
   "outputs": [],
   "source": []
  },
  {
   "cell_type": "code",
   "execution_count": 288,
   "metadata": {
    "scrolled": true
   },
   "outputs": [
    {
     "name": "stdout",
     "output_type": "stream",
     "text": [
      "Fitting 5 folds for each of 10 candidates, totalling 50 fits\n",
      "[CV] mlp__epochs=5, mlp__batch_size=10 ...............................\n",
      "[CV]  mlp__epochs=5, mlp__batch_size=10, score=0.22561576830342486, total=  22.5s\n",
      "[CV] mlp__epochs=5, mlp__batch_size=10 ...............................\n"
     ]
    },
    {
     "name": "stderr",
     "output_type": "stream",
     "text": [
      "[Parallel(n_jobs=1)]: Done   1 out of   1 | elapsed:   24.2s remaining:    0.0s\n"
     ]
    },
    {
     "name": "stdout",
     "output_type": "stream",
     "text": [
      "[CV]  mlp__epochs=5, mlp__batch_size=10, score=0.2019704473870141, total=  22.5s\n",
      "[CV] mlp__epochs=5, mlp__batch_size=10 ...............................\n"
     ]
    },
    {
     "name": "stderr",
     "output_type": "stream",
     "text": [
      "[Parallel(n_jobs=1)]: Done   2 out of   2 | elapsed:   48.3s remaining:    0.0s\n"
     ]
    },
    {
     "name": "stdout",
     "output_type": "stream",
     "text": [
      "[CV]  mlp__epochs=5, mlp__batch_size=10, score=0.21477832942467018, total=  22.5s\n",
      "[CV] mlp__epochs=5, mlp__batch_size=10 ...............................\n"
     ]
    },
    {
     "name": "stderr",
     "output_type": "stream",
     "text": [
      "[Parallel(n_jobs=1)]: Done   3 out of   3 | elapsed:  1.2min remaining:    0.0s\n"
     ]
    },
    {
     "name": "stdout",
     "output_type": "stream",
     "text": [
      "[CV]  mlp__epochs=5, mlp__batch_size=10, score=0.22781065536967865, total=  22.8s\n",
      "[CV] mlp__epochs=5, mlp__batch_size=10 ...............................\n"
     ]
    },
    {
     "name": "stderr",
     "output_type": "stream",
     "text": [
      "[Parallel(n_jobs=1)]: Done   4 out of   4 | elapsed:  1.6min remaining:    0.0s\n"
     ]
    },
    {
     "name": "stdout",
     "output_type": "stream",
     "text": [
      "[CV]  mlp__epochs=5, mlp__batch_size=10, score=0.21104536950588226, total=  22.9s\n",
      "[CV] mlp__epochs=2, mlp__batch_size=100 ..............................\n"
     ]
    },
    {
     "name": "stderr",
     "output_type": "stream",
     "text": [
      "[Parallel(n_jobs=1)]: Done   5 out of   5 | elapsed:  2.0min remaining:    0.0s\n"
     ]
    },
    {
     "name": "stdout",
     "output_type": "stream",
     "text": [
      "[CV]  mlp__epochs=2, mlp__batch_size=100, score=0.1704433484764522, total=  11.4s\n",
      "[CV] mlp__epochs=2, mlp__batch_size=100 ..............................\n"
     ]
    },
    {
     "name": "stderr",
     "output_type": "stream",
     "text": [
      "[Parallel(n_jobs=1)]: Done   6 out of   6 | elapsed:  2.2min remaining:    0.0s\n"
     ]
    },
    {
     "name": "stdout",
     "output_type": "stream",
     "text": [
      "[CV]  mlp__epochs=2, mlp__batch_size=100, score=0.21970443530329342, total=  11.4s\n",
      "[CV] mlp__epochs=2, mlp__batch_size=100 ..............................\n"
     ]
    },
    {
     "name": "stderr",
     "output_type": "stream",
     "text": [
      "[Parallel(n_jobs=1)]: Done   7 out of   7 | elapsed:  2.4min remaining:    0.0s\n"
     ]
    },
    {
     "name": "stdout",
     "output_type": "stream",
     "text": [
      "[CV]  mlp__epochs=2, mlp__batch_size=100, score=0.15862069011028176, total=  11.7s\n",
      "[CV] mlp__epochs=2, mlp__batch_size=100 ..............................\n"
     ]
    },
    {
     "name": "stderr",
     "output_type": "stream",
     "text": [
      "[Parallel(n_jobs=1)]: Done   8 out of   8 | elapsed:  2.6min remaining:    0.0s\n"
     ]
    },
    {
     "name": "stdout",
     "output_type": "stream",
     "text": [
      "[CV]  mlp__epochs=2, mlp__batch_size=100, score=0.2209072978009839, total=  11.5s\n",
      "[CV] mlp__epochs=2, mlp__batch_size=100 ..............................\n"
     ]
    },
    {
     "name": "stderr",
     "output_type": "stream",
     "text": [
      "[Parallel(n_jobs=1)]: Done   9 out of   9 | elapsed:  2.8min remaining:    0.0s\n"
     ]
    },
    {
     "name": "stdout",
     "output_type": "stream",
     "text": [
      "[CV]  mlp__epochs=2, mlp__batch_size=100, score=0.14595660767141413, total=  11.5s\n",
      "[CV] mlp__epochs=1, mlp__batch_size=80 ...............................\n",
      "[CV]  mlp__epochs=1, mlp__batch_size=80, score=0.1980295576191888, total=  11.5s\n",
      "[CV] mlp__epochs=1, mlp__batch_size=80 ...............................\n",
      "[CV]  mlp__epochs=1, mlp__batch_size=80, score=0.1812807866211595, total=  11.4s\n",
      "[CV] mlp__epochs=1, mlp__batch_size=80 ...............................\n",
      "[CV]  mlp__epochs=1, mlp__batch_size=80, score=0.2098522161321687, total=  11.5s\n",
      "[CV] mlp__epochs=1, mlp__batch_size=80 ...............................\n",
      "[CV]  mlp__epochs=1, mlp__batch_size=80, score=0.1715976319310698, total=  11.7s\n",
      "[CV] mlp__epochs=1, mlp__batch_size=80 ...............................\n",
      "[CV]  mlp__epochs=1, mlp__batch_size=80, score=0.19921104492402877, total=  11.7s\n",
      "[CV] mlp__epochs=7, mlp__batch_size=60 ...............................\n",
      "[CV]  mlp__epochs=7, mlp__batch_size=60, score=0.18620689998706574, total=  14.5s\n",
      "[CV] mlp__epochs=7, mlp__batch_size=60 ...............................\n",
      "[CV]  mlp__epochs=7, mlp__batch_size=60, score=0.22068965802051752, total=  14.6s\n",
      "[CV] mlp__epochs=7, mlp__batch_size=60 ...............................\n",
      "[CV]  mlp__epochs=7, mlp__batch_size=60, score=0.2167487722165479, total=  14.7s\n",
      "[CV] mlp__epochs=7, mlp__batch_size=60 ...............................\n",
      "[CV]  mlp__epochs=7, mlp__batch_size=60, score=0.21301775385994884, total=  14.7s\n",
      "[CV] mlp__epochs=7, mlp__batch_size=60 ...............................\n",
      "[CV]  mlp__epochs=7, mlp__batch_size=60, score=0.21301775403629394, total=  14.9s\n",
      "[CV] mlp__epochs=10, mlp__batch_size=10 ..............................\n",
      "[CV]  mlp__epochs=10, mlp__batch_size=10, score=0.18817734410022868, total=  38.7s\n",
      "[CV] mlp__epochs=10, mlp__batch_size=10 ..............................\n",
      "[CV]  mlp__epochs=10, mlp__batch_size=10, score=0.12118226818263238, total=  38.7s\n",
      "[CV] mlp__epochs=10, mlp__batch_size=10 ..............................\n",
      "[CV]  mlp__epochs=10, mlp__batch_size=10, score=0.23251231976330575, total=  38.7s\n",
      "[CV] mlp__epochs=10, mlp__batch_size=10 ..............................\n",
      "[CV]  mlp__epochs=10, mlp__batch_size=10, score=0.20118343634659486, total=  38.8s\n",
      "[CV] mlp__epochs=10, mlp__batch_size=10 ..............................\n",
      "[CV]  mlp__epochs=10, mlp__batch_size=10, score=0.05226824535479442, total=  39.0s\n",
      "[CV] mlp__epochs=5, mlp__batch_size=80 ...............................\n",
      "[CV]  mlp__epochs=5, mlp__batch_size=80, score=0.23349753521346106, total=  13.7s\n",
      "[CV] mlp__epochs=5, mlp__batch_size=80 ...............................\n",
      "[CV]  mlp__epochs=5, mlp__batch_size=80, score=0.20492610717054657, total=  13.9s\n",
      "[CV] mlp__epochs=5, mlp__batch_size=80 ...............................\n",
      "[CV]  mlp__epochs=5, mlp__batch_size=80, score=0.24630541666387926, total=  13.8s\n",
      "[CV] mlp__epochs=5, mlp__batch_size=80 ...............................\n",
      "[CV]  mlp__epochs=5, mlp__batch_size=80, score=0.20118343248169804, total=  14.1s\n",
      "[CV] mlp__epochs=5, mlp__batch_size=80 ...............................\n",
      "[CV]  mlp__epochs=5, mlp__batch_size=80, score=0.2130177519789344, total=  14.1s\n",
      "[CV] mlp__epochs=10, mlp__batch_size=100 .............................\n",
      "[CV]  mlp__epochs=10, mlp__batch_size=100, score=0.11231526978350626, total=  15.5s\n",
      "[CV] mlp__epochs=10, mlp__batch_size=100 .............................\n",
      "[CV]  mlp__epochs=10, mlp__batch_size=100, score=0.18817733940232564, total=  15.3s\n",
      "[CV] mlp__epochs=10, mlp__batch_size=100 .............................\n",
      "[CV]  mlp__epochs=10, mlp__batch_size=100, score=0.10443349747822203, total=  15.3s\n",
      "[CV] mlp__epochs=10, mlp__batch_size=100 .............................\n",
      "[CV]  mlp__epochs=10, mlp__batch_size=100, score=0.2011834339806314, total=  15.5s\n",
      "[CV] mlp__epochs=10, mlp__batch_size=100 .............................\n",
      "[CV]  mlp__epochs=10, mlp__batch_size=100, score=0.20808678327580177, total=  15.6s\n",
      "[CV] mlp__epochs=1, mlp__batch_size=10 ...............................\n",
      "[CV]  mlp__epochs=1, mlp__batch_size=10, score=0.17733990514806927, total=  15.9s\n",
      "[CV] mlp__epochs=1, mlp__batch_size=10 ...............................\n",
      "[CV]  mlp__epochs=1, mlp__batch_size=10, score=0.18719212219045667, total=  15.9s\n",
      "[CV] mlp__epochs=1, mlp__batch_size=10 ...............................\n",
      "[CV]  mlp__epochs=1, mlp__batch_size=10, score=0.1448275890990431, total=  16.1s\n",
      "[CV] mlp__epochs=1, mlp__batch_size=10 ...............................\n",
      "[CV]  mlp__epochs=1, mlp__batch_size=10, score=0.21696252950432268, total=  16.8s\n",
      "[CV] mlp__epochs=1, mlp__batch_size=10 ...............................\n",
      "[CV]  mlp__epochs=1, mlp__batch_size=10, score=0.19526627612772307, total=  16.8s\n",
      "[CV] mlp__epochs=1, mlp__batch_size=100 ..............................\n",
      "[CV]  mlp__epochs=1, mlp__batch_size=100, score=0.22266009890387212, total=  13.5s\n",
      "[CV] mlp__epochs=1, mlp__batch_size=100 ..............................\n",
      "[CV]  mlp__epochs=1, mlp__batch_size=100, score=0.1990147778406519, total=  13.7s\n",
      "[CV] mlp__epochs=1, mlp__batch_size=100 ..............................\n",
      "[CV]  mlp__epochs=1, mlp__batch_size=100, score=0.2167487665643833, total=  13.8s\n",
      "[CV] mlp__epochs=1, mlp__batch_size=100 ..............................\n",
      "[CV]  mlp__epochs=1, mlp__batch_size=100, score=0.20216962780355233, total=  13.9s\n",
      "[CV] mlp__epochs=1, mlp__batch_size=100 ..............................\n",
      "[CV]  mlp__epochs=1, mlp__batch_size=100, score=0.21301774818751468, total=  13.8s\n",
      "[CV] mlp__epochs=10, mlp__batch_size=80 ..............................\n",
      "[CV]  mlp__epochs=10, mlp__batch_size=80, score=0.21773398950182157, total=  17.7s\n",
      "[CV] mlp__epochs=10, mlp__batch_size=80 ..............................\n",
      "[CV]  mlp__epochs=10, mlp__batch_size=80, score=0.1812807866211595, total=  17.3s\n",
      "[CV] mlp__epochs=10, mlp__batch_size=80 ..............................\n",
      "[CV]  mlp__epochs=10, mlp__batch_size=80, score=0.23546797917981452, total=  17.6s\n",
      "[CV] mlp__epochs=10, mlp__batch_size=80 ..............................\n",
      "[CV]  mlp__epochs=10, mlp__batch_size=80, score=0.2603550294682354, total=  17.7s\n",
      "[CV] mlp__epochs=10, mlp__batch_size=80 ..............................\n",
      "[CV]  mlp__epochs=10, mlp__batch_size=80, score=0.20808678595036914, total=  17.8s\n"
     ]
    },
    {
     "name": "stderr",
     "output_type": "stream",
     "text": [
      "[Parallel(n_jobs=1)]: Done  50 out of  50 | elapsed: 15.4min finished\n"
     ]
    }
   ],
   "source": [
    "rs.fit(clf_X_train,dummy_y)\n",
    "y_pred=rs.predict(clf_X_test)"
   ]
  },
  {
   "cell_type": "code",
   "execution_count": 297,
   "metadata": {},
   "outputs": [],
   "source": [
    "encoded_y_test = encoder.transform(clf_y_test.ravel())\n"
   ]
  },
  {
   "cell_type": "code",
   "execution_count": 307,
   "metadata": {},
   "outputs": [
    {
     "data": {
      "text/plain": [
       "0.21749408983451538"
      ]
     },
     "execution_count": 307,
     "metadata": {},
     "output_type": "execute_result"
    }
   ],
   "source": [
    "acc_nn = accuracy_score(encoded_y_test,y_pred)\n",
    "acc_nn"
   ]
  },
  {
   "cell_type": "code",
   "execution_count": null,
   "metadata": {
    "scrolled": true
   },
   "outputs": [],
   "source": []
  },
  {
   "cell_type": "code",
   "execution_count": null,
   "metadata": {},
   "outputs": [],
   "source": []
  },
  {
   "cell_type": "markdown",
   "metadata": {},
   "source": [
    "# Per-player predictions"
   ]
  },
  {
   "cell_type": "code",
   "execution_count": 342,
   "metadata": {},
   "outputs": [],
   "source": [
    "p_clf_X_train, p_clf_X_test, p_clf_y_train, p_clf_y_test = train_test_split(X_players,y_clf,test_size=0.25, random_state=47)\n",
    "p_reg_X_train, p_reg_X_test, p_reg_y_train, p_reg_y_test = train_test_split(X_players,y_reg,test_size=0.25, random_state=47)"
   ]
  },
  {
   "cell_type": "code",
   "execution_count": 353,
   "metadata": {},
   "outputs": [],
   "source": [
    "# Determine n_components for PCA\n",
    "scores=[]\n",
    "for n in range(1,325):\n",
    "    s=StandardScaler()\n",
    "    pca=PCA(n_components=n)\n",
    "    km = Ridge(normalize=True)\n",
    "    pl = Pipeline([('scaler',s),('pca',pca)\n",
    "               ,('clf',km)])\n",
    "    pl.fit(p_reg_X_train,p_reg_y_train.ravel())\n",
    "    cv_results = cross_val_score(pl,p_reg_X_train,p_reg_y_train.ravel(),cv=5)\n",
    "    scores.append(np.mean(cv_results))"
   ]
  },
  {
   "cell_type": "code",
   "execution_count": 354,
   "metadata": {},
   "outputs": [
    {
     "name": "stdout",
     "output_type": "stream",
     "text": [
      "n_components: 288\n"
     ]
    },
    {
     "data": {
      "image/png": "[encoded data removed]",
      "text/plain": [
       "<Figure size 432x288 with 1 Axes>"
      ]
     },
     "metadata": {},
     "output_type": "display_data"
    }
   ],
   "source": [
    "_=plt.plot(scores)\n",
    "_=plt.xlabel('n_components')\n",
    "_=plt.ylabel('Cross_val_score')\n",
    "_=plt.title('Optimal PCA components')\n",
    "_=plt.axvline(scores.index(max(scores)),c='red')\n",
    "print('n_components: '+str(scores.index(max(scores))))"
   ]
  },
  {
   "cell_type": "code",
   "execution_count": 376,
   "metadata": {},
   "outputs": [],
   "source": [
    "# define base model\n",
    "def baseline_model():\n",
    "    # create model\n",
    "    model = Sequential()\n",
    "    model.add(Dense(75, input_dim=275, kernel_initializer='normal', activation='relu'))\n",
    "    model.add(Dense(200, kernel_initializer='normal', activation='relu'))\n",
    "    model.add(Dense(1, kernel_initializer='normal'))\n",
    "    # Compile model\n",
    "    model.compile(loss='mean_squared_error', optimizer='adam')\n",
    "    return model"
   ]
  },
  {
   "cell_type": "code",
   "execution_count": 381,
   "metadata": {},
   "outputs": [],
   "source": [
    "# fix random seed for reproducibility\n",
    "\n",
    "p_grid={\n",
    "       'mlp__epochs':[2,5,10],\n",
    "       'mlp__batch_size':[10, 20, 40, 60, 80, 100]\n",
    "        }\n",
    "\n",
    "\n",
    "seed = 7\n",
    "np.random.seed(seed)\n",
    "# evaluate model with standardized dataset\n",
    "estimators = []\n",
    "estimators.append(('standardize', StandardScaler()))\n",
    "estimators.append(('pca', PCA(n_components=275)))\n",
    "estimators.append(('mlp', KerasRegressor(build_fn=baseline_model,verbose=10)))\n",
    "pipeline = Pipeline(estimators)\n",
    "rs = RandomizedSearchCV(pipeline,p_grid, cv=5,verbose=10)"
   ]
  },
  {
   "cell_type": "code",
   "execution_count": 382,
   "metadata": {},
   "outputs": [
    {
     "name": "stdout",
     "output_type": "stream",
     "text": [
      "Fitting 5 folds for each of 10 candidates, totalling 50 fits\n",
      "[CV] mlp__epochs=10, mlp__batch_size=80 ..............................\n",
      "Epoch 1/10\n",
      "Epoch 2/10\n",
      "Epoch 3/10\n",
      "Epoch 4/10\n",
      "Epoch 5/10\n",
      "Epoch 6/10\n",
      "Epoch 7/10\n",
      "Epoch 8/10\n",
      "Epoch 9/10\n",
      "Epoch 10/10\n",
      "[CV]  mlp__epochs=10, mlp__batch_size=80, score=-54.16231472973753, total=  27.7s\n",
      "[CV] mlp__epochs=10, mlp__batch_size=80 ..............................\n"
     ]
    },
    {
     "name": "stderr",
     "output_type": "stream",
     "text": [
      "[Parallel(n_jobs=1)]: Done   1 out of   1 | elapsed:   28.4s remaining:    0.0s\n"
     ]
    },
    {
     "name": "stdout",
     "output_type": "stream",
     "text": [
      "Epoch 1/10\n",
      "Epoch 2/10\n",
      "Epoch 3/10\n",
      "Epoch 4/10\n",
      "Epoch 5/10\n",
      "Epoch 6/10\n",
      "Epoch 7/10\n",
      "Epoch 8/10\n",
      "Epoch 9/10\n",
      "Epoch 10/10\n",
      "[CV]  mlp__epochs=10, mlp__batch_size=80, score=-58.35355644038158, total=  27.9s\n",
      "[CV] mlp__epochs=10, mlp__batch_size=80 ..............................\n"
     ]
    },
    {
     "name": "stderr",
     "output_type": "stream",
     "text": [
      "[Parallel(n_jobs=1)]: Done   2 out of   2 | elapsed:   56.9s remaining:    0.0s\n"
     ]
    },
    {
     "name": "stdout",
     "output_type": "stream",
     "text": [
      "Epoch 1/10\n",
      "Epoch 2/10\n",
      "Epoch 3/10\n",
      "Epoch 4/10\n",
      "Epoch 5/10\n",
      "Epoch 6/10\n",
      "Epoch 7/10\n",
      "Epoch 8/10\n",
      "Epoch 9/10\n",
      "Epoch 10/10\n",
      "[CV]  mlp__epochs=10, mlp__batch_size=80, score=-52.66516117039573, total=  28.2s\n",
      "[CV] mlp__epochs=10, mlp__batch_size=80 ..............................\n"
     ]
    },
    {
     "name": "stderr",
     "output_type": "stream",
     "text": [
      "[Parallel(n_jobs=1)]: Done   3 out of   3 | elapsed:  1.4min remaining:    0.0s\n"
     ]
    },
    {
     "name": "stdout",
     "output_type": "stream",
     "text": [
      "Epoch 1/10\n",
      "Epoch 2/10\n",
      "Epoch 3/10\n",
      "Epoch 4/10\n",
      "Epoch 5/10\n",
      "Epoch 6/10\n",
      "Epoch 7/10\n",
      "Epoch 8/10\n",
      "Epoch 9/10\n",
      "Epoch 10/10\n",
      "[CV]  mlp__epochs=10, mlp__batch_size=80, score=-52.18258860360471, total=  28.4s\n",
      "[CV] mlp__epochs=10, mlp__batch_size=80 ..............................\n"
     ]
    },
    {
     "name": "stderr",
     "output_type": "stream",
     "text": [
      "[Parallel(n_jobs=1)]: Done   4 out of   4 | elapsed:  1.9min remaining:    0.0s\n"
     ]
    },
    {
     "name": "stdout",
     "output_type": "stream",
     "text": [
      "Epoch 1/10\n",
      "Epoch 2/10\n",
      "Epoch 3/10\n",
      "Epoch 4/10\n",
      "Epoch 5/10\n",
      "Epoch 6/10\n",
      "Epoch 7/10\n",
      "Epoch 8/10\n",
      "Epoch 9/10\n",
      "Epoch 10/10\n",
      "[CV]  mlp__epochs=10, mlp__batch_size=80, score=-57.57083944738264, total=  28.2s\n",
      "[CV] mlp__epochs=2, mlp__batch_size=80 ...............................\n"
     ]
    },
    {
     "name": "stderr",
     "output_type": "stream",
     "text": [
      "[Parallel(n_jobs=1)]: Done   5 out of   5 | elapsed:  2.4min remaining:    0.0s\n"
     ]
    },
    {
     "name": "stdout",
     "output_type": "stream",
     "text": [
      "Epoch 1/2\n",
      "Epoch 2/2\n",
      "[CV]  mlp__epochs=2, mlp__batch_size=80, score=-53.40527941323266, total=  23.4s\n",
      "[CV] mlp__epochs=2, mlp__batch_size=80 ...............................\n"
     ]
    },
    {
     "name": "stderr",
     "output_type": "stream",
     "text": [
      "[Parallel(n_jobs=1)]: Done   6 out of   6 | elapsed:  2.8min remaining:    0.0s\n"
     ]
    },
    {
     "name": "stdout",
     "output_type": "stream",
     "text": [
      "Epoch 1/2\n",
      "Epoch 2/2\n",
      "[CV]  mlp__epochs=2, mlp__batch_size=80, score=-56.49412068709951, total=  23.4s\n",
      "[CV] mlp__epochs=2, mlp__batch_size=80 ...............................\n"
     ]
    },
    {
     "name": "stderr",
     "output_type": "stream",
     "text": [
      "[Parallel(n_jobs=1)]: Done   7 out of   7 | elapsed:  3.2min remaining:    0.0s\n"
     ]
    },
    {
     "name": "stdout",
     "output_type": "stream",
     "text": [
      "Epoch 1/2\n",
      "Epoch 2/2\n",
      "[CV]  mlp__epochs=2, mlp__batch_size=80, score=-49.3370197277351, total=  23.4s\n",
      "[CV] mlp__epochs=2, mlp__batch_size=80 ...............................\n"
     ]
    },
    {
     "name": "stderr",
     "output_type": "stream",
     "text": [
      "[Parallel(n_jobs=1)]: Done   8 out of   8 | elapsed:  3.6min remaining:    0.0s\n"
     ]
    },
    {
     "name": "stdout",
     "output_type": "stream",
     "text": [
      "Epoch 1/2\n",
      "Epoch 2/2\n",
      "[CV]  mlp__epochs=2, mlp__batch_size=80, score=-51.707998113989596, total=  23.9s\n",
      "[CV] mlp__epochs=2, mlp__batch_size=80 ...............................\n"
     ]
    },
    {
     "name": "stderr",
     "output_type": "stream",
     "text": [
      "[Parallel(n_jobs=1)]: Done   9 out of   9 | elapsed:  4.0min remaining:    0.0s\n"
     ]
    },
    {
     "name": "stdout",
     "output_type": "stream",
     "text": [
      "Epoch 1/2\n",
      "Epoch 2/2\n",
      "[CV]  mlp__epochs=2, mlp__batch_size=80, score=-57.575105588111654, total=  23.7s\n",
      "[CV] mlp__epochs=5, mlp__batch_size=100 ..............................\n",
      "Epoch 1/5\n",
      "Epoch 2/5\n",
      "Epoch 3/5\n",
      "Epoch 4/5\n",
      "Epoch 5/5\n",
      "[CV]  mlp__epochs=5, mlp__batch_size=100, score=-53.43678798581579, total=  25.2s\n",
      "[CV] mlp__epochs=5, mlp__batch_size=100 ..............................\n",
      "Epoch 1/5\n",
      "Epoch 2/5\n",
      "Epoch 3/5\n",
      "Epoch 4/5\n",
      "Epoch 5/5\n",
      "[CV]  mlp__epochs=5, mlp__batch_size=100, score=-57.48884372053475, total=  25.3s\n",
      "[CV] mlp__epochs=5, mlp__batch_size=100 ..............................\n",
      "Epoch 1/5\n",
      "Epoch 2/5\n",
      "Epoch 3/5\n",
      "Epoch 4/5\n",
      "Epoch 5/5\n",
      "[CV]  mlp__epochs=5, mlp__batch_size=100, score=-47.63725257272203, total=  25.8s\n",
      "[CV] mlp__epochs=5, mlp__batch_size=100 ..............................\n",
      "Epoch 1/5\n",
      "Epoch 2/5\n",
      "Epoch 3/5\n",
      "Epoch 4/5\n",
      "Epoch 5/5\n",
      "[CV]  mlp__epochs=5, mlp__batch_size=100, score=-51.65623304077389, total=  26.6s\n",
      "[CV] mlp__epochs=5, mlp__batch_size=100 ..............................\n",
      "Epoch 1/5\n",
      "Epoch 2/5\n",
      "Epoch 3/5\n",
      "Epoch 4/5\n",
      "Epoch 5/5\n",
      "[CV]  mlp__epochs=5, mlp__batch_size=100, score=-56.76581868805594, total=  26.8s\n",
      "[CV] mlp__epochs=10, mlp__batch_size=40 ..............................\n",
      "Epoch 1/10\n",
      "Epoch 2/10\n",
      "Epoch 3/10\n",
      "Epoch 4/10\n",
      "Epoch 5/10\n",
      "Epoch 6/10\n",
      "Epoch 7/10\n",
      "Epoch 8/10\n",
      "Epoch 9/10\n",
      "Epoch 10/10\n",
      "[CV]  mlp__epochs=10, mlp__batch_size=40, score=-54.06385119207974, total=  35.8s\n",
      "[CV] mlp__epochs=10, mlp__batch_size=40 ..............................\n",
      "Epoch 1/10\n",
      "Epoch 2/10\n",
      "Epoch 3/10\n",
      "Epoch 4/10\n",
      "Epoch 5/10\n",
      "Epoch 6/10\n",
      "Epoch 7/10\n",
      "Epoch 8/10\n",
      "Epoch 9/10\n",
      "Epoch 10/10\n",
      "[CV]  mlp__epochs=10, mlp__batch_size=40, score=-58.891585251380654, total=  34.8s\n",
      "[CV] mlp__epochs=10, mlp__batch_size=40 ..............................\n",
      "Epoch 1/10\n",
      "Epoch 2/10\n",
      "Epoch 3/10\n",
      "Epoch 4/10\n",
      "Epoch 5/10\n",
      "Epoch 6/10\n",
      "Epoch 7/10\n",
      "Epoch 8/10\n",
      "Epoch 9/10\n",
      "Epoch 10/10\n",
      "[CV]  mlp__epochs=10, mlp__batch_size=40, score=-47.88913492851069, total=  34.5s\n",
      "[CV] mlp__epochs=10, mlp__batch_size=40 ..............................\n",
      "Epoch 1/10\n",
      "Epoch 2/10\n",
      "Epoch 3/10\n",
      "Epoch 4/10\n",
      "Epoch 5/10\n",
      "Epoch 6/10\n",
      "Epoch 7/10\n",
      "Epoch 8/10\n",
      "Epoch 9/10\n",
      "Epoch 10/10\n",
      "[CV]  mlp__epochs=10, mlp__batch_size=40, score=-53.543190860183984, total=  35.2s\n",
      "[CV] mlp__epochs=10, mlp__batch_size=40 ..............................\n",
      "Epoch 1/10\n",
      "Epoch 2/10\n",
      "Epoch 3/10\n",
      "Epoch 4/10\n",
      "Epoch 5/10\n",
      "Epoch 6/10\n",
      "Epoch 7/10\n",
      "Epoch 8/10\n",
      "Epoch 9/10\n",
      "Epoch 10/10\n",
      "[CV]  mlp__epochs=10, mlp__batch_size=40, score=-58.58070498810717, total=  35.5s\n",
      "[CV] mlp__epochs=10, mlp__batch_size=20 ..............................\n",
      "Epoch 1/10\n",
      "Epoch 2/10\n",
      "Epoch 3/10\n",
      "Epoch 4/10\n",
      "Epoch 5/10\n",
      "Epoch 6/10\n",
      "Epoch 7/10\n",
      "Epoch 8/10\n",
      "Epoch 9/10\n",
      "Epoch 10/10\n",
      "[CV]  mlp__epochs=10, mlp__batch_size=20, score=-57.56928991684185, total=  44.6s\n",
      "[CV] mlp__epochs=10, mlp__batch_size=20 ..............................\n",
      "Epoch 1/10\n",
      "Epoch 2/10\n",
      "Epoch 3/10\n",
      "Epoch 4/10\n",
      "Epoch 5/10\n",
      "Epoch 6/10\n",
      "Epoch 7/10\n",
      "Epoch 8/10\n",
      "Epoch 9/10\n",
      "Epoch 10/10\n",
      "[CV]  mlp__epochs=10, mlp__batch_size=20, score=-59.666917810299125, total=  39.8s\n",
      "[CV] mlp__epochs=10, mlp__batch_size=20 ..............................\n",
      "Epoch 1/10\n",
      "Epoch 2/10\n",
      "Epoch 3/10\n",
      "Epoch 4/10\n",
      "Epoch 5/10\n",
      "Epoch 6/10\n",
      "Epoch 7/10\n",
      "Epoch 8/10\n",
      "Epoch 9/10\n",
      "Epoch 10/10\n",
      "[CV]  mlp__epochs=10, mlp__batch_size=20, score=-52.30690991819786, total=  40.4s\n",
      "[CV] mlp__epochs=10, mlp__batch_size=20 ..............................\n",
      "Epoch 1/10\n",
      "Epoch 2/10\n",
      "Epoch 3/10\n",
      "Epoch 4/10\n",
      "Epoch 5/10\n",
      "Epoch 6/10\n",
      "Epoch 7/10\n",
      "Epoch 8/10\n",
      "Epoch 9/10\n",
      "Epoch 10/10\n",
      "[CV]  mlp__epochs=10, mlp__batch_size=20, score=-55.39901552821052, total=  44.1s\n",
      "[CV] mlp__epochs=10, mlp__batch_size=20 ..............................\n",
      "Epoch 1/10\n",
      "Epoch 2/10\n",
      "Epoch 3/10\n",
      "Epoch 4/10\n",
      "Epoch 5/10\n",
      "Epoch 6/10\n",
      "Epoch 7/10\n",
      "Epoch 8/10\n",
      "Epoch 9/10\n",
      "Epoch 10/10\n",
      "[CV]  mlp__epochs=10, mlp__batch_size=20, score=-60.684416769054046, total=  49.6s\n",
      "[CV] mlp__epochs=10, mlp__batch_size=10 ..............................\n",
      "Epoch 1/10\n",
      "Epoch 2/10\n",
      "Epoch 3/10\n",
      "Epoch 4/10\n",
      "Epoch 5/10\n",
      "Epoch 6/10\n",
      "Epoch 7/10\n",
      "Epoch 8/10\n",
      "Epoch 9/10\n",
      "Epoch 10/10\n",
      "[CV]  mlp__epochs=10, mlp__batch_size=10, score=-57.20200510447836, total= 1.6min\n",
      "[CV] mlp__epochs=10, mlp__batch_size=10 ..............................\n",
      "Epoch 1/10\n",
      "Epoch 2/10\n",
      "Epoch 3/10\n",
      "Epoch 4/10\n",
      "Epoch 5/10\n",
      "Epoch 6/10\n",
      "Epoch 7/10\n",
      "Epoch 8/10\n",
      "Epoch 9/10\n",
      "Epoch 10/10\n",
      "[CV]  mlp__epochs=10, mlp__batch_size=10, score=-61.62318945870611, total= 1.2min\n",
      "[CV] mlp__epochs=10, mlp__batch_size=10 ..............................\n",
      "Epoch 1/10\n",
      "Epoch 2/10\n",
      "Epoch 3/10\n",
      "Epoch 4/10\n",
      "Epoch 5/10\n",
      "Epoch 6/10\n",
      "Epoch 7/10\n",
      "Epoch 8/10\n",
      "Epoch 9/10\n",
      "Epoch 10/10\n",
      "[CV]  mlp__epochs=10, mlp__batch_size=10, score=-51.549651817735196, total= 1.2min\n",
      "[CV] mlp__epochs=10, mlp__batch_size=10 ..............................\n",
      "Epoch 1/10\n",
      "Epoch 2/10\n",
      "Epoch 3/10\n",
      "Epoch 4/10\n",
      "Epoch 5/10\n",
      "Epoch 6/10\n",
      "Epoch 7/10\n",
      "Epoch 8/10\n",
      "Epoch 9/10\n",
      "Epoch 10/10\n",
      "[CV]  mlp__epochs=10, mlp__batch_size=10, score=-55.3546349959966, total= 1.1min\n",
      "[CV] mlp__epochs=10, mlp__batch_size=10 ..............................\n",
      "Epoch 1/10\n",
      "Epoch 2/10\n",
      "Epoch 3/10\n",
      "Epoch 4/10\n",
      "Epoch 5/10\n",
      "Epoch 6/10\n",
      "Epoch 7/10\n",
      "Epoch 8/10\n",
      "Epoch 9/10\n",
      "Epoch 10/10\n",
      "[CV]  mlp__epochs=10, mlp__batch_size=10, score=-60.370224247317346, total=  51.8s\n",
      "[CV] mlp__epochs=5, mlp__batch_size=10 ...............................\n",
      "Epoch 1/5\n",
      "Epoch 2/5\n",
      "Epoch 3/5\n",
      "Epoch 4/5\n",
      "Epoch 5/5\n",
      "[CV]  mlp__epochs=5, mlp__batch_size=10, score=-55.89892072630633, total=  35.8s\n",
      "[CV] mlp__epochs=5, mlp__batch_size=10 ...............................\n",
      "Epoch 1/5\n",
      "Epoch 2/5\n",
      "Epoch 3/5\n",
      "Epoch 4/5\n",
      "Epoch 5/5\n",
      "[CV]  mlp__epochs=5, mlp__batch_size=10, score=-58.95970316356039, total=  36.0s\n",
      "[CV] mlp__epochs=5, mlp__batch_size=10 ...............................\n",
      "Epoch 1/5\n",
      "Epoch 2/5\n",
      "Epoch 3/5\n",
      "Epoch 4/5\n",
      "Epoch 5/5\n",
      "[CV]  mlp__epochs=5, mlp__batch_size=10, score=-49.89124418362021, total=  42.9s\n",
      "[CV] mlp__epochs=5, mlp__batch_size=10 ...............................\n",
      "Epoch 1/5\n",
      "Epoch 2/5\n",
      "Epoch 3/5\n",
      "Epoch 4/5\n",
      "Epoch 5/5\n",
      "[CV]  mlp__epochs=5, mlp__batch_size=10, score=-57.18719810658893, total=  36.4s\n",
      "[CV] mlp__epochs=5, mlp__batch_size=10 ...............................\n",
      "Epoch 1/5\n",
      "Epoch 2/5\n",
      "Epoch 3/5\n",
      "Epoch 4/5\n",
      "Epoch 5/5\n",
      "[CV]  mlp__epochs=5, mlp__batch_size=10, score=-60.6537503932825, total=  36.5s\n",
      "[CV] mlp__epochs=2, mlp__batch_size=10 ...............................\n",
      "Epoch 1/2\n",
      "Epoch 2/2\n",
      "[CV]  mlp__epochs=2, mlp__batch_size=10, score=-55.2807159188933, total=  27.2s\n",
      "[CV] mlp__epochs=2, mlp__batch_size=10 ...............................\n",
      "Epoch 1/2\n",
      "Epoch 2/2\n",
      "[CV]  mlp__epochs=2, mlp__batch_size=10, score=-60.57219592221265, total=  27.9s\n",
      "[CV] mlp__epochs=2, mlp__batch_size=10 ...............................\n",
      "Epoch 1/2\n",
      "Epoch 2/2\n",
      "[CV]  mlp__epochs=2, mlp__batch_size=10, score=-47.748997890303286, total=  27.4s\n",
      "[CV] mlp__epochs=2, mlp__batch_size=10 ...............................\n",
      "Epoch 1/2\n",
      "Epoch 2/2\n",
      "[CV]  mlp__epochs=2, mlp__batch_size=10, score=-52.69000872211343, total=  27.4s\n",
      "[CV] mlp__epochs=2, mlp__batch_size=10 ...............................\n",
      "Epoch 1/2\n",
      "Epoch 2/2\n",
      "[CV]  mlp__epochs=2, mlp__batch_size=10, score=-58.31708692893004, total=  27.9s\n",
      "[CV] mlp__epochs=5, mlp__batch_size=60 ...............................\n",
      "Epoch 1/5\n",
      "Epoch 2/5\n",
      "Epoch 3/5\n",
      "Epoch 4/5\n",
      "Epoch 5/5\n",
      "[CV]  mlp__epochs=5, mlp__batch_size=60, score=-52.62975933281659, total=  23.4s\n",
      "[CV] mlp__epochs=5, mlp__batch_size=60 ...............................\n",
      "Epoch 1/5\n",
      "Epoch 2/5\n",
      "Epoch 3/5\n",
      "Epoch 4/5\n",
      "Epoch 5/5\n",
      "[CV]  mlp__epochs=5, mlp__batch_size=60, score=-57.39368207583874, total=  23.4s\n",
      "[CV] mlp__epochs=5, mlp__batch_size=60 ...............................\n",
      "Epoch 1/5\n",
      "Epoch 2/5\n",
      "Epoch 3/5\n",
      "Epoch 4/5\n",
      "Epoch 5/5\n",
      "[CV]  mlp__epochs=5, mlp__batch_size=60, score=-47.850140970915994, total=  23.6s\n",
      "[CV] mlp__epochs=5, mlp__batch_size=60 ...............................\n",
      "Epoch 1/5\n",
      "Epoch 2/5\n",
      "Epoch 3/5\n",
      "Epoch 4/5\n",
      "Epoch 5/5\n",
      "[CV]  mlp__epochs=5, mlp__batch_size=60, score=-51.46289631318764, total=  23.5s\n",
      "[CV] mlp__epochs=5, mlp__batch_size=60 ...............................\n",
      "Epoch 1/5\n",
      "Epoch 2/5\n",
      "Epoch 3/5\n",
      "Epoch 4/5\n",
      "Epoch 5/5\n",
      "[CV]  mlp__epochs=5, mlp__batch_size=60, score=-58.10367864123463, total=  23.6s\n",
      "[CV] mlp__epochs=10, mlp__batch_size=100 .............................\n",
      "Epoch 1/10\n",
      "Epoch 2/10\n",
      "Epoch 3/10\n",
      "Epoch 4/10\n",
      "Epoch 5/10\n",
      "Epoch 6/10\n",
      "Epoch 7/10\n",
      "Epoch 8/10\n",
      "Epoch 9/10\n",
      "Epoch 10/10\n",
      "[CV]  mlp__epochs=10, mlp__batch_size=100, score=-54.03674085269421, total=  24.5s\n",
      "[CV] mlp__epochs=10, mlp__batch_size=100 .............................\n"
     ]
    },
    {
     "name": "stdout",
     "output_type": "stream",
     "text": [
      "Epoch 1/10\n",
      "Epoch 2/10\n",
      "Epoch 3/10\n",
      "Epoch 4/10\n",
      "Epoch 5/10\n",
      "Epoch 6/10\n",
      "Epoch 7/10\n",
      "Epoch 8/10\n",
      "Epoch 9/10\n",
      "Epoch 10/10\n",
      "[CV]  mlp__epochs=10, mlp__batch_size=100, score=-57.716952676256305, total=  24.4s\n",
      "[CV] mlp__epochs=10, mlp__batch_size=100 .............................\n",
      "Epoch 1/10\n",
      "Epoch 2/10\n",
      "Epoch 3/10\n",
      "Epoch 4/10\n",
      "Epoch 5/10\n",
      "Epoch 6/10\n",
      "Epoch 7/10\n",
      "Epoch 8/10\n",
      "Epoch 9/10\n",
      "Epoch 10/10\n",
      "[CV]  mlp__epochs=10, mlp__batch_size=100, score=-48.461329878257416, total=  25.4s\n",
      "[CV] mlp__epochs=10, mlp__batch_size=100 .............................\n",
      "Epoch 1/10\n",
      "Epoch 2/10\n",
      "Epoch 3/10\n",
      "Epoch 4/10\n",
      "Epoch 5/10\n",
      "Epoch 6/10\n",
      "Epoch 7/10\n",
      "Epoch 8/10\n",
      "Epoch 9/10\n",
      "Epoch 10/10\n",
      "[CV]  mlp__epochs=10, mlp__batch_size=100, score=-52.16354931411894, total=  24.7s\n",
      "[CV] mlp__epochs=10, mlp__batch_size=100 .............................\n",
      "Epoch 1/10\n",
      "Epoch 2/10\n",
      "Epoch 3/10\n",
      "Epoch 4/10\n",
      "Epoch 5/10\n",
      "Epoch 6/10\n",
      "Epoch 7/10\n",
      "Epoch 8/10\n",
      "Epoch 9/10\n",
      "Epoch 10/10\n",
      "[CV]  mlp__epochs=10, mlp__batch_size=100, score=-57.58391223809658, total=  25.4s\n"
     ]
    },
    {
     "name": "stderr",
     "output_type": "stream",
     "text": [
      "[Parallel(n_jobs=1)]: Done  50 out of  50 | elapsed: 29.8min finished\n"
     ]
    },
    {
     "name": "stdout",
     "output_type": "stream",
     "text": [
      "Epoch 1/5\n",
      "Epoch 2/5\n",
      "Epoch 3/5\n",
      "Epoch 4/5\n",
      "Epoch 5/5\n"
     ]
    },
    {
     "data": {
      "text/plain": [
       "55.88924694392959"
      ]
     },
     "execution_count": 382,
     "metadata": {},
     "output_type": "execute_result"
    }
   ],
   "source": [
    "rs.fit(p_reg_X_train,p_reg_y_train)\n",
    "y_pred = rs.predict(p_reg_X_test)\n",
    "mse_nn = mean_squared_error(p_reg_y_test,y_pred)\n",
    "mse_nn"
   ]
  },
  {
   "cell_type": "code",
   "execution_count": 383,
   "metadata": {},
   "outputs": [
    {
     "data": {
      "text/plain": [
       "{'mlp__epochs': 5, 'mlp__batch_size': 100}"
      ]
     },
     "execution_count": 383,
     "metadata": {},
     "output_type": "execute_result"
    }
   ],
   "source": [
    "rs.best_params_"
   ]
  },
  {
   "cell_type": "code",
   "execution_count": null,
   "metadata": {},
   "outputs": [],
   "source": []
  }
 ],
 "metadata": {
  "kernelspec": {
   "display_name": "Python 3",
   "language": "python",
   "name": "python3"
  },
  "language_info": {
   "codemirror_mode": {
    "name": "ipython",
    "version": 3
   },
   "file_extension": ".py",
   "mimetype": "text/x-python",
   "name": "python",
   "nbconvert_exporter": "python",
   "pygments_lexer": "ipython3",
   "version": "3.6.5"
  }
 },
 "nbformat": 4,
 "nbformat_minor": 2
}
