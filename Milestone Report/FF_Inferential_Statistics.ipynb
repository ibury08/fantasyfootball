{
 "cells": [
  {
   "cell_type": "code",
   "execution_count": 1,
   "metadata": {},
   "outputs": [],
   "source": [
    "import pandas as pd\n",
    "import numpy as np\n",
    "import matplotlib.pyplot as plt\n",
    "from statsmodels.stats.weightstats import ztest\n",
    "import seaborn as sns"
   ]
  },
  {
   "cell_type": "code",
   "execution_count": 2,
   "metadata": {},
   "outputs": [
    {
     "data": {
      "text/html": [
       "<div>\n",
       "<style scoped>\n",
       "    .dataframe tbody tr th:only-of-type {\n",
       "        vertical-align: middle;\n",
       "    }\n",
       "\n",
       "    .dataframe tbody tr th {\n",
       "        vertical-align: top;\n",
       "    }\n",
       "\n",
       "    .dataframe thead th {\n",
       "        text-align: right;\n",
       "    }\n",
       "</style>\n",
       "<table border=\"1\" class=\"dataframe\">\n",
       "  <thead>\n",
       "    <tr style=\"text-align: right;\">\n",
       "      <th></th>\n",
       "      <th>Unnamed: 0</th>\n",
       "      <th>gsis_id</th>\n",
       "      <th>player_id</th>\n",
       "      <th>team</th>\n",
       "      <th>name_fixed</th>\n",
       "      <th>position</th>\n",
       "      <th>years_pro</th>\n",
       "      <th>height</th>\n",
       "      <th>weight</th>\n",
       "      <th>start_time</th>\n",
       "      <th>...</th>\n",
       "      <th>avg3_tar</th>\n",
       "      <th>avg5_tar</th>\n",
       "      <th>avg3_rush_att</th>\n",
       "      <th>avg5_rush_att</th>\n",
       "      <th>prev_tar</th>\n",
       "      <th>prev_rush_att</th>\n",
       "      <th>prev_pass_att</th>\n",
       "      <th>avg3_pass_att</th>\n",
       "      <th>avg5_pass_att</th>\n",
       "      <th>change_vs_last</th>\n",
       "    </tr>\n",
       "  </thead>\n",
       "  <tbody>\n",
       "    <tr>\n",
       "      <th>0</th>\n",
       "      <td>1763</td>\n",
       "      <td>2017091003</td>\n",
       "      <td>00-0027793</td>\n",
       "      <td>PIT</td>\n",
       "      <td>A.Brown</td>\n",
       "      <td>WR</td>\n",
       "      <td>9.0</td>\n",
       "      <td>70.0</td>\n",
       "      <td>181.0</td>\n",
       "      <td>2017-09-10 17:00:00</td>\n",
       "      <td>...</td>\n",
       "      <td>0.000000</td>\n",
       "      <td>0.0</td>\n",
       "      <td>0.0</td>\n",
       "      <td>0.0</td>\n",
       "      <td>0.0</td>\n",
       "      <td>0.0</td>\n",
       "      <td>0.0</td>\n",
       "      <td>0.0</td>\n",
       "      <td>0.0</td>\n",
       "      <td>NaN</td>\n",
       "    </tr>\n",
       "    <tr>\n",
       "      <th>1</th>\n",
       "      <td>1777</td>\n",
       "      <td>2017091706</td>\n",
       "      <td>00-0027793</td>\n",
       "      <td>PIT</td>\n",
       "      <td>A.Brown</td>\n",
       "      <td>WR</td>\n",
       "      <td>9.0</td>\n",
       "      <td>70.0</td>\n",
       "      <td>181.0</td>\n",
       "      <td>2017-09-17 17:00:00</td>\n",
       "      <td>...</td>\n",
       "      <td>NaN</td>\n",
       "      <td>NaN</td>\n",
       "      <td>NaN</td>\n",
       "      <td>NaN</td>\n",
       "      <td>11.0</td>\n",
       "      <td>0.0</td>\n",
       "      <td>0.0</td>\n",
       "      <td>NaN</td>\n",
       "      <td>NaN</td>\n",
       "      <td>-15.0</td>\n",
       "    </tr>\n",
       "    <tr>\n",
       "      <th>2</th>\n",
       "      <td>1790</td>\n",
       "      <td>2017092403</td>\n",
       "      <td>00-0027793</td>\n",
       "      <td>PIT</td>\n",
       "      <td>A.Brown</td>\n",
       "      <td>WR</td>\n",
       "      <td>9.0</td>\n",
       "      <td>70.0</td>\n",
       "      <td>181.0</td>\n",
       "      <td>2017-09-24 17:00:00</td>\n",
       "      <td>...</td>\n",
       "      <td>NaN</td>\n",
       "      <td>NaN</td>\n",
       "      <td>NaN</td>\n",
       "      <td>NaN</td>\n",
       "      <td>11.0</td>\n",
       "      <td>0.0</td>\n",
       "      <td>0.0</td>\n",
       "      <td>NaN</td>\n",
       "      <td>NaN</td>\n",
       "      <td>13.3</td>\n",
       "    </tr>\n",
       "    <tr>\n",
       "      <th>3</th>\n",
       "      <td>1801</td>\n",
       "      <td>2017100102</td>\n",
       "      <td>00-0027793</td>\n",
       "      <td>PIT</td>\n",
       "      <td>A.Brown</td>\n",
       "      <td>WR</td>\n",
       "      <td>9.0</td>\n",
       "      <td>70.0</td>\n",
       "      <td>181.0</td>\n",
       "      <td>2017-10-01 17:00:00</td>\n",
       "      <td>...</td>\n",
       "      <td>12.000000</td>\n",
       "      <td>NaN</td>\n",
       "      <td>0.0</td>\n",
       "      <td>NaN</td>\n",
       "      <td>14.0</td>\n",
       "      <td>0.0</td>\n",
       "      <td>0.0</td>\n",
       "      <td>0.0</td>\n",
       "      <td>NaN</td>\n",
       "      <td>-16.6</td>\n",
       "    </tr>\n",
       "    <tr>\n",
       "      <th>4</th>\n",
       "      <td>1812</td>\n",
       "      <td>2017100807</td>\n",
       "      <td>00-0027793</td>\n",
       "      <td>PIT</td>\n",
       "      <td>A.Brown</td>\n",
       "      <td>WR</td>\n",
       "      <td>9.0</td>\n",
       "      <td>70.0</td>\n",
       "      <td>181.0</td>\n",
       "      <td>2017-10-08 17:00:00</td>\n",
       "      <td>...</td>\n",
       "      <td>11.333333</td>\n",
       "      <td>NaN</td>\n",
       "      <td>0.0</td>\n",
       "      <td>NaN</td>\n",
       "      <td>9.0</td>\n",
       "      <td>0.0</td>\n",
       "      <td>0.0</td>\n",
       "      <td>0.0</td>\n",
       "      <td>NaN</td>\n",
       "      <td>15.3</td>\n",
       "    </tr>\n",
       "  </tbody>\n",
       "</table>\n",
       "<p>5 rows × 60 columns</p>\n",
       "</div>"
      ],
      "text/plain": [
       "   Unnamed: 0     gsis_id   player_id team name_fixed position  years_pro  \\\n",
       "0        1763  2017091003  00-0027793  PIT    A.Brown       WR        9.0   \n",
       "1        1777  2017091706  00-0027793  PIT    A.Brown       WR        9.0   \n",
       "2        1790  2017092403  00-0027793  PIT    A.Brown       WR        9.0   \n",
       "3        1801  2017100102  00-0027793  PIT    A.Brown       WR        9.0   \n",
       "4        1812  2017100807  00-0027793  PIT    A.Brown       WR        9.0   \n",
       "\n",
       "   height  weight           start_time       ...         avg3_tar avg5_tar  \\\n",
       "0    70.0   181.0  2017-09-10 17:00:00       ...         0.000000      0.0   \n",
       "1    70.0   181.0  2017-09-17 17:00:00       ...              NaN      NaN   \n",
       "2    70.0   181.0  2017-09-24 17:00:00       ...              NaN      NaN   \n",
       "3    70.0   181.0  2017-10-01 17:00:00       ...        12.000000      NaN   \n",
       "4    70.0   181.0  2017-10-08 17:00:00       ...        11.333333      NaN   \n",
       "\n",
       "   avg3_rush_att avg5_rush_att prev_tar prev_rush_att  prev_pass_att  \\\n",
       "0            0.0           0.0      0.0           0.0            0.0   \n",
       "1            NaN           NaN     11.0           0.0            0.0   \n",
       "2            NaN           NaN     11.0           0.0            0.0   \n",
       "3            0.0           NaN     14.0           0.0            0.0   \n",
       "4            0.0           NaN      9.0           0.0            0.0   \n",
       "\n",
       "   avg3_pass_att  avg5_pass_att  change_vs_last  \n",
       "0            0.0            0.0             NaN  \n",
       "1            NaN            NaN           -15.0  \n",
       "2            NaN            NaN            13.3  \n",
       "3            0.0            NaN           -16.6  \n",
       "4            0.0            NaN            15.3  \n",
       "\n",
       "[5 rows x 60 columns]"
      ]
     },
     "execution_count": 2,
     "metadata": {},
     "output_type": "execute_result"
    }
   ],
   "source": [
    "#Importing checkpoint of plays by top 25 players in each position.\n",
    "b = pd.read_csv('/Users/ianbury/Downloads/top_plays_data.csv')\n",
    "b.head()"
   ]
  },
  {
   "cell_type": "code",
   "execution_count": 3,
   "metadata": {},
   "outputs": [],
   "source": [
    "a = pd.read_csv('/Users/ianbury/Downloads/chckpt1.csv')"
   ]
  },
  {
   "cell_type": "markdown",
   "metadata": {},
   "source": [
    "# Is the Thursday curse real?\n",
    "Common practice says players typically perform worse on Thursday games, due to the shorter recovery week."
   ]
  },
  {
   "cell_type": "code",
   "execution_count": 4,
   "metadata": {},
   "outputs": [
    {
     "name": "stdout",
     "output_type": "stream",
     "text": [
      "469\n",
      "6296\n"
     ]
    }
   ],
   "source": [
    "th = b[(b.day_of_week=='Thursday')][['fantasy_score']]\n",
    "not_th = b[(b.day_of_week!='Thursday')][['fantasy_score']]\n",
    "print (len(th))\n",
    "print( len(not_th))"
   ]
  },
  {
   "cell_type": "code",
   "execution_count": 5,
   "metadata": {},
   "outputs": [
    {
     "name": "stdout",
     "output_type": "stream",
     "text": [
      "Mean Score / StdDev - Thursday: 12.555010660980825 / 8.336908858019415\n",
      "Mean Score / StdDev - Rest of Week: 12.760346251588272 / 8.329751903852163\n"
     ]
    }
   ],
   "source": [
    "print('Mean Score / StdDev - Thursday: '+str(np.mean(th.fantasy_score))+' / '+str(np.std(th.fantasy_score)))\n",
    "print('Mean Score / StdDev - Rest of Week: '+str(np.mean(not_th.fantasy_score))+' / '+str(np.std(not_th.fantasy_score)))"
   ]
  },
  {
   "cell_type": "code",
   "execution_count": 6,
   "metadata": {},
   "outputs": [],
   "source": [
    "\n",
    "import scipy.stats as st"
   ]
  },
  {
   "cell_type": "code",
   "execution_count": 7,
   "metadata": {},
   "outputs": [
    {
     "data": {
      "text/plain": [
       "(array([-0.51490482]), array([0.30330977]))"
      ]
     },
     "execution_count": 7,
     "metadata": {},
     "output_type": "execute_result"
    }
   ],
   "source": [
    "ztest(th,not_th,0,alternative='smaller')"
   ]
  },
  {
   "cell_type": "code",
   "execution_count": 8,
   "metadata": {},
   "outputs": [],
   "source": [
    "def z_score(sample1,sample2):\n",
    "    \"\"\"This function returns a z-score and standard error in a tuple for a two sample z-test of means\"\"\"\n",
    "    return ((np.mean(sample1)-np.mean(sample2)) / np.sqrt((np.std(sample1)**2)/len(sample1)+(np.std(sample2)**2)/len(sample2)),np.sqrt((np.std(sample1)**2)/len(sample1)+(np.std(sample2)**2)/len(sample2)))"
   ]
  },
  {
   "cell_type": "code",
   "execution_count": 9,
   "metadata": {},
   "outputs": [
    {
     "name": "stdout",
     "output_type": "stream",
     "text": [
      "Z-score: -0.5146001354641899\n",
      "p=0.3034162352160796\n",
      "[-0.9874142   0.57674302]\n"
     ]
    }
   ],
   "source": [
    "#H(0): There is no difference in mean player performance between Thursday games and the rest of the week.\n",
    "#H(a): Thursday games have lower player performance than the rest of the week.\n",
    "#1-sided z-test, p=.05\n",
    "z,se=z_score(th.fantasy_score,not_th.fantasy_score)\n",
    "print('Z-score: '+str(z))\n",
    "p_val = st.norm.cdf(z)\n",
    "print('p='+str(p_val))\n",
    "#We do not reject the null hypothesis; no significant difference in player performance on Thursdays.\n",
    "\n",
    "ci = (np.mean(th.fantasy_score)-np.mean(not_th.fantasy_score))+np.array([-1,1])*1.96*se\n",
    "print(ci)\n",
    "#With 95% confidence, the actual difference in mean player performance between Thursday \n",
    "#and rest of the week is between -0.99 and 0.58"
   ]
  },
  {
   "cell_type": "code",
   "execution_count": 34,
   "metadata": {},
   "outputs": [
    {
     "data": {
      "image/png": "[encoded data removed]",
      "text/plain": [
       "<Figure size 432x288 with 1 Axes>"
      ]
     },
     "metadata": {},
     "output_type": "display_data"
    }
   ],
   "source": [
    "_=sns.distplot(th.fantasy_score,hist=False, norm_hist=True,hist_kws={'alpha':0.5},kde_kws={\"shade\": True},label='Thurs.')\n",
    "_=sns.distplot(not_th.fantasy_score,hist=False, norm_hist=True,hist_kws={'alpha':0.5},kde_kws={\"shade\": True},label='Rest of week')\n",
    "_=plt.xlabel('Player Fantasy Score')\n",
    "_=plt.title('Distribution of Player Fantasy Score by Game Day')\n",
    "_=plt.legend()"
   ]
  },
  {
   "cell_type": "markdown",
   "metadata": {},
   "source": [
    "If the players' performance from a fantasy score perspective is unaffected, did this common sense arise from the final game scores?"
   ]
  },
  {
   "cell_type": "code",
   "execution_count": 10,
   "metadata": {},
   "outputs": [],
   "source": [
    "games = a[['gsis_id','home_score','away_score','day_of_week']]"
   ]
  },
  {
   "cell_type": "code",
   "execution_count": 11,
   "metadata": {},
   "outputs": [],
   "source": [
    "games=games.drop_duplicates()"
   ]
  },
  {
   "cell_type": "code",
   "execution_count": 12,
   "metadata": {},
   "outputs": [],
   "source": [
    "games['total']=games['home_score']+games['away_score']\n",
    "games=games[['total','day_of_week']]"
   ]
  },
  {
   "cell_type": "code",
   "execution_count": 20,
   "metadata": {},
   "outputs": [],
   "source": [
    "g_th = games[(games.day_of_week=='Thursday')]\n",
    "g_n = games[(games.day_of_week!='Thursday')]"
   ]
  },
  {
   "cell_type": "code",
   "execution_count": 14,
   "metadata": {
    "scrolled": true
   },
   "outputs": [
    {
     "name": "stdout",
     "output_type": "stream",
     "text": [
      "Mean Score / StdDev - Thursday: 43.83458646616541 / 14.250804198981601\n",
      "Mean Score / StdDev - Rest of Week: 44.89267618608936 / 13.777798306939863\n"
     ]
    }
   ],
   "source": [
    "print('Mean Score / StdDev - Thursday: '+str(np.mean(g_th.total))+' / '+str(np.std(g_th.total)))\n",
    "print('Mean Score / StdDev - Rest of Week: '+str(np.mean(g_n.total))+' / '+str(np.std(g_n.total)))"
   ]
  },
  {
   "cell_type": "code",
   "execution_count": null,
   "metadata": {},
   "outputs": [],
   "source": []
  },
  {
   "cell_type": "code",
   "execution_count": 15,
   "metadata": {},
   "outputs": [
    {
     "name": "stdout",
     "output_type": "stream",
     "text": [
      "Number of Thurs. games: 133, mean: 43.83458646616541\n",
      "Number of non-Thurs. games: 2171, mean: 44.89267618608936\n",
      "mean_all: 44.83159722222222\n"
     ]
    }
   ],
   "source": [
    "#Bootstrapping - 2 sample, difference of means\n",
    "#H(0): No difference in total score\n",
    "#H(a): Thursday games have lower total scores\n",
    "n_th = len(g_th)\n",
    "print('Number of Thurs. games: '+str(n_th)+', mean: '+str(np.mean(g_th.total)))\n",
    "n_n = len(g_n)\n",
    "print('Number of non-Thurs. games: '+str(n_n)+', mean: '+str(np.mean(g_n.total)))\n",
    "b = np.concatenate((g_th.total,g_n.total))\n",
    "print('mean_all: '+str(np.mean(b)))\n"
   ]
  },
  {
   "cell_type": "code",
   "execution_count": 16,
   "metadata": {},
   "outputs": [
    {
     "name": "stdout",
     "output_type": "stream",
     "text": [
      "p-value: 0.1896\n"
     ]
    }
   ],
   "source": [
    "diff_means = np.mean(g_th.total)-np.mean(g_n.total)\n",
    "\n",
    "p_diffs = np.empty(10000)\n",
    "\n",
    "for i in range(10000):\n",
    "    scrambled = np.random.permutation(b)\n",
    "    th_scrambled = scrambled[:133]\n",
    "    n_scrambled = scrambled[133:]\n",
    "    p_diffs[i] = np.mean(th_scrambled)-np.mean(n_scrambled)\n",
    "\n",
    "\n",
    "p = np.sum(p_diffs<=diff_means)/len(p_diffs)\n",
    "print( 'p-value: '+str(p))"
   ]
  },
  {
   "cell_type": "markdown",
   "metadata": {},
   "source": [
    "Again, we fail to reject the null hypothesis; we can't say that Thursday games have a lower total score on average."
   ]
  },
  {
   "cell_type": "code",
   "execution_count": 17,
   "metadata": {},
   "outputs": [
    {
     "data": {
      "image/png": "[encoded data removed]",
      "text/plain": [
       "<Figure size 432x288 with 1 Axes>"
      ]
     },
     "metadata": {},
     "output_type": "display_data"
    }
   ],
   "source": [
    "_=plt.hist(p_diffs)\n",
    "_=plt.xlabel('Difference in means')\n",
    "_=plt.ylabel('Number of samples')\n",
    "_=plt.axvline(x=diff_means,c='r')\n",
    "_=plt.annotate(xy=(-3,2500),s='Sample Diff. of Means')"
   ]
  },
  {
   "cell_type": "markdown",
   "metadata": {},
   "source": [
    "# Weather and Quarterbacks"
   ]
  },
  {
   "cell_type": "code",
   "execution_count": 18,
   "metadata": {},
   "outputs": [
    {
     "ename": "AttributeError",
     "evalue": "'numpy.ndarray' object has no attribute 'position'",
     "output_type": "error",
     "traceback": [
      "\u001b[0;31m---------------------------------------------------------------------------\u001b[0m",
      "\u001b[0;31mAttributeError\u001b[0m                            Traceback (most recent call last)",
      "\u001b[0;32m<ipython-input-18-1789d2a79af3>\u001b[0m in \u001b[0;36m<module>\u001b[0;34m()\u001b[0m\n\u001b[0;32m----> 1\u001b[0;31m \u001b[0mg\u001b[0m\u001b[0;34m=\u001b[0m\u001b[0mb\u001b[0m\u001b[0;34m[\u001b[0m\u001b[0;34m(\u001b[0m\u001b[0mb\u001b[0m\u001b[0;34m.\u001b[0m\u001b[0mposition\u001b[0m\u001b[0;34m==\u001b[0m\u001b[0;34m'QB'\u001b[0m\u001b[0;34m)\u001b[0m\u001b[0;34m&\u001b[0m\u001b[0;34m(\u001b[0m\u001b[0mb\u001b[0m\u001b[0;34m[\u001b[0m\u001b[0;34m'desc_simple'\u001b[0m\u001b[0;34m]\u001b[0m\u001b[0;34m==\u001b[0m\u001b[0;34m'Windy'\u001b[0m\u001b[0;34m)\u001b[0m\u001b[0;34m]\u001b[0m\u001b[0;34m[\u001b[0m\u001b[0;34m'fantasy_score'\u001b[0m\u001b[0;34m]\u001b[0m\u001b[0;34m\u001b[0m\u001b[0m\n\u001b[0m\u001b[1;32m      2\u001b[0m \u001b[0mn\u001b[0m\u001b[0;34m=\u001b[0m\u001b[0mb\u001b[0m\u001b[0;34m[\u001b[0m\u001b[0;34m(\u001b[0m\u001b[0mb\u001b[0m\u001b[0;34m.\u001b[0m\u001b[0mposition\u001b[0m\u001b[0;34m==\u001b[0m\u001b[0;34m'QB'\u001b[0m\u001b[0;34m)\u001b[0m\u001b[0;34m&\u001b[0m\u001b[0;34m(\u001b[0m\u001b[0mb\u001b[0m\u001b[0;34m[\u001b[0m\u001b[0;34m'desc_simple'\u001b[0m\u001b[0;34m]\u001b[0m\u001b[0;34m!=\u001b[0m\u001b[0;34m'Windy'\u001b[0m\u001b[0;34m)\u001b[0m\u001b[0;34m]\u001b[0m\u001b[0;34m[\u001b[0m\u001b[0;34m'fantasy_score'\u001b[0m\u001b[0;34m]\u001b[0m\u001b[0;34m\u001b[0m\u001b[0m\n\u001b[1;32m      3\u001b[0m \u001b[0mprint\u001b[0m\u001b[0;34m(\u001b[0m\u001b[0mztest\u001b[0m\u001b[0;34m(\u001b[0m\u001b[0mg\u001b[0m\u001b[0;34m,\u001b[0m\u001b[0mn\u001b[0m\u001b[0;34m,\u001b[0m\u001b[0;36m0\u001b[0m\u001b[0;34m,\u001b[0m\u001b[0;34m'smaller'\u001b[0m\u001b[0;34m)\u001b[0m\u001b[0;34m)\u001b[0m\u001b[0;34m\u001b[0m\u001b[0m\n\u001b[1;32m      4\u001b[0m \u001b[0mprint\u001b[0m\u001b[0;34m(\u001b[0m\u001b[0mnp\u001b[0m\u001b[0;34m.\u001b[0m\u001b[0mmean\u001b[0m\u001b[0;34m(\u001b[0m\u001b[0mn\u001b[0m\u001b[0;34m)\u001b[0m\u001b[0;34m)\u001b[0m\u001b[0;34m\u001b[0m\u001b[0m\n\u001b[1;32m      5\u001b[0m \u001b[0mprint\u001b[0m\u001b[0;34m(\u001b[0m\u001b[0mnp\u001b[0m\u001b[0;34m.\u001b[0m\u001b[0mmean\u001b[0m\u001b[0;34m(\u001b[0m\u001b[0mg\u001b[0m\u001b[0;34m)\u001b[0m\u001b[0;34m)\u001b[0m\u001b[0;34m\u001b[0m\u001b[0m\n",
      "\u001b[0;31mAttributeError\u001b[0m: 'numpy.ndarray' object has no attribute 'position'"
     ]
    }
   ],
   "source": [
    "g=b[(b.position=='QB')&(b['desc_simple']=='Windy')]['fantasy_score']\n",
    "n=b[(b.position=='QB')&(b['desc_simple']!='Windy')]['fantasy_score']\n",
    "print(ztest(g,n,0,'smaller'))\n",
    "print(np.mean(n))\n",
    "print(np.mean(g))"
   ]
  },
  {
   "cell_type": "code",
   "execution_count": null,
   "metadata": {},
   "outputs": [],
   "source": [
    "sns.distplot(g,hist=False,  kde_kws={\"shade\": True},label='Windy')\n",
    "sns.distplot(n,hist=False,  kde_kws={\"shade\": True},label='Not_Windy')\n",
    "plt.title('QBs in Windy Weather')"
   ]
  },
  {
   "cell_type": "code",
   "execution_count": null,
   "metadata": {},
   "outputs": [],
   "source": [
    "\n",
    "\n",
    "g=b[(b.position=='QB')&(b['desc_simple']=='Good')]['fantasy_score']\n",
    "n=b[(b.position=='QB')&(b['desc_simple']!='Good')]['fantasy_score']\n",
    "print(ztest(g,n,0,'larger'))\n",
    "print(np.mean(n))\n",
    "print(np.mean(g))"
   ]
  },
  {
   "cell_type": "code",
   "execution_count": null,
   "metadata": {},
   "outputs": [],
   "source": [
    "sns.distplot(g,hist=False,  kde_kws={\"shade\": True},label='Good')\n",
    "sns.distplot(n,hist=False,  kde_kws={\"shade\": True},label='Not_Good')\n",
    "plt.title('QBs in Good Weather')"
   ]
  },
  {
   "cell_type": "code",
   "execution_count": null,
   "metadata": {},
   "outputs": [],
   "source": []
  }
 ],
 "metadata": {
  "kernelspec": {
   "display_name": "Python 3",
   "language": "python",
   "name": "python3"
  },
  "language_info": {
   "codemirror_mode": {
    "name": "ipython",
    "version": 3
   },
   "file_extension": ".py",
   "mimetype": "text/x-python",
   "name": "python",
   "nbconvert_exporter": "python",
   "pygments_lexer": "ipython3",
   "version": "3.6.5"
  }
 },
 "nbformat": 4,
 "nbformat_minor": 2
}
